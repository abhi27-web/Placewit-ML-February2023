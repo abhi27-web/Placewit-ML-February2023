{
 "cells": [
  {
   "cell_type": "code",
   "execution_count": 1,
   "id": "b3577935",
   "metadata": {
    "_cell_guid": "b1076dfc-b9ad-4769-8c92-a6c4dae69d19",
    "_uuid": "8f2839f25d086af736a60e9eeb907d3b93b6e0e5",
    "execution": {
     "iopub.execute_input": "2023-01-29T05:33:30.416018Z",
     "iopub.status.busy": "2023-01-29T05:33:30.415354Z",
     "iopub.status.idle": "2023-01-29T05:33:30.431606Z",
     "shell.execute_reply": "2023-01-29T05:33:30.430526Z"
    },
    "papermill": {
     "duration": 0.033246,
     "end_time": "2023-01-29T05:33:30.434736",
     "exception": false,
     "start_time": "2023-01-29T05:33:30.401490",
     "status": "completed"
    },
    "tags": []
   },
   "outputs": [
    {
     "name": "stdout",
     "output_type": "stream",
     "text": [
      "/kaggle/input/goodreads-books-reviews-290312/goodreads_test.csv\n",
      "/kaggle/input/goodreads-books-reviews-290312/goodreads_sample_submission.csv\n",
      "/kaggle/input/goodreads-books-reviews-290312/goodreads_train.csv\n"
     ]
    }
   ],
   "source": [
    "# This Python 3 environment comes with many helpful analytics libraries installed\n",
    "# It is defined by the kaggle/python Docker image: https://github.com/kaggle/docker-python\n",
    "# For example, here's several helpful packages to load\n",
    "\n",
    "import numpy as np # linear algebra\n",
    "import pandas as pd # data processing, CSV file I/O (e.g. pd.read_csv)\n",
    "\n",
    "# Input data files are available in the read-only \"../input/\" directory\n",
    "# For example, running this (by clicking run or pressing Shift+Enter) will list all files under the input directory\n",
    "\n",
    "import os\n",
    "for dirname, _, filenames in os.walk('/kaggle/input'):\n",
    "    for filename in filenames:\n",
    "        print(os.path.join(dirname, filename))\n",
    "\n",
    "# You can write up to 20GB to the current directory (/kaggle/working/) that gets preserved as output when you create a version using \"Save & Run All\" \n",
    "# You can also write temporary files to /kaggle/temp/, but they won't be saved outside of the current session"
   ]
  },
  {
   "cell_type": "code",
   "execution_count": 2,
   "id": "501a6279",
   "metadata": {
    "execution": {
     "iopub.execute_input": "2023-01-29T05:33:30.459270Z",
     "iopub.status.busy": "2023-01-29T05:33:30.458116Z",
     "iopub.status.idle": "2023-01-29T05:33:31.700302Z",
     "shell.execute_reply": "2023-01-29T05:33:31.699160Z"
    },
    "papermill": {
     "duration": 1.257819,
     "end_time": "2023-01-29T05:33:31.703496",
     "exception": false,
     "start_time": "2023-01-29T05:33:30.445677",
     "status": "completed"
    },
    "tags": []
   },
   "outputs": [],
   "source": [
    "import pandas as pd\n",
    "import csv\n",
    "import re \n",
    "import string\n",
    "from sklearn.model_selection import train_test_split\n",
    "from sklearn.feature_extraction.text import CountVectorizer\n",
    "from sklearn.feature_extraction.text import TfidfVectorizer"
   ]
  },
  {
   "cell_type": "code",
   "execution_count": 3,
   "id": "86f04101",
   "metadata": {
    "execution": {
     "iopub.execute_input": "2023-01-29T05:33:31.729188Z",
     "iopub.status.busy": "2023-01-29T05:33:31.728069Z",
     "iopub.status.idle": "2023-01-29T05:34:17.391083Z",
     "shell.execute_reply": "2023-01-29T05:34:17.389544Z"
    },
    "papermill": {
     "duration": 45.680373,
     "end_time": "2023-01-29T05:34:17.394366",
     "exception": false,
     "start_time": "2023-01-29T05:33:31.713993",
     "status": "completed"
    },
    "tags": []
   },
   "outputs": [],
   "source": [
    "train = pd.read_csv(\"/kaggle/input/goodreads-books-reviews-290312/goodreads_train.csv\")\n",
    "test = pd.read_csv(\"/kaggle/input/goodreads-books-reviews-290312/goodreads_test.csv\")"
   ]
  },
  {
   "cell_type": "code",
   "execution_count": 4,
   "id": "4b12069c",
   "metadata": {
    "execution": {
     "iopub.execute_input": "2023-01-29T05:34:17.417588Z",
     "iopub.status.busy": "2023-01-29T05:34:17.417163Z",
     "iopub.status.idle": "2023-01-29T05:34:17.715719Z",
     "shell.execute_reply": "2023-01-29T05:34:17.714459Z"
    },
    "papermill": {
     "duration": 0.314142,
     "end_time": "2023-01-29T05:34:17.718794",
     "exception": false,
     "start_time": "2023-01-29T05:34:17.404652",
     "status": "completed"
    },
    "tags": []
   },
   "outputs": [],
   "source": [
    "train0=train[train['rating']==0]\n",
    "train1=train[train['rating']==1]\n",
    "train2=train[train['rating']==2]\n",
    "train3=train[train['rating']==3]\n",
    "train4=train[train['rating']==4]\n",
    "train5=train[train['rating']==5]"
   ]
  },
  {
   "cell_type": "code",
   "execution_count": 5,
   "id": "b416fb05",
   "metadata": {
    "execution": {
     "iopub.execute_input": "2023-01-29T05:34:17.741845Z",
     "iopub.status.busy": "2023-01-29T05:34:17.741364Z",
     "iopub.status.idle": "2023-01-29T05:34:17.752339Z",
     "shell.execute_reply": "2023-01-29T05:34:17.751175Z"
    },
    "papermill": {
     "duration": 0.02588,
     "end_time": "2023-01-29T05:34:17.755142",
     "exception": false,
     "start_time": "2023-01-29T05:34:17.729262",
     "status": "completed"
    },
    "tags": []
   },
   "outputs": [
    {
     "data": {
      "text/plain": [
       "((30988, 11),\n",
       " (28718, 11),\n",
       " (72627, 11),\n",
       " (188972, 11),\n",
       " (313688, 11),\n",
       " (265007, 11))"
      ]
     },
     "execution_count": 5,
     "metadata": {},
     "output_type": "execute_result"
    }
   ],
   "source": [
    "train0.shape, train1.shape, train2.shape, train3.shape, train4.shape, train5.shape"
   ]
  },
  {
   "cell_type": "code",
   "execution_count": 6,
   "id": "170446db",
   "metadata": {
    "execution": {
     "iopub.execute_input": "2023-01-29T05:34:17.778422Z",
     "iopub.status.busy": "2023-01-29T05:34:17.777468Z",
     "iopub.status.idle": "2023-01-29T05:34:17.784639Z",
     "shell.execute_reply": "2023-01-29T05:34:17.783576Z"
    },
    "papermill": {
     "duration": 0.021579,
     "end_time": "2023-01-29T05:34:17.787223",
     "exception": false,
     "start_time": "2023-01-29T05:34:17.765644",
     "status": "completed"
    },
    "tags": []
   },
   "outputs": [],
   "source": [
    "train0=train0[:int(train0.shape[0]/100)]\n",
    "train1=train1[:int(train1.shape[0]/100)]\n",
    "train2=train2[:int(train2.shape[0]/100)]\n",
    "train3=train3[:int(train3.shape[0]/100)]\n",
    "train4=train4[:int(train4.shape[0]/100)]\n",
    "train5=train5[:int(train5.shape[0]/100)]"
   ]
  },
  {
   "cell_type": "code",
   "execution_count": 7,
   "id": "26ed3f74",
   "metadata": {
    "execution": {
     "iopub.execute_input": "2023-01-29T05:34:17.810993Z",
     "iopub.status.busy": "2023-01-29T05:34:17.810155Z",
     "iopub.status.idle": "2023-01-29T05:34:17.817774Z",
     "shell.execute_reply": "2023-01-29T05:34:17.816712Z"
    },
    "papermill": {
     "duration": 0.022512,
     "end_time": "2023-01-29T05:34:17.820236",
     "exception": false,
     "start_time": "2023-01-29T05:34:17.797724",
     "status": "completed"
    },
    "tags": []
   },
   "outputs": [
    {
     "data": {
      "text/plain": [
       "((309, 11), (287, 11), (726, 11), (1889, 11), (3136, 11), (2650, 11))"
      ]
     },
     "execution_count": 7,
     "metadata": {},
     "output_type": "execute_result"
    }
   ],
   "source": [
    "train0.shape, train1.shape, train2.shape, train3.shape, train4.shape, train5.shape"
   ]
  },
  {
   "cell_type": "code",
   "execution_count": 8,
   "id": "d13fdca3",
   "metadata": {
    "execution": {
     "iopub.execute_input": "2023-01-29T05:34:17.847127Z",
     "iopub.status.busy": "2023-01-29T05:34:17.846658Z",
     "iopub.status.idle": "2023-01-29T05:34:17.916722Z",
     "shell.execute_reply": "2023-01-29T05:34:17.915144Z"
    },
    "papermill": {
     "duration": 0.086373,
     "end_time": "2023-01-29T05:34:17.919743",
     "exception": false,
     "start_time": "2023-01-29T05:34:17.833370",
     "status": "completed"
    },
    "tags": []
   },
   "outputs": [],
   "source": [
    "train=pd.concat([train0,train1,train2,train3,train4,train5],axis=0)"
   ]
  },
  {
   "cell_type": "code",
   "execution_count": 9,
   "id": "776d5a21",
   "metadata": {
    "execution": {
     "iopub.execute_input": "2023-01-29T05:34:17.944201Z",
     "iopub.status.busy": "2023-01-29T05:34:17.943369Z",
     "iopub.status.idle": "2023-01-29T05:34:17.951186Z",
     "shell.execute_reply": "2023-01-29T05:34:17.949965Z"
    },
    "papermill": {
     "duration": 0.022786,
     "end_time": "2023-01-29T05:34:17.953772",
     "exception": false,
     "start_time": "2023-01-29T05:34:17.930986",
     "status": "completed"
    },
    "tags": []
   },
   "outputs": [
    {
     "data": {
      "text/plain": [
       "(8997, 11)"
      ]
     },
     "execution_count": 9,
     "metadata": {},
     "output_type": "execute_result"
    }
   ],
   "source": [
    "train.shape"
   ]
  },
  {
   "cell_type": "code",
   "execution_count": 10,
   "id": "bd95ad5a",
   "metadata": {
    "execution": {
     "iopub.execute_input": "2023-01-29T05:34:17.978026Z",
     "iopub.status.busy": "2023-01-29T05:34:17.977577Z",
     "iopub.status.idle": "2023-01-29T05:34:17.984133Z",
     "shell.execute_reply": "2023-01-29T05:34:17.983083Z"
    },
    "papermill": {
     "duration": 0.022038,
     "end_time": "2023-01-29T05:34:17.986497",
     "exception": false,
     "start_time": "2023-01-29T05:34:17.964459",
     "status": "completed"
    },
    "tags": []
   },
   "outputs": [
    {
     "data": {
      "text/plain": [
       "Index(['user_id', 'book_id', 'review_id', 'rating', 'review_text',\n",
       "       'date_added', 'date_updated', 'read_at', 'started_at', 'n_votes',\n",
       "       'n_comments'],\n",
       "      dtype='object')"
      ]
     },
     "execution_count": 10,
     "metadata": {},
     "output_type": "execute_result"
    }
   ],
   "source": [
    "train.columns"
   ]
  },
  {
   "cell_type": "code",
   "execution_count": 11,
   "id": "85784089",
   "metadata": {
    "execution": {
     "iopub.execute_input": "2023-01-29T05:34:18.010188Z",
     "iopub.status.busy": "2023-01-29T05:34:18.009459Z",
     "iopub.status.idle": "2023-01-29T05:34:18.650399Z",
     "shell.execute_reply": "2023-01-29T05:34:18.648959Z"
    },
    "papermill": {
     "duration": 0.655732,
     "end_time": "2023-01-29T05:34:18.653124",
     "exception": false,
     "start_time": "2023-01-29T05:34:17.997392",
     "status": "completed"
    },
    "tags": []
   },
   "outputs": [
    {
     "data": {
      "image/png": "[encoded data removed]",
      "text/plain": [
       "<Figure size 432x288 with 2 Axes>"
      ]
     },
     "metadata": {
      "needs_background": "light"
     },
     "output_type": "display_data"
    }
   ],
   "source": [
    "import seaborn as sns\n",
    "\n",
    "#plotting the heatmap for correlation\n",
    "ax = sns.heatmap(train.corr(), annot=True)"
   ]
  },
  {
   "cell_type": "code",
   "execution_count": 12,
   "id": "74122cc6",
   "metadata": {
    "execution": {
     "iopub.execute_input": "2023-01-29T05:34:18.677536Z",
     "iopub.status.busy": "2023-01-29T05:34:18.677121Z",
     "iopub.status.idle": "2023-01-29T05:34:18.692620Z",
     "shell.execute_reply": "2023-01-29T05:34:18.691418Z"
    },
    "papermill": {
     "duration": 0.03078,
     "end_time": "2023-01-29T05:34:18.695324",
     "exception": false,
     "start_time": "2023-01-29T05:34:18.664544",
     "status": "completed"
    },
    "tags": []
   },
   "outputs": [],
   "source": [
    "train = train.drop(['user_id', 'book_id', 'review_id', 'date_added', 'date_updated', 'n_votes','read_at', 'started_at','n_comments'], axis = 1)"
   ]
  },
  {
   "cell_type": "code",
   "execution_count": 13,
   "id": "26f70ef9",
   "metadata": {
    "execution": {
     "iopub.execute_input": "2023-01-29T05:34:18.720435Z",
     "iopub.status.busy": "2023-01-29T05:34:18.719991Z",
     "iopub.status.idle": "2023-01-29T05:34:18.741608Z",
     "shell.execute_reply": "2023-01-29T05:34:18.740344Z"
    },
    "papermill": {
     "duration": 0.037305,
     "end_time": "2023-01-29T05:34:18.744379",
     "exception": false,
     "start_time": "2023-01-29T05:34:18.707074",
     "status": "completed"
    },
    "tags": []
   },
   "outputs": [
    {
     "data": {
      "text/html": [
       "<div>\n",
       "<style scoped>\n",
       "    .dataframe tbody tr th:only-of-type {\n",
       "        vertical-align: middle;\n",
       "    }\n",
       "\n",
       "    .dataframe tbody tr th {\n",
       "        vertical-align: top;\n",
       "    }\n",
       "\n",
       "    .dataframe thead th {\n",
       "        text-align: right;\n",
       "    }\n",
       "</style>\n",
       "<table border=\"1\" class=\"dataframe\">\n",
       "  <thead>\n",
       "    <tr style=\"text-align: right;\">\n",
       "      <th></th>\n",
       "      <th>rating</th>\n",
       "      <th>review_text</th>\n",
       "    </tr>\n",
       "  </thead>\n",
       "  <tbody>\n",
       "    <tr>\n",
       "      <th>3</th>\n",
       "      <td>0</td>\n",
       "      <td>Recommended reading to understand what is goin...</td>\n",
       "    </tr>\n",
       "    <tr>\n",
       "      <th>7</th>\n",
       "      <td>0</td>\n",
       "      <td>Numerous people in publishing have told me thi...</td>\n",
       "    </tr>\n",
       "    <tr>\n",
       "      <th>13</th>\n",
       "      <td>0</td>\n",
       "      <td>Recommended by David Risher</td>\n",
       "    </tr>\n",
       "    <tr>\n",
       "      <th>54</th>\n",
       "      <td>0</td>\n",
       "      <td>Well if Melanie says its her BBE, I gotta chec...</td>\n",
       "    </tr>\n",
       "    <tr>\n",
       "      <th>58</th>\n",
       "      <td>0</td>\n",
       "      <td>If steve recommends it, it must be good!</td>\n",
       "    </tr>\n",
       "    <tr>\n",
       "      <th>...</th>\n",
       "      <td>...</td>\n",
       "      <td>...</td>\n",
       "    </tr>\n",
       "    <tr>\n",
       "      <th>8008</th>\n",
       "      <td>5</td>\n",
       "      <td>Loose ends are tied up and old mysteries are s...</td>\n",
       "    </tr>\n",
       "    <tr>\n",
       "      <th>8013</th>\n",
       "      <td>5</td>\n",
       "      <td>This was my most recent audio book. The narrat...</td>\n",
       "    </tr>\n",
       "    <tr>\n",
       "      <th>8022</th>\n",
       "      <td>5</td>\n",
       "      <td>Harold Fry receives a letter in the mail from ...</td>\n",
       "    </tr>\n",
       "    <tr>\n",
       "      <th>8028</th>\n",
       "      <td>5</td>\n",
       "      <td>August was born with several problems, includi...</td>\n",
       "    </tr>\n",
       "    <tr>\n",
       "      <th>8032</th>\n",
       "      <td>5</td>\n",
       "      <td>A fantastic true story about running, people w...</td>\n",
       "    </tr>\n",
       "  </tbody>\n",
       "</table>\n",
       "<p>8997 rows × 2 columns</p>\n",
       "</div>"
      ],
      "text/plain": [
       "      rating                                        review_text\n",
       "3          0  Recommended reading to understand what is goin...\n",
       "7          0  Numerous people in publishing have told me thi...\n",
       "13         0                        Recommended by David Risher\n",
       "54         0  Well if Melanie says its her BBE, I gotta chec...\n",
       "58         0           If steve recommends it, it must be good!\n",
       "...      ...                                                ...\n",
       "8008       5  Loose ends are tied up and old mysteries are s...\n",
       "8013       5  This was my most recent audio book. The narrat...\n",
       "8022       5  Harold Fry receives a letter in the mail from ...\n",
       "8028       5  August was born with several problems, includi...\n",
       "8032       5  A fantastic true story about running, people w...\n",
       "\n",
       "[8997 rows x 2 columns]"
      ]
     },
     "execution_count": 13,
     "metadata": {},
     "output_type": "execute_result"
    }
   ],
   "source": [
    "train"
   ]
  },
  {
   "cell_type": "code",
   "execution_count": 14,
   "id": "5ceb74a4",
   "metadata": {
    "execution": {
     "iopub.execute_input": "2023-01-29T05:34:18.770033Z",
     "iopub.status.busy": "2023-01-29T05:34:18.769567Z",
     "iopub.status.idle": "2023-01-29T05:34:18.778254Z",
     "shell.execute_reply": "2023-01-29T05:34:18.776949Z"
    },
    "papermill": {
     "duration": 0.024275,
     "end_time": "2023-01-29T05:34:18.780687",
     "exception": false,
     "start_time": "2023-01-29T05:34:18.756412",
     "status": "completed"
    },
    "tags": []
   },
   "outputs": [
    {
     "data": {
      "text/plain": [
       "Index(['user_id', 'book_id', 'review_id', 'review_text', 'date_added',\n",
       "       'date_updated', 'read_at', 'started_at', 'n_votes', 'n_comments'],\n",
       "      dtype='object')"
      ]
     },
     "execution_count": 14,
     "metadata": {},
     "output_type": "execute_result"
    }
   ],
   "source": [
    "test.columns\n"
   ]
  },
  {
   "cell_type": "code",
   "execution_count": 15,
   "id": "52bd3626",
   "metadata": {
    "execution": {
     "iopub.execute_input": "2023-01-29T05:34:18.807211Z",
     "iopub.status.busy": "2023-01-29T05:34:18.806257Z",
     "iopub.status.idle": "2023-01-29T05:34:18.881153Z",
     "shell.execute_reply": "2023-01-29T05:34:18.880176Z"
    },
    "papermill": {
     "duration": 0.090953,
     "end_time": "2023-01-29T05:34:18.883792",
     "exception": false,
     "start_time": "2023-01-29T05:34:18.792839",
     "status": "completed"
    },
    "tags": []
   },
   "outputs": [],
   "source": [
    "test = test.drop(['user_id', 'book_id', 'review_id', 'date_added','date_updated', 'read_at', 'started_at','n_comments'], axis = 1)"
   ]
  },
  {
   "cell_type": "code",
   "execution_count": 16,
   "id": "00f61538",
   "metadata": {
    "execution": {
     "iopub.execute_input": "2023-01-29T05:34:18.908975Z",
     "iopub.status.busy": "2023-01-29T05:34:18.908530Z",
     "iopub.status.idle": "2023-01-29T05:34:18.922716Z",
     "shell.execute_reply": "2023-01-29T05:34:18.921383Z"
    },
    "papermill": {
     "duration": 0.029746,
     "end_time": "2023-01-29T05:34:18.925366",
     "exception": false,
     "start_time": "2023-01-29T05:34:18.895620",
     "status": "completed"
    },
    "tags": []
   },
   "outputs": [
    {
     "data": {
      "text/html": [
       "<div>\n",
       "<style scoped>\n",
       "    .dataframe tbody tr th:only-of-type {\n",
       "        vertical-align: middle;\n",
       "    }\n",
       "\n",
       "    .dataframe tbody tr th {\n",
       "        vertical-align: top;\n",
       "    }\n",
       "\n",
       "    .dataframe thead th {\n",
       "        text-align: right;\n",
       "    }\n",
       "</style>\n",
       "<table border=\"1\" class=\"dataframe\">\n",
       "  <thead>\n",
       "    <tr style=\"text-align: right;\">\n",
       "      <th></th>\n",
       "      <th>review_text</th>\n",
       "      <th>n_votes</th>\n",
       "    </tr>\n",
       "  </thead>\n",
       "  <tbody>\n",
       "    <tr>\n",
       "      <th>0</th>\n",
       "      <td>** spoiler alert ** \\n This is definitely one ...</td>\n",
       "      <td>1</td>\n",
       "    </tr>\n",
       "    <tr>\n",
       "      <th>1</th>\n",
       "      <td>** spoiler alert ** \\n \"You are what you drink...</td>\n",
       "      <td>1</td>\n",
       "    </tr>\n",
       "    <tr>\n",
       "      <th>2</th>\n",
       "      <td>Roar is one of my favorite characters in Under...</td>\n",
       "      <td>0</td>\n",
       "    </tr>\n",
       "    <tr>\n",
       "      <th>3</th>\n",
       "      <td>** spoiler alert ** \\n If you feel like travel...</td>\n",
       "      <td>0</td>\n",
       "    </tr>\n",
       "    <tr>\n",
       "      <th>4</th>\n",
       "      <td>3.5 stars \\n I read and enjoyed the first two ...</td>\n",
       "      <td>0</td>\n",
       "    </tr>\n",
       "    <tr>\n",
       "      <th>...</th>\n",
       "      <td>...</td>\n",
       "      <td>...</td>\n",
       "    </tr>\n",
       "    <tr>\n",
       "      <th>478028</th>\n",
       "      <td>Can't wait for Travis' POV \\n Travis Before Ab...</td>\n",
       "      <td>0</td>\n",
       "    </tr>\n",
       "    <tr>\n",
       "      <th>478029</th>\n",
       "      <td>Had this on my to-read shelf forever. Will upd...</td>\n",
       "      <td>0</td>\n",
       "    </tr>\n",
       "    <tr>\n",
       "      <th>478030</th>\n",
       "      <td>The last book left me wanting for more. I need...</td>\n",
       "      <td>0</td>\n",
       "    </tr>\n",
       "    <tr>\n",
       "      <th>478031</th>\n",
       "      <td>Things are heating up in the second novel of I...</td>\n",
       "      <td>0</td>\n",
       "    </tr>\n",
       "    <tr>\n",
       "      <th>478032</th>\n",
       "      <td>Before I even start this review, I must say th...</td>\n",
       "      <td>0</td>\n",
       "    </tr>\n",
       "  </tbody>\n",
       "</table>\n",
       "<p>478033 rows × 2 columns</p>\n",
       "</div>"
      ],
      "text/plain": [
       "                                              review_text  n_votes\n",
       "0       ** spoiler alert ** \\n This is definitely one ...        1\n",
       "1       ** spoiler alert ** \\n \"You are what you drink...        1\n",
       "2       Roar is one of my favorite characters in Under...        0\n",
       "3       ** spoiler alert ** \\n If you feel like travel...        0\n",
       "4       3.5 stars \\n I read and enjoyed the first two ...        0\n",
       "...                                                   ...      ...\n",
       "478028  Can't wait for Travis' POV \\n Travis Before Ab...        0\n",
       "478029  Had this on my to-read shelf forever. Will upd...        0\n",
       "478030  The last book left me wanting for more. I need...        0\n",
       "478031  Things are heating up in the second novel of I...        0\n",
       "478032  Before I even start this review, I must say th...        0\n",
       "\n",
       "[478033 rows x 2 columns]"
      ]
     },
     "execution_count": 16,
     "metadata": {},
     "output_type": "execute_result"
    }
   ],
   "source": [
    "test"
   ]
  },
  {
   "cell_type": "code",
   "execution_count": 17,
   "id": "7b02a530",
   "metadata": {
    "execution": {
     "iopub.execute_input": "2023-01-29T05:34:18.950725Z",
     "iopub.status.busy": "2023-01-29T05:34:18.950273Z",
     "iopub.status.idle": "2023-01-29T05:34:19.045411Z",
     "shell.execute_reply": "2023-01-29T05:34:19.043838Z"
    },
    "papermill": {
     "duration": 0.111137,
     "end_time": "2023-01-29T05:34:19.048319",
     "exception": false,
     "start_time": "2023-01-29T05:34:18.937182",
     "status": "completed"
    },
    "tags": []
   },
   "outputs": [],
   "source": [
    "#Remove Hashtags\n",
    "train['review_text'].replace( { r\"#(\\w+)\" : '' }, inplace= True, regex = True)\n",
    "\n",
    "#Remove Mention\n",
    "train['review_text'].replace( { r\"@(\\w+)\" : '' }, inplace= True, regex = True)\n",
    "\n",
    "#Remove URL\n",
    "train['review_text'].astype(str).replace( { r\"http\\S+\" : '' }, inplace= True, regex = True)\n",
    "\n",
    "train['review_text']=train['review_text'].str.lower()"
   ]
  },
  {
   "cell_type": "code",
   "execution_count": 18,
   "id": "546145cc",
   "metadata": {
    "execution": {
     "iopub.execute_input": "2023-01-29T05:34:19.073829Z",
     "iopub.status.busy": "2023-01-29T05:34:19.073410Z",
     "iopub.status.idle": "2023-01-29T05:34:23.750007Z",
     "shell.execute_reply": "2023-01-29T05:34:23.748537Z"
    },
    "papermill": {
     "duration": 4.693058,
     "end_time": "2023-01-29T05:34:23.753203",
     "exception": false,
     "start_time": "2023-01-29T05:34:19.060145",
     "status": "completed"
    },
    "tags": []
   },
   "outputs": [],
   "source": [
    "#Remove Hashtags\n",
    "test['review_text'].replace( { r\"#(\\w+)\" : '' }, inplace= True, regex = True)\n",
    "\n",
    "#Remove Mention\n",
    "test['review_text'].replace( { r\"@(\\w+)\" : '' }, inplace= True, regex = True)\n",
    "\n",
    "#Remove URL\n",
    "test['review_text'].astype(str).replace( { r\"http\\S+\" : '' }, inplace= True, regex = True)\n",
    "\n",
    "test['review_text'] = test['review_text'].str.lower()"
   ]
  },
  {
   "cell_type": "code",
   "execution_count": 19,
   "id": "568f5ac4",
   "metadata": {
    "execution": {
     "iopub.execute_input": "2023-01-29T05:34:23.780872Z",
     "iopub.status.busy": "2023-01-29T05:34:23.780416Z",
     "iopub.status.idle": "2023-01-29T05:34:24.458910Z",
     "shell.execute_reply": "2023-01-29T05:34:24.457571Z"
    },
    "papermill": {
     "duration": 0.696616,
     "end_time": "2023-01-29T05:34:24.461966",
     "exception": false,
     "start_time": "2023-01-29T05:34:23.765350",
     "status": "completed"
    },
    "tags": []
   },
   "outputs": [],
   "source": [
    "# Import stopwords with nltk.\n",
    "from nltk.corpus import stopwords\n",
    "stop = stopwords.words('english')"
   ]
  },
  {
   "cell_type": "code",
   "execution_count": 20,
   "id": "3385cda2",
   "metadata": {
    "execution": {
     "iopub.execute_input": "2023-01-29T05:34:24.489183Z",
     "iopub.status.busy": "2023-01-29T05:34:24.488701Z",
     "iopub.status.idle": "2023-01-29T05:37:53.534445Z",
     "shell.execute_reply": "2023-01-29T05:37:53.532918Z"
    },
    "papermill": {
     "duration": 209.062897,
     "end_time": "2023-01-29T05:37:53.537599",
     "exception": false,
     "start_time": "2023-01-29T05:34:24.474702",
     "status": "completed"
    },
    "tags": []
   },
   "outputs": [],
   "source": [
    "train['review_text'] = train['review_text'].apply(lambda x: ' '.join([word for word in x.split() if word not in (stop)]))\n",
    "\n",
    "test['review_text'] = test['review_text'].apply(lambda x: ' '.join([word for word in x.split() if word not in (stop)]))"
   ]
  },
  {
   "cell_type": "code",
   "execution_count": 21,
   "id": "9c79622e",
   "metadata": {
    "execution": {
     "iopub.execute_input": "2023-01-29T05:37:53.565128Z",
     "iopub.status.busy": "2023-01-29T05:37:53.564641Z",
     "iopub.status.idle": "2023-01-29T05:37:53.575380Z",
     "shell.execute_reply": "2023-01-29T05:37:53.574401Z"
    },
    "papermill": {
     "duration": 0.027221,
     "end_time": "2023-01-29T05:37:53.577586",
     "exception": false,
     "start_time": "2023-01-29T05:37:53.550365",
     "status": "completed"
    },
    "tags": []
   },
   "outputs": [
    {
     "data": {
      "text/html": [
       "<div>\n",
       "<style scoped>\n",
       "    .dataframe tbody tr th:only-of-type {\n",
       "        vertical-align: middle;\n",
       "    }\n",
       "\n",
       "    .dataframe tbody tr th {\n",
       "        vertical-align: top;\n",
       "    }\n",
       "\n",
       "    .dataframe thead th {\n",
       "        text-align: right;\n",
       "    }\n",
       "</style>\n",
       "<table border=\"1\" class=\"dataframe\">\n",
       "  <thead>\n",
       "    <tr style=\"text-align: right;\">\n",
       "      <th></th>\n",
       "      <th>rating</th>\n",
       "      <th>review_text</th>\n",
       "    </tr>\n",
       "  </thead>\n",
       "  <tbody>\n",
       "    <tr>\n",
       "      <th>3</th>\n",
       "      <td>0</td>\n",
       "      <td>recommended reading understand going middle am...</td>\n",
       "    </tr>\n",
       "    <tr>\n",
       "      <th>7</th>\n",
       "      <td>0</td>\n",
       "      <td>numerous people publishing told book year.</td>\n",
       "    </tr>\n",
       "    <tr>\n",
       "      <th>13</th>\n",
       "      <td>0</td>\n",
       "      <td>recommended david risher</td>\n",
       "    </tr>\n",
       "    <tr>\n",
       "      <th>54</th>\n",
       "      <td>0</td>\n",
       "      <td>well melanie says bbe, gotta check out...</td>\n",
       "    </tr>\n",
       "    <tr>\n",
       "      <th>58</th>\n",
       "      <td>0</td>\n",
       "      <td>steve recommends it, must good!</td>\n",
       "    </tr>\n",
       "  </tbody>\n",
       "</table>\n",
       "</div>"
      ],
      "text/plain": [
       "    rating                                        review_text\n",
       "3        0  recommended reading understand going middle am...\n",
       "7        0         numerous people publishing told book year.\n",
       "13       0                           recommended david risher\n",
       "54       0          well melanie says bbe, gotta check out...\n",
       "58       0                    steve recommends it, must good!"
      ]
     },
     "execution_count": 21,
     "metadata": {},
     "output_type": "execute_result"
    }
   ],
   "source": [
    "train.head()"
   ]
  },
  {
   "cell_type": "code",
   "execution_count": 22,
   "id": "36598e44",
   "metadata": {
    "execution": {
     "iopub.execute_input": "2023-01-29T05:37:53.604235Z",
     "iopub.status.busy": "2023-01-29T05:37:53.603093Z",
     "iopub.status.idle": "2023-01-29T05:37:53.615506Z",
     "shell.execute_reply": "2023-01-29T05:37:53.614236Z"
    },
    "papermill": {
     "duration": 0.028228,
     "end_time": "2023-01-29T05:37:53.617932",
     "exception": false,
     "start_time": "2023-01-29T05:37:53.589704",
     "status": "completed"
    },
    "tags": []
   },
   "outputs": [
    {
     "data": {
      "text/html": [
       "<div>\n",
       "<style scoped>\n",
       "    .dataframe tbody tr th:only-of-type {\n",
       "        vertical-align: middle;\n",
       "    }\n",
       "\n",
       "    .dataframe tbody tr th {\n",
       "        vertical-align: top;\n",
       "    }\n",
       "\n",
       "    .dataframe thead th {\n",
       "        text-align: right;\n",
       "    }\n",
       "</style>\n",
       "<table border=\"1\" class=\"dataframe\">\n",
       "  <thead>\n",
       "    <tr style=\"text-align: right;\">\n",
       "      <th></th>\n",
       "      <th>review_text</th>\n",
       "      <th>n_votes</th>\n",
       "    </tr>\n",
       "  </thead>\n",
       "  <tbody>\n",
       "    <tr>\n",
       "      <th>0</th>\n",
       "      <td>** spoiler alert ** definitely one favorites a...</td>\n",
       "      <td>1</td>\n",
       "    </tr>\n",
       "    <tr>\n",
       "      <th>1</th>\n",
       "      <td>** spoiler alert ** \"you drink.\" i'm huge fan ...</td>\n",
       "      <td>1</td>\n",
       "    </tr>\n",
       "    <tr>\n",
       "      <th>2</th>\n",
       "      <td>roar one favorite characters never sky i'm hap...</td>\n",
       "      <td>0</td>\n",
       "    </tr>\n",
       "    <tr>\n",
       "      <th>3</th>\n",
       "      <td>** spoiler alert ** feel like travelling europ...</td>\n",
       "      <td>0</td>\n",
       "    </tr>\n",
       "    <tr>\n",
       "      <th>4</th>\n",
       "      <td>3.5 stars read enjoyed first two novels series...</td>\n",
       "      <td>0</td>\n",
       "    </tr>\n",
       "  </tbody>\n",
       "</table>\n",
       "</div>"
      ],
      "text/plain": [
       "                                         review_text  n_votes\n",
       "0  ** spoiler alert ** definitely one favorites a...        1\n",
       "1  ** spoiler alert ** \"you drink.\" i'm huge fan ...        1\n",
       "2  roar one favorite characters never sky i'm hap...        0\n",
       "3  ** spoiler alert ** feel like travelling europ...        0\n",
       "4  3.5 stars read enjoyed first two novels series...        0"
      ]
     },
     "execution_count": 22,
     "metadata": {},
     "output_type": "execute_result"
    }
   ],
   "source": [
    "test.head()"
   ]
  },
  {
   "cell_type": "code",
   "execution_count": 23,
   "id": "f91fd87f",
   "metadata": {
    "execution": {
     "iopub.execute_input": "2023-01-29T05:37:53.644928Z",
     "iopub.status.busy": "2023-01-29T05:37:53.644225Z",
     "iopub.status.idle": "2023-01-29T05:37:53.650420Z",
     "shell.execute_reply": "2023-01-29T05:37:53.649176Z"
    },
    "papermill": {
     "duration": 0.022743,
     "end_time": "2023-01-29T05:37:53.653075",
     "exception": false,
     "start_time": "2023-01-29T05:37:53.630332",
     "status": "completed"
    },
    "tags": []
   },
   "outputs": [
    {
     "data": {
      "text/plain": [
       "(8997, 2)"
      ]
     },
     "execution_count": 23,
     "metadata": {},
     "output_type": "execute_result"
    }
   ],
   "source": [
    "train.shape"
   ]
  },
  {
   "cell_type": "code",
   "execution_count": 24,
   "id": "2b27c48e",
   "metadata": {
    "execution": {
     "iopub.execute_input": "2023-01-29T05:37:53.680010Z",
     "iopub.status.busy": "2023-01-29T05:37:53.679325Z",
     "iopub.status.idle": "2023-01-29T05:37:53.686521Z",
     "shell.execute_reply": "2023-01-29T05:37:53.685443Z"
    },
    "papermill": {
     "duration": 0.023325,
     "end_time": "2023-01-29T05:37:53.688732",
     "exception": false,
     "start_time": "2023-01-29T05:37:53.665407",
     "status": "completed"
    },
    "tags": []
   },
   "outputs": [
    {
     "data": {
      "text/plain": [
       "(478033, 2)"
      ]
     },
     "execution_count": 24,
     "metadata": {},
     "output_type": "execute_result"
    }
   ],
   "source": [
    "test.shape"
   ]
  },
  {
   "cell_type": "code",
   "execution_count": 25,
   "id": "e82dbabd",
   "metadata": {
    "execution": {
     "iopub.execute_input": "2023-01-29T05:37:53.715679Z",
     "iopub.status.busy": "2023-01-29T05:37:53.715010Z",
     "iopub.status.idle": "2023-01-29T05:37:53.726910Z",
     "shell.execute_reply": "2023-01-29T05:37:53.725483Z"
    },
    "papermill": {
     "duration": 0.028487,
     "end_time": "2023-01-29T05:37:53.729357",
     "exception": false,
     "start_time": "2023-01-29T05:37:53.700870",
     "status": "completed"
    },
    "tags": []
   },
   "outputs": [
    {
     "data": {
      "text/plain": [
       "4    3136\n",
       "5    2650\n",
       "3    1889\n",
       "2     726\n",
       "0     309\n",
       "1     287\n",
       "Name: rating, dtype: int64"
      ]
     },
     "execution_count": 25,
     "metadata": {},
     "output_type": "execute_result"
    }
   ],
   "source": [
    "train['rating'].value_counts()"
   ]
  },
  {
   "cell_type": "code",
   "execution_count": 26,
   "id": "5d42a651",
   "metadata": {
    "execution": {
     "iopub.execute_input": "2023-01-29T05:37:53.756526Z",
     "iopub.status.busy": "2023-01-29T05:37:53.755543Z",
     "iopub.status.idle": "2023-01-29T05:37:53.761363Z",
     "shell.execute_reply": "2023-01-29T05:37:53.760422Z"
    },
    "papermill": {
     "duration": 0.022117,
     "end_time": "2023-01-29T05:37:53.763786",
     "exception": false,
     "start_time": "2023-01-29T05:37:53.741669",
     "status": "completed"
    },
    "tags": []
   },
   "outputs": [],
   "source": [
    "y = train['rating']\n",
    "x = train['review_text']"
   ]
  },
  {
   "cell_type": "code",
   "execution_count": 27,
   "id": "3efae83d",
   "metadata": {
    "execution": {
     "iopub.execute_input": "2023-01-29T05:37:53.792024Z",
     "iopub.status.busy": "2023-01-29T05:37:53.791288Z",
     "iopub.status.idle": "2023-01-29T05:37:53.798688Z",
     "shell.execute_reply": "2023-01-29T05:37:53.797586Z"
    },
    "papermill": {
     "duration": 0.025411,
     "end_time": "2023-01-29T05:37:53.801455",
     "exception": false,
     "start_time": "2023-01-29T05:37:53.776044",
     "status": "completed"
    },
    "tags": []
   },
   "outputs": [
    {
     "data": {
      "text/plain": [
       "(8997,)"
      ]
     },
     "execution_count": 27,
     "metadata": {},
     "output_type": "execute_result"
    }
   ],
   "source": [
    "x.shape"
   ]
  },
  {
   "cell_type": "code",
   "execution_count": 28,
   "id": "79c80dc9",
   "metadata": {
    "execution": {
     "iopub.execute_input": "2023-01-29T05:37:53.829738Z",
     "iopub.status.busy": "2023-01-29T05:37:53.829067Z",
     "iopub.status.idle": "2023-01-29T05:37:53.903693Z",
     "shell.execute_reply": "2023-01-29T05:37:53.902143Z"
    },
    "papermill": {
     "duration": 0.092004,
     "end_time": "2023-01-29T05:37:53.906744",
     "exception": false,
     "start_time": "2023-01-29T05:37:53.814740",
     "status": "completed"
    },
    "tags": []
   },
   "outputs": [],
   "source": [
    "# Creating a word corpus for vectorization\n",
    "corpus = []\n",
    "for i in range(x.shape[0]):\n",
    "    corpus.append(x.iloc[i])"
   ]
  },
  {
   "cell_type": "code",
   "execution_count": 29,
   "id": "b90ee409",
   "metadata": {
    "execution": {
     "iopub.execute_input": "2023-01-29T05:37:53.934782Z",
     "iopub.status.busy": "2023-01-29T05:37:53.934366Z",
     "iopub.status.idle": "2023-01-29T05:37:58.986568Z",
     "shell.execute_reply": "2023-01-29T05:37:58.985341Z"
    },
    "papermill": {
     "duration": 5.069993,
     "end_time": "2023-01-29T05:37:58.989950",
     "exception": false,
     "start_time": "2023-01-29T05:37:53.919957",
     "status": "completed"
    },
    "tags": []
   },
   "outputs": [
    {
     "name": "stderr",
     "output_type": "stream",
     "text": [
      "/opt/conda/lib/python3.7/site-packages/sklearn/utils/deprecation.py:87: FutureWarning: Function get_feature_names is deprecated; get_feature_names is deprecated in 1.0 and will be removed in 1.2. Please use get_feature_names_out instead.\n",
      "  warnings.warn(msg, category=FutureWarning)\n"
     ]
    }
   ],
   "source": [
    "vectorizer1 = TfidfVectorizer(max_features=1000)\n",
    "X1 = vectorizer1.fit_transform(x)\n",
    "feature_names1 = vectorizer1.get_feature_names()\n",
    "denselist1 = X1.todense().tolist()\n",
    "train = pd.DataFrame(denselist1, columns=feature_names1)"
   ]
  },
  {
   "cell_type": "code",
   "execution_count": 30,
   "id": "94c3a9d7",
   "metadata": {
    "execution": {
     "iopub.execute_input": "2023-01-29T05:37:59.019824Z",
     "iopub.status.busy": "2023-01-29T05:37:59.019361Z",
     "iopub.status.idle": "2023-01-29T05:37:59.087903Z",
     "shell.execute_reply": "2023-01-29T05:37:59.086317Z"
    },
    "papermill": {
     "duration": 0.087843,
     "end_time": "2023-01-29T05:37:59.090870",
     "exception": false,
     "start_time": "2023-01-29T05:37:59.003027",
     "status": "completed"
    },
    "tags": []
   },
   "outputs": [],
   "source": [
    "# splitting the training and testing part from the data\n",
    "X_temp, X_test, y_temp, y_test = train_test_split(train, y, test_size=0.2, random_state=0)"
   ]
  },
  {
   "cell_type": "code",
   "execution_count": 31,
   "id": "74e6a8a6",
   "metadata": {
    "execution": {
     "iopub.execute_input": "2023-01-29T05:37:59.117808Z",
     "iopub.status.busy": "2023-01-29T05:37:59.117373Z",
     "iopub.status.idle": "2023-01-29T05:37:59.125101Z",
     "shell.execute_reply": "2023-01-29T05:37:59.123745Z"
    },
    "papermill": {
     "duration": 0.024172,
     "end_time": "2023-01-29T05:37:59.127728",
     "exception": false,
     "start_time": "2023-01-29T05:37:59.103556",
     "status": "completed"
    },
    "tags": []
   },
   "outputs": [
    {
     "data": {
      "text/plain": [
       "((7197, 1000), (1800, 1000), (7197,), (1800,))"
      ]
     },
     "execution_count": 31,
     "metadata": {},
     "output_type": "execute_result"
    }
   ],
   "source": [
    "X_temp.shape, X_test.shape, y_temp.shape, y_test.shape"
   ]
  },
  {
   "cell_type": "code",
   "execution_count": 32,
   "id": "7930a22f",
   "metadata": {
    "execution": {
     "iopub.execute_input": "2023-01-29T05:37:59.155531Z",
     "iopub.status.busy": "2023-01-29T05:37:59.155116Z",
     "iopub.status.idle": "2023-01-29T05:37:59.345540Z",
     "shell.execute_reply": "2023-01-29T05:37:59.344124Z"
    },
    "papermill": {
     "duration": 0.207836,
     "end_time": "2023-01-29T05:37:59.348576",
     "exception": false,
     "start_time": "2023-01-29T05:37:59.140740",
     "status": "completed"
    },
    "tags": []
   },
   "outputs": [],
   "source": [
    "from sklearn.linear_model import LogisticRegression\n",
    "from sklearn.naive_bayes import GaussianNB\n",
    "from sklearn.ensemble import RandomForestClassifier\n",
    "from sklearn.tree import DecisionTreeClassifier\n",
    "from sklearn.neighbors import KNeighborsClassifier\n",
    "from sklearn.ensemble import GradientBoostingClassifier\n",
    "\n",
    "from sklearn import metrics\n",
    "import matplotlib.pyplot as plt\n",
    "%matplotlib inline\n",
    "from sklearn.metrics import plot_confusion_matrix\n",
    "from sklearn.metrics import precision_score, recall_score, f1_score\n",
    "import seaborn as sns"
   ]
  },
  {
   "cell_type": "code",
   "execution_count": 33,
   "id": "68372e0c",
   "metadata": {
    "execution": {
     "iopub.execute_input": "2023-01-29T05:37:59.376574Z",
     "iopub.status.busy": "2023-01-29T05:37:59.376157Z",
     "iopub.status.idle": "2023-01-29T05:37:59.381496Z",
     "shell.execute_reply": "2023-01-29T05:37:59.380113Z"
    },
    "papermill": {
     "duration": 0.022789,
     "end_time": "2023-01-29T05:37:59.384182",
     "exception": false,
     "start_time": "2023-01-29T05:37:59.361393",
     "status": "completed"
    },
    "tags": []
   },
   "outputs": [],
   "source": [
    "accuracy = {'TF-IDF':[]}"
   ]
  },
  {
   "cell_type": "code",
   "execution_count": null,
   "id": "5b941bc2",
   "metadata": {
    "papermill": {
     "duration": 0.012381,
     "end_time": "2023-01-29T05:37:59.409330",
     "exception": false,
     "start_time": "2023-01-29T05:37:59.396949",
     "status": "completed"
    },
    "tags": []
   },
   "outputs": [],
   "source": []
  },
  {
   "cell_type": "markdown",
   "id": "5eeda714",
   "metadata": {
    "papermill": {
     "duration": 0.012871,
     "end_time": "2023-01-29T05:37:59.434997",
     "exception": false,
     "start_time": "2023-01-29T05:37:59.422126",
     "status": "completed"
    },
    "tags": []
   },
   "source": [
    "# Logistic Regression"
   ]
  },
  {
   "cell_type": "code",
   "execution_count": 34,
   "id": "a38d1a7a",
   "metadata": {
    "execution": {
     "iopub.execute_input": "2023-01-29T05:37:59.463343Z",
     "iopub.status.busy": "2023-01-29T05:37:59.462106Z",
     "iopub.status.idle": "2023-01-29T05:38:04.860848Z",
     "shell.execute_reply": "2023-01-29T05:38:04.855305Z"
    },
    "papermill": {
     "duration": 5.419337,
     "end_time": "2023-01-29T05:38:04.867103",
     "exception": false,
     "start_time": "2023-01-29T05:37:59.447766",
     "status": "completed"
    },
    "tags": []
   },
   "outputs": [
    {
     "name": "stdout",
     "output_type": "stream",
     "text": [
      "[[  5   2   3  13  25  21]\n",
      " [  0   5  17  13   9  12]\n",
      " [  0   2  23  47  45  23]\n",
      " [  0   0  20 148 153  47]\n",
      " [  2   0   9  77 398 143]\n",
      " [  1   0   6  34 190 307]]\n",
      "              precision    recall  f1-score   support\n",
      "\n",
      "           0       0.62      0.07      0.13        69\n",
      "           1       0.56      0.09      0.15        56\n",
      "           2       0.29      0.16      0.21       140\n",
      "           3       0.45      0.40      0.42       368\n",
      "           4       0.49      0.63      0.55       629\n",
      "           5       0.56      0.57      0.56       538\n",
      "\n",
      "    accuracy                           0.49      1800\n",
      "   macro avg       0.49      0.32      0.34      1800\n",
      "weighted avg       0.49      0.49      0.47      1800\n",
      "\n",
      "0.4922222222222222\n"
     ]
    }
   ],
   "source": [
    "#TF-IDF\n",
    "regressor_LR_tf = LogisticRegression(C=1.0,penalty='l2',solver='newton-cg')\n",
    "regressor_LR_tf.fit(X_temp, y_temp)\n",
    "y_predict_LR_tf = regressor_LR_tf.predict(X_test)\n",
    "a=(regressor_LR_tf.score(X_test, y_test))\n",
    "accuracy['TF-IDF'].append(a)\n",
    "\n",
    "print(metrics.confusion_matrix(y_test, y_predict_LR_tf))\n",
    "print(metrics.classification_report(y_test, y_predict_LR_tf))\n",
    "print(metrics.accuracy_score(y_test, y_predict_LR_tf))"
   ]
  },
  {
   "cell_type": "markdown",
   "id": "6e26fc5a",
   "metadata": {
    "papermill": {
     "duration": 0.033828,
     "end_time": "2023-01-29T05:38:04.934229",
     "exception": false,
     "start_time": "2023-01-29T05:38:04.900401",
     "status": "completed"
    },
    "tags": []
   },
   "source": [
    "# Decision Tree"
   ]
  },
  {
   "cell_type": "code",
   "execution_count": 35,
   "id": "553383e1",
   "metadata": {
    "execution": {
     "iopub.execute_input": "2023-01-29T05:38:04.975064Z",
     "iopub.status.busy": "2023-01-29T05:38:04.974418Z",
     "iopub.status.idle": "2023-01-29T05:38:05.207907Z",
     "shell.execute_reply": "2023-01-29T05:38:05.205599Z"
    },
    "papermill": {
     "duration": 0.251052,
     "end_time": "2023-01-29T05:38:05.210776",
     "exception": false,
     "start_time": "2023-01-29T05:38:04.959724",
     "status": "completed"
    },
    "tags": []
   },
   "outputs": [
    {
     "name": "stdout",
     "output_type": "stream",
     "text": [
      "[[  0   0   0   0  63   6]\n",
      " [  0   0   0   0  47   9]\n",
      " [  0   0   0   0 123  17]\n",
      " [  0   0   0   0 320  48]\n",
      " [  0   0   0   0 469 160]\n",
      " [  0   0   0   0 324 214]]\n",
      "              precision    recall  f1-score   support\n",
      "\n",
      "           0       0.00      0.00      0.00        69\n",
      "           1       0.00      0.00      0.00        56\n",
      "           2       0.00      0.00      0.00       140\n",
      "           3       0.00      0.00      0.00       368\n",
      "           4       0.35      0.75      0.47       629\n",
      "           5       0.47      0.40      0.43       538\n",
      "\n",
      "    accuracy                           0.38      1800\n",
      "   macro avg       0.14      0.19      0.15      1800\n",
      "weighted avg       0.26      0.38      0.29      1800\n",
      "\n",
      "0.3794444444444444\n"
     ]
    },
    {
     "name": "stderr",
     "output_type": "stream",
     "text": [
      "/opt/conda/lib/python3.7/site-packages/sklearn/metrics/_classification.py:1318: UndefinedMetricWarning: Precision and F-score are ill-defined and being set to 0.0 in labels with no predicted samples. Use `zero_division` parameter to control this behavior.\n",
      "  _warn_prf(average, modifier, msg_start, len(result))\n",
      "/opt/conda/lib/python3.7/site-packages/sklearn/metrics/_classification.py:1318: UndefinedMetricWarning: Precision and F-score are ill-defined and being set to 0.0 in labels with no predicted samples. Use `zero_division` parameter to control this behavior.\n",
      "  _warn_prf(average, modifier, msg_start, len(result))\n",
      "/opt/conda/lib/python3.7/site-packages/sklearn/metrics/_classification.py:1318: UndefinedMetricWarning: Precision and F-score are ill-defined and being set to 0.0 in labels with no predicted samples. Use `zero_division` parameter to control this behavior.\n",
      "  _warn_prf(average, modifier, msg_start, len(result))\n"
     ]
    }
   ],
   "source": [
    "#TF-IDF\n",
    "model_DT_tf = DecisionTreeClassifier(criterion = 'gini', max_depth=2) \n",
    "model_DT_tf.fit(X_temp, y_temp)\n",
    "y_predict_DT_tf = model_DT_tf.predict(X_test)\n",
    "a=(model_DT_tf.score(X_test,y_test))\n",
    "accuracy['TF-IDF'].append(a)\n",
    "\n",
    "print(metrics.confusion_matrix(y_test, y_predict_DT_tf))\n",
    "print(metrics.classification_report(y_test, y_predict_DT_tf))\n",
    "print(metrics.accuracy_score(y_test, y_predict_DT_tf))"
   ]
  },
  {
   "cell_type": "markdown",
   "id": "6d0852d5",
   "metadata": {
    "papermill": {
     "duration": 0.013219,
     "end_time": "2023-01-29T05:38:05.237714",
     "exception": false,
     "start_time": "2023-01-29T05:38:05.224495",
     "status": "completed"
    },
    "tags": []
   },
   "source": [
    "# Gradient Boosting"
   ]
  },
  {
   "cell_type": "code",
   "execution_count": 36,
   "id": "d7b1a7cb",
   "metadata": {
    "execution": {
     "iopub.execute_input": "2023-01-29T05:38:05.266381Z",
     "iopub.status.busy": "2023-01-29T05:38:05.265096Z",
     "iopub.status.idle": "2023-01-29T05:39:59.548946Z",
     "shell.execute_reply": "2023-01-29T05:39:59.547264Z"
    },
    "papermill": {
     "duration": 114.315046,
     "end_time": "2023-01-29T05:39:59.565658",
     "exception": false,
     "start_time": "2023-01-29T05:38:05.250612",
     "status": "completed"
    },
    "tags": []
   },
   "outputs": [
    {
     "name": "stdout",
     "output_type": "stream",
     "text": [
      "[[ 10   4   1  10  31  13]\n",
      " [  1   5  11  10  16  13]\n",
      " [  1   1  13  32  69  24]\n",
      " [  4   6  20  91 209  38]\n",
      " [  8   3   6  56 411 145]\n",
      " [  3   7   1  20 200 307]]\n",
      "              precision    recall  f1-score   support\n",
      "\n",
      "           0       0.37      0.14      0.21        69\n",
      "           1       0.19      0.09      0.12        56\n",
      "           2       0.25      0.09      0.14       140\n",
      "           3       0.42      0.25      0.31       368\n",
      "           4       0.44      0.65      0.53       629\n",
      "           5       0.57      0.57      0.57       538\n",
      "\n",
      "    accuracy                           0.47      1800\n",
      "   macro avg       0.37      0.30      0.31      1800\n",
      "weighted avg       0.45      0.47      0.44      1800\n",
      "\n",
      "0.465\n"
     ]
    }
   ],
   "source": [
    "#TF-IDF\n",
    "model_GB_tf = GradientBoostingClassifier(learning_rate= 0.1, max_depth=3, n_estimators= 100,subsample=1.0) \n",
    "model_GB_tf.fit(X_temp, y_temp)\n",
    "y_predict_GB_tf = model_GB_tf.predict(X_test)\n",
    "a=(model_GB_tf.score(X_test,y_test))\n",
    "accuracy['TF-IDF'].append(a)\n",
    "print(metrics.confusion_matrix(y_test, y_predict_GB_tf))\n",
    "print(metrics.classification_report(y_test, y_predict_GB_tf))\n",
    "print(metrics.accuracy_score(y_test, y_predict_GB_tf))"
   ]
  },
  {
   "cell_type": "markdown",
   "id": "0e2ba344",
   "metadata": {
    "papermill": {
     "duration": 0.012859,
     "end_time": "2023-01-29T05:39:59.591929",
     "exception": false,
     "start_time": "2023-01-29T05:39:59.579070",
     "status": "completed"
    },
    "tags": []
   },
   "source": [
    "# Random Forest"
   ]
  },
  {
   "cell_type": "code",
   "execution_count": 37,
   "id": "dd257280",
   "metadata": {
    "execution": {
     "iopub.execute_input": "2023-01-29T05:39:59.621738Z",
     "iopub.status.busy": "2023-01-29T05:39:59.621293Z",
     "iopub.status.idle": "2023-01-29T05:40:03.886562Z",
     "shell.execute_reply": "2023-01-29T05:40:03.884644Z"
    },
    "papermill": {
     "duration": 4.284076,
     "end_time": "2023-01-29T05:40:03.889699",
     "exception": false,
     "start_time": "2023-01-29T05:39:59.605623",
     "status": "completed"
    },
    "tags": []
   },
   "outputs": [
    {
     "name": "stdout",
     "output_type": "stream",
     "text": [
      "[[  5   0   0  15  28  21]\n",
      " [  1   2   1  14  25  13]\n",
      " [  0   0   1  33  75  31]\n",
      " [  1   0   0  91 216  60]\n",
      " [  4   0   0  55 418 152]\n",
      " [  2   1   0  17 211 307]]\n",
      "              precision    recall  f1-score   support\n",
      "\n",
      "           0       0.38      0.07      0.12        69\n",
      "           1       0.67      0.04      0.07        56\n",
      "           2       0.50      0.01      0.01       140\n",
      "           3       0.40      0.25      0.31       368\n",
      "           4       0.43      0.66      0.52       629\n",
      "           5       0.53      0.57      0.55       538\n",
      "\n",
      "    accuracy                           0.46      1800\n",
      "   macro avg       0.49      0.27      0.26      1800\n",
      "weighted avg       0.46      0.46      0.42      1800\n",
      "\n",
      "0.4577777777777778\n"
     ]
    }
   ],
   "source": [
    "#TF-IDF\n",
    "model_RF_tf = RandomForestClassifier(n_estimators= 100, max_features = 'log2')\n",
    "model_RF_tf.fit(X_temp, y_temp)\n",
    "y_predict_RF_tf = model_RF_tf.predict(X_test)\n",
    "a=(model_RF_tf.score(X_test,y_test))\n",
    "accuracy['TF-IDF'].append(a)\n",
    "\n",
    "print(metrics.confusion_matrix(y_test, y_predict_RF_tf))\n",
    "print(metrics.classification_report(y_test, y_predict_RF_tf))\n",
    "print(metrics.accuracy_score(y_test, y_predict_RF_tf))"
   ]
  },
  {
   "cell_type": "markdown",
   "id": "32af6cae",
   "metadata": {
    "papermill": {
     "duration": 0.013074,
     "end_time": "2023-01-29T05:40:03.916205",
     "exception": false,
     "start_time": "2023-01-29T05:40:03.903131",
     "status": "completed"
    },
    "tags": []
   },
   "source": [
    "# K Nearest Neighbours"
   ]
  },
  {
   "cell_type": "code",
   "execution_count": 38,
   "id": "22c9ab6d",
   "metadata": {
    "execution": {
     "iopub.execute_input": "2023-01-29T05:40:03.945625Z",
     "iopub.status.busy": "2023-01-29T05:40:03.945180Z",
     "iopub.status.idle": "2023-01-29T05:42:33.734903Z",
     "shell.execute_reply": "2023-01-29T05:42:33.733381Z"
    },
    "papermill": {
     "duration": 149.821717,
     "end_time": "2023-01-29T05:42:33.751472",
     "exception": false,
     "start_time": "2023-01-29T05:40:03.929755",
     "status": "completed"
    },
    "tags": []
   },
   "outputs": [
    {
     "name": "stdout",
     "output_type": "stream",
     "text": [
      "[[ 13  18   1  14  21   2]\n",
      " [  8  13   4   5  17   9]\n",
      " [ 13  24   9  23  62   9]\n",
      " [ 39  65  30  57 150  27]\n",
      " [ 66  99  41  87 271  65]\n",
      " [ 44  93  42  68 213  78]]\n",
      "              precision    recall  f1-score   support\n",
      "\n",
      "           0       0.07      0.19      0.10        69\n",
      "           1       0.04      0.23      0.07        56\n",
      "           2       0.07      0.06      0.07       140\n",
      "           3       0.22      0.15      0.18       368\n",
      "           4       0.37      0.43      0.40       629\n",
      "           5       0.41      0.14      0.21       538\n",
      "\n",
      "    accuracy                           0.24      1800\n",
      "   macro avg       0.20      0.20      0.17      1800\n",
      "weighted avg       0.31      0.24      0.25      1800\n",
      "\n",
      "0.245\n"
     ]
    }
   ],
   "source": [
    "#TF-IDF\n",
    "model_KN_tf = KNeighborsClassifier(metric= 'manhattan', n_neighbors= 5, weights= 'distance') \n",
    "model_KN_tf.fit(X_temp, y_temp)\n",
    "y_predict_KN_tf = model_KN_tf.predict(X_test)\n",
    "a=(model_KN_tf.score(X_test,y_test))\n",
    "accuracy['TF-IDF'].append(a)\n",
    "print(metrics.confusion_matrix(y_test, y_predict_KN_tf))\n",
    "print(metrics.classification_report(y_test, y_predict_KN_tf))\n",
    "print(metrics.accuracy_score(y_test, y_predict_KN_tf))"
   ]
  },
  {
   "cell_type": "markdown",
   "id": "815f5bfb",
   "metadata": {
    "papermill": {
     "duration": 0.012993,
     "end_time": "2023-01-29T05:42:33.779034",
     "exception": false,
     "start_time": "2023-01-29T05:42:33.766041",
     "status": "completed"
    },
    "tags": []
   },
   "source": [
    "# EVALUATION"
   ]
  },
  {
   "cell_type": "code",
   "execution_count": 39,
   "id": "0080c982",
   "metadata": {
    "execution": {
     "iopub.execute_input": "2023-01-29T05:42:33.807464Z",
     "iopub.status.busy": "2023-01-29T05:42:33.807037Z",
     "iopub.status.idle": "2023-01-29T05:42:33.820917Z",
     "shell.execute_reply": "2023-01-29T05:42:33.819527Z"
    },
    "papermill": {
     "duration": 0.031388,
     "end_time": "2023-01-29T05:42:33.823530",
     "exception": false,
     "start_time": "2023-01-29T05:42:33.792142",
     "status": "completed"
    },
    "tags": []
   },
   "outputs": [
    {
     "data": {
      "text/html": [
       "<div>\n",
       "<style scoped>\n",
       "    .dataframe tbody tr th:only-of-type {\n",
       "        vertical-align: middle;\n",
       "    }\n",
       "\n",
       "    .dataframe tbody tr th {\n",
       "        vertical-align: top;\n",
       "    }\n",
       "\n",
       "    .dataframe thead th {\n",
       "        text-align: right;\n",
       "    }\n",
       "</style>\n",
       "<table border=\"1\" class=\"dataframe\">\n",
       "  <thead>\n",
       "    <tr style=\"text-align: right;\">\n",
       "      <th></th>\n",
       "      <th>model</th>\n",
       "      <th>accuracy</th>\n",
       "    </tr>\n",
       "  </thead>\n",
       "  <tbody>\n",
       "    <tr>\n",
       "      <th>0</th>\n",
       "      <td>LR</td>\n",
       "      <td>0.492222</td>\n",
       "    </tr>\n",
       "    <tr>\n",
       "      <th>1</th>\n",
       "      <td>DT</td>\n",
       "      <td>0.379444</td>\n",
       "    </tr>\n",
       "    <tr>\n",
       "      <th>2</th>\n",
       "      <td>GB</td>\n",
       "      <td>0.465000</td>\n",
       "    </tr>\n",
       "    <tr>\n",
       "      <th>3</th>\n",
       "      <td>RF</td>\n",
       "      <td>0.457778</td>\n",
       "    </tr>\n",
       "    <tr>\n",
       "      <th>4</th>\n",
       "      <td>KN</td>\n",
       "      <td>0.245000</td>\n",
       "    </tr>\n",
       "  </tbody>\n",
       "</table>\n",
       "</div>"
      ],
      "text/plain": [
       "  model  accuracy\n",
       "0    LR  0.492222\n",
       "1    DT  0.379444\n",
       "2    GB  0.465000\n",
       "3    RF  0.457778\n",
       "4    KN  0.245000"
      ]
     },
     "execution_count": 39,
     "metadata": {},
     "output_type": "execute_result"
    }
   ],
   "source": [
    "model = ['LR','DT','GB','RF','KN']\n",
    "data = {'model':model,'accuracy':accuracy['TF-IDF']}\n",
    "compare_models = pd.DataFrame(data)\n",
    "compare_models"
   ]
  }
 ],
 "metadata": {
  "kernelspec": {
   "display_name": "Python 3",
   "language": "python",
   "name": "python3"
  },
  "language_info": {
   "codemirror_mode": {
    "name": "ipython",
    "version": 3
   },
   "file_extension": ".py",
   "mimetype": "text/x-python",
   "name": "python",
   "nbconvert_exporter": "python",
   "pygments_lexer": "ipython3",
   "version": "3.7.12"
  },
  "papermill": {
   "default_parameters": {},
   "duration": 556.8571,
   "end_time": "2023-01-29T05:42:35.465085",
   "environment_variables": {},
   "exception": null,
   "input_path": "__notebook__.ipynb",
   "output_path": "__notebook__.ipynb",
   "parameters": {},
   "start_time": "2023-01-29T05:33:18.607985",
   "version": "2.3.4"
  }
 },
 "nbformat": 4,
 "nbformat_minor": 5
}
