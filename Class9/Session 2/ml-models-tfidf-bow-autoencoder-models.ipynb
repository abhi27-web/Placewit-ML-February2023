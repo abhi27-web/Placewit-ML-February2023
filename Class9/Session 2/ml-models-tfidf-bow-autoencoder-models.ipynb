{
 "cells": [
  {
   "cell_type": "code",
   "execution_count": 1,
   "id": "5e3d71b0",
   "metadata": {
    "_cell_guid": "b1076dfc-b9ad-4769-8c92-a6c4dae69d19",
    "_uuid": "8f2839f25d086af736a60e9eeb907d3b93b6e0e5",
    "execution": {
     "iopub.execute_input": "2023-02-02T18:39:37.844588Z",
     "iopub.status.busy": "2023-02-02T18:39:37.844024Z",
     "iopub.status.idle": "2023-02-02T18:39:37.857435Z",
     "shell.execute_reply": "2023-02-02T18:39:37.856358Z"
    },
    "papermill": {
     "duration": 0.041714,
     "end_time": "2023-02-02T18:39:37.860613",
     "exception": false,
     "start_time": "2023-02-02T18:39:37.818899",
     "status": "completed"
    },
    "tags": []
   },
   "outputs": [
    {
     "name": "stdout",
     "output_type": "stream",
     "text": [
      "/kaggle/input/nlp-getting-started/sample_submission.csv\n",
      "/kaggle/input/nlp-getting-started/train.csv\n",
      "/kaggle/input/nlp-getting-started/test.csv\n"
     ]
    }
   ],
   "source": [
    "# This Python 3 environment comes with many helpful analytics libraries installed\n",
    "# It is defined by the kaggle/python Docker image: https://github.com/kaggle/docker-python\n",
    "# For example, here's several helpful packages to load\n",
    "\n",
    "import numpy as np # linear algebra\n",
    "import pandas as pd # data processing, CSV file I/O (e.g. pd.read_csv)\n",
    "\n",
    "# Input data files are available in the read-only \"../input/\" directory\n",
    "# For example, running this (by clicking run or pressing Shift+Enter) will list all files under the input directory\n",
    "\n",
    "import os\n",
    "for dirname, _, filenames in os.walk('/kaggle/input'):\n",
    "    for filename in filenames:\n",
    "        print(os.path.join(dirname, filename))\n",
    "\n",
    "# You can write up to 20GB to the current directory (/kaggle/working/) that gets preserved as output when you create a version using \"Save & Run All\" \n",
    "# You can also write temporary files to /kaggle/temp/, but they won't be saved outside of the current session"
   ]
  },
  {
   "cell_type": "markdown",
   "id": "ed7feac6",
   "metadata": {
    "papermill": {
     "duration": 0.024242,
     "end_time": "2023-02-02T18:39:37.906406",
     "exception": false,
     "start_time": "2023-02-02T18:39:37.882164",
     "status": "completed"
    },
    "tags": []
   },
   "source": [
    "# Loading Libraries"
   ]
  },
  {
   "cell_type": "code",
   "execution_count": 2,
   "id": "dc7b3482",
   "metadata": {
    "execution": {
     "iopub.execute_input": "2023-02-02T18:39:37.952446Z",
     "iopub.status.busy": "2023-02-02T18:39:37.951451Z",
     "iopub.status.idle": "2023-02-02T18:39:38.850928Z",
     "shell.execute_reply": "2023-02-02T18:39:38.850005Z"
    },
    "papermill": {
     "duration": 0.925107,
     "end_time": "2023-02-02T18:39:38.853288",
     "exception": false,
     "start_time": "2023-02-02T18:39:37.928181",
     "status": "completed"
    },
    "tags": []
   },
   "outputs": [],
   "source": [
    "import pandas as pd\n",
    "import csv\n",
    "import re \n",
    "import string\n",
    "from sklearn.model_selection import train_test_split\n",
    "from sklearn.feature_extraction.text import CountVectorizer\n",
    "from sklearn.feature_extraction.text import TfidfVectorizer"
   ]
  },
  {
   "cell_type": "code",
   "execution_count": 3,
   "id": "3be8abe5",
   "metadata": {
    "execution": {
     "iopub.execute_input": "2023-02-02T18:39:38.908047Z",
     "iopub.status.busy": "2023-02-02T18:39:38.907655Z",
     "iopub.status.idle": "2023-02-02T18:39:39.002560Z",
     "shell.execute_reply": "2023-02-02T18:39:39.001394Z"
    },
    "papermill": {
     "duration": 0.131552,
     "end_time": "2023-02-02T18:39:39.006399",
     "exception": false,
     "start_time": "2023-02-02T18:39:38.874847",
     "status": "completed"
    },
    "tags": []
   },
   "outputs": [],
   "source": [
    "train = pd.read_csv(\"/kaggle/input/nlp-getting-started/train.csv\")\n",
    "test = pd.read_csv(\"/kaggle/input/nlp-getting-started/test.csv\")"
   ]
  },
  {
   "cell_type": "code",
   "execution_count": 4,
   "id": "bc385c72",
   "metadata": {
    "execution": {
     "iopub.execute_input": "2023-02-02T18:39:39.075402Z",
     "iopub.status.busy": "2023-02-02T18:39:39.074964Z",
     "iopub.status.idle": "2023-02-02T18:39:39.089098Z",
     "shell.execute_reply": "2023-02-02T18:39:39.088080Z"
    },
    "papermill": {
     "duration": 0.048895,
     "end_time": "2023-02-02T18:39:39.091062",
     "exception": false,
     "start_time": "2023-02-02T18:39:39.042167",
     "status": "completed"
    },
    "tags": []
   },
   "outputs": [
    {
     "data": {
      "text/plain": [
       "Index(['id', 'keyword', 'location', 'text', 'target'], dtype='object')"
      ]
     },
     "execution_count": 4,
     "metadata": {},
     "output_type": "execute_result"
    }
   ],
   "source": [
    "train.columns"
   ]
  },
  {
   "cell_type": "code",
   "execution_count": 5,
   "id": "fdac4e3c",
   "metadata": {
    "execution": {
     "iopub.execute_input": "2023-02-02T18:39:39.154569Z",
     "iopub.status.busy": "2023-02-02T18:39:39.154073Z",
     "iopub.status.idle": "2023-02-02T18:39:39.177748Z",
     "shell.execute_reply": "2023-02-02T18:39:39.173849Z"
    },
    "papermill": {
     "duration": 0.058498,
     "end_time": "2023-02-02T18:39:39.179894",
     "exception": false,
     "start_time": "2023-02-02T18:39:39.121396",
     "status": "completed"
    },
    "tags": []
   },
   "outputs": [
    {
     "data": {
      "text/plain": [
       "0    4342\n",
       "1    3271\n",
       "Name: target, dtype: int64"
      ]
     },
     "execution_count": 5,
     "metadata": {},
     "output_type": "execute_result"
    }
   ],
   "source": [
    "train['target'].value_counts()"
   ]
  },
  {
   "cell_type": "code",
   "execution_count": 6,
   "id": "eccb4e58",
   "metadata": {
    "execution": {
     "iopub.execute_input": "2023-02-02T18:39:39.245187Z",
     "iopub.status.busy": "2023-02-02T18:39:39.244799Z",
     "iopub.status.idle": "2023-02-02T18:39:39.251986Z",
     "shell.execute_reply": "2023-02-02T18:39:39.251031Z"
    },
    "papermill": {
     "duration": 0.042947,
     "end_time": "2023-02-02T18:39:39.255121",
     "exception": false,
     "start_time": "2023-02-02T18:39:39.212174",
     "status": "completed"
    },
    "tags": []
   },
   "outputs": [
    {
     "data": {
      "text/plain": [
       "((7613, 5), (3263, 4))"
      ]
     },
     "execution_count": 6,
     "metadata": {},
     "output_type": "execute_result"
    }
   ],
   "source": [
    "train.shape, test.shape"
   ]
  },
  {
   "cell_type": "code",
   "execution_count": 7,
   "id": "13539fe6",
   "metadata": {
    "execution": {
     "iopub.execute_input": "2023-02-02T18:39:39.319748Z",
     "iopub.status.busy": "2023-02-02T18:39:39.319296Z",
     "iopub.status.idle": "2023-02-02T18:39:39.329223Z",
     "shell.execute_reply": "2023-02-02T18:39:39.328369Z"
    },
    "papermill": {
     "duration": 0.044769,
     "end_time": "2023-02-02T18:39:39.331279",
     "exception": false,
     "start_time": "2023-02-02T18:39:39.286510",
     "status": "completed"
    },
    "tags": []
   },
   "outputs": [],
   "source": [
    "train0=train[train['target']==0]\n",
    "train1=train[train['target']==1]"
   ]
  },
  {
   "cell_type": "code",
   "execution_count": 8,
   "id": "f72f4930",
   "metadata": {
    "execution": {
     "iopub.execute_input": "2023-02-02T18:39:39.397704Z",
     "iopub.status.busy": "2023-02-02T18:39:39.397262Z",
     "iopub.status.idle": "2023-02-02T18:39:39.404165Z",
     "shell.execute_reply": "2023-02-02T18:39:39.403253Z"
    },
    "papermill": {
     "duration": 0.04315,
     "end_time": "2023-02-02T18:39:39.406505",
     "exception": false,
     "start_time": "2023-02-02T18:39:39.363355",
     "status": "completed"
    },
    "tags": []
   },
   "outputs": [
    {
     "data": {
      "text/plain": [
       "((4342, 5), (3271, 5))"
      ]
     },
     "execution_count": 8,
     "metadata": {},
     "output_type": "execute_result"
    }
   ],
   "source": [
    "train0.shape, train1.shape"
   ]
  },
  {
   "cell_type": "markdown",
   "id": "d76f8ebb",
   "metadata": {
    "papermill": {
     "duration": 0.041126,
     "end_time": "2023-02-02T18:39:39.481037",
     "exception": false,
     "start_time": "2023-02-02T18:39:39.439911",
     "status": "completed"
    },
    "tags": []
   },
   "source": [
    "# Pre-processing Data"
   ]
  },
  {
   "cell_type": "code",
   "execution_count": 9,
   "id": "f8f59a5c",
   "metadata": {
    "execution": {
     "iopub.execute_input": "2023-02-02T18:39:39.527126Z",
     "iopub.status.busy": "2023-02-02T18:39:39.526384Z",
     "iopub.status.idle": "2023-02-02T18:39:39.587356Z",
     "shell.execute_reply": "2023-02-02T18:39:39.586499Z"
    },
    "papermill": {
     "duration": 0.086794,
     "end_time": "2023-02-02T18:39:39.589746",
     "exception": false,
     "start_time": "2023-02-02T18:39:39.502952",
     "status": "completed"
    },
    "tags": []
   },
   "outputs": [],
   "source": [
    "#Remove Hashtags\n",
    "train['text'].replace( { r\"#(\\w+)\" : '' }, inplace= True, regex = True)\n",
    "\n",
    "#Remove Mention\n",
    "train['text'].replace( { r\"@(\\w+)\" : '' }, inplace= True, regex = True)\n",
    "\n",
    "#Remove URL\n",
    "train['text'].astype(str).replace( { r\"http\\S+\" : '' }, inplace= True, regex = True)\n",
    "\n",
    "train['text']=train['text'].str.lower()"
   ]
  },
  {
   "cell_type": "code",
   "execution_count": 10,
   "id": "42f5520a",
   "metadata": {
    "execution": {
     "iopub.execute_input": "2023-02-02T18:39:39.634503Z",
     "iopub.status.busy": "2023-02-02T18:39:39.634156Z",
     "iopub.status.idle": "2023-02-02T18:39:39.664954Z",
     "shell.execute_reply": "2023-02-02T18:39:39.664116Z"
    },
    "papermill": {
     "duration": 0.055464,
     "end_time": "2023-02-02T18:39:39.667114",
     "exception": false,
     "start_time": "2023-02-02T18:39:39.611650",
     "status": "completed"
    },
    "tags": []
   },
   "outputs": [],
   "source": [
    "#Remove Hashtags\n",
    "test['text'].replace( { r\"#(\\w+)\" : '' }, inplace= True, regex = True)\n",
    "\n",
    "#Remove Mention\n",
    "test['text'].replace( { r\"@(\\w+)\" : '' }, inplace= True, regex = True)\n",
    "\n",
    "#Remove URL\n",
    "test['text'].astype(str).replace( { r\"http\\S+\" : '' }, inplace= True, regex = True)\n",
    "\n",
    "test['text']=test['text'].str.lower()"
   ]
  },
  {
   "cell_type": "code",
   "execution_count": 11,
   "id": "950a08e4",
   "metadata": {
    "execution": {
     "iopub.execute_input": "2023-02-02T18:39:39.711935Z",
     "iopub.status.busy": "2023-02-02T18:39:39.711637Z",
     "iopub.status.idle": "2023-02-02T18:39:40.167380Z",
     "shell.execute_reply": "2023-02-02T18:39:40.166219Z"
    },
    "papermill": {
     "duration": 0.480683,
     "end_time": "2023-02-02T18:39:40.169846",
     "exception": false,
     "start_time": "2023-02-02T18:39:39.689163",
     "status": "completed"
    },
    "tags": []
   },
   "outputs": [],
   "source": [
    "# Import stopwords with nltk.\n",
    "from nltk.corpus import stopwords\n",
    "stop = stopwords.words('english')"
   ]
  },
  {
   "cell_type": "code",
   "execution_count": 12,
   "id": "8a3cee84",
   "metadata": {
    "execution": {
     "iopub.execute_input": "2023-02-02T18:39:40.215507Z",
     "iopub.status.busy": "2023-02-02T18:39:40.214000Z",
     "iopub.status.idle": "2023-02-02T18:39:40.557542Z",
     "shell.execute_reply": "2023-02-02T18:39:40.556621Z"
    },
    "papermill": {
     "duration": 0.368201,
     "end_time": "2023-02-02T18:39:40.559847",
     "exception": false,
     "start_time": "2023-02-02T18:39:40.191646",
     "status": "completed"
    },
    "tags": []
   },
   "outputs": [],
   "source": [
    "train['text'] = train['text'].apply(lambda x: ' '.join([word for word in x.split() if word not in (stop)]))\n",
    "\n",
    "test['text'] = test['text'].apply(lambda x: ' '.join([word for word in x.split() if word not in (stop)]))"
   ]
  },
  {
   "cell_type": "code",
   "execution_count": 13,
   "id": "f1c635f8",
   "metadata": {
    "execution": {
     "iopub.execute_input": "2023-02-02T18:39:40.604533Z",
     "iopub.status.busy": "2023-02-02T18:39:40.604210Z",
     "iopub.status.idle": "2023-02-02T18:39:40.616900Z",
     "shell.execute_reply": "2023-02-02T18:39:40.615910Z"
    },
    "papermill": {
     "duration": 0.037263,
     "end_time": "2023-02-02T18:39:40.619127",
     "exception": false,
     "start_time": "2023-02-02T18:39:40.581864",
     "status": "completed"
    },
    "tags": []
   },
   "outputs": [
    {
     "data": {
      "text/html": [
       "<div>\n",
       "<style scoped>\n",
       "    .dataframe tbody tr th:only-of-type {\n",
       "        vertical-align: middle;\n",
       "    }\n",
       "\n",
       "    .dataframe tbody tr th {\n",
       "        vertical-align: top;\n",
       "    }\n",
       "\n",
       "    .dataframe thead th {\n",
       "        text-align: right;\n",
       "    }\n",
       "</style>\n",
       "<table border=\"1\" class=\"dataframe\">\n",
       "  <thead>\n",
       "    <tr style=\"text-align: right;\">\n",
       "      <th></th>\n",
       "      <th>id</th>\n",
       "      <th>keyword</th>\n",
       "      <th>location</th>\n",
       "      <th>text</th>\n",
       "      <th>target</th>\n",
       "    </tr>\n",
       "  </thead>\n",
       "  <tbody>\n",
       "    <tr>\n",
       "      <th>0</th>\n",
       "      <td>1</td>\n",
       "      <td>NaN</td>\n",
       "      <td>NaN</td>\n",
       "      <td>deeds reason may allah forgive us</td>\n",
       "      <td>1</td>\n",
       "    </tr>\n",
       "    <tr>\n",
       "      <th>1</th>\n",
       "      <td>4</td>\n",
       "      <td>NaN</td>\n",
       "      <td>NaN</td>\n",
       "      <td>forest fire near la ronge sask. canada</td>\n",
       "      <td>1</td>\n",
       "    </tr>\n",
       "    <tr>\n",
       "      <th>2</th>\n",
       "      <td>5</td>\n",
       "      <td>NaN</td>\n",
       "      <td>NaN</td>\n",
       "      <td>residents asked 'shelter place' notified offic...</td>\n",
       "      <td>1</td>\n",
       "    </tr>\n",
       "    <tr>\n",
       "      <th>3</th>\n",
       "      <td>6</td>\n",
       "      <td>NaN</td>\n",
       "      <td>NaN</td>\n",
       "      <td>13,000 people receive evacuation orders califo...</td>\n",
       "      <td>1</td>\n",
       "    </tr>\n",
       "    <tr>\n",
       "      <th>4</th>\n",
       "      <td>7</td>\n",
       "      <td>NaN</td>\n",
       "      <td>NaN</td>\n",
       "      <td>got sent photo ruby smoke pours school</td>\n",
       "      <td>1</td>\n",
       "    </tr>\n",
       "  </tbody>\n",
       "</table>\n",
       "</div>"
      ],
      "text/plain": [
       "   id keyword location                                               text  \\\n",
       "0   1     NaN      NaN                  deeds reason may allah forgive us   \n",
       "1   4     NaN      NaN             forest fire near la ronge sask. canada   \n",
       "2   5     NaN      NaN  residents asked 'shelter place' notified offic...   \n",
       "3   6     NaN      NaN  13,000 people receive evacuation orders califo...   \n",
       "4   7     NaN      NaN             got sent photo ruby smoke pours school   \n",
       "\n",
       "   target  \n",
       "0       1  \n",
       "1       1  \n",
       "2       1  \n",
       "3       1  \n",
       "4       1  "
      ]
     },
     "execution_count": 13,
     "metadata": {},
     "output_type": "execute_result"
    }
   ],
   "source": [
    "train.head()"
   ]
  },
  {
   "cell_type": "code",
   "execution_count": 14,
   "id": "85777633",
   "metadata": {
    "execution": {
     "iopub.execute_input": "2023-02-02T18:39:40.663419Z",
     "iopub.status.busy": "2023-02-02T18:39:40.663122Z",
     "iopub.status.idle": "2023-02-02T18:39:40.672242Z",
     "shell.execute_reply": "2023-02-02T18:39:40.671375Z"
    },
    "papermill": {
     "duration": 0.033591,
     "end_time": "2023-02-02T18:39:40.674137",
     "exception": false,
     "start_time": "2023-02-02T18:39:40.640546",
     "status": "completed"
    },
    "tags": []
   },
   "outputs": [
    {
     "data": {
      "text/html": [
       "<div>\n",
       "<style scoped>\n",
       "    .dataframe tbody tr th:only-of-type {\n",
       "        vertical-align: middle;\n",
       "    }\n",
       "\n",
       "    .dataframe tbody tr th {\n",
       "        vertical-align: top;\n",
       "    }\n",
       "\n",
       "    .dataframe thead th {\n",
       "        text-align: right;\n",
       "    }\n",
       "</style>\n",
       "<table border=\"1\" class=\"dataframe\">\n",
       "  <thead>\n",
       "    <tr style=\"text-align: right;\">\n",
       "      <th></th>\n",
       "      <th>id</th>\n",
       "      <th>keyword</th>\n",
       "      <th>location</th>\n",
       "      <th>text</th>\n",
       "    </tr>\n",
       "  </thead>\n",
       "  <tbody>\n",
       "    <tr>\n",
       "      <th>0</th>\n",
       "      <td>0</td>\n",
       "      <td>NaN</td>\n",
       "      <td>NaN</td>\n",
       "      <td>happened terrible car crash</td>\n",
       "    </tr>\n",
       "    <tr>\n",
       "      <th>1</th>\n",
       "      <td>2</td>\n",
       "      <td>NaN</td>\n",
       "      <td>NaN</td>\n",
       "      <td>heard different cities, stay safe everyone.</td>\n",
       "    </tr>\n",
       "    <tr>\n",
       "      <th>2</th>\n",
       "      <td>3</td>\n",
       "      <td>NaN</td>\n",
       "      <td>NaN</td>\n",
       "      <td>forest fire spot pond, geese fleeing across st...</td>\n",
       "    </tr>\n",
       "    <tr>\n",
       "      <th>3</th>\n",
       "      <td>9</td>\n",
       "      <td>NaN</td>\n",
       "      <td>NaN</td>\n",
       "      <td>apocalypse lighting.</td>\n",
       "    </tr>\n",
       "    <tr>\n",
       "      <th>4</th>\n",
       "      <td>11</td>\n",
       "      <td>NaN</td>\n",
       "      <td>NaN</td>\n",
       "      <td>typhoon soudelor kills 28 china taiwan</td>\n",
       "    </tr>\n",
       "  </tbody>\n",
       "</table>\n",
       "</div>"
      ],
      "text/plain": [
       "   id keyword location                                               text\n",
       "0   0     NaN      NaN                        happened terrible car crash\n",
       "1   2     NaN      NaN        heard different cities, stay safe everyone.\n",
       "2   3     NaN      NaN  forest fire spot pond, geese fleeing across st...\n",
       "3   9     NaN      NaN                               apocalypse lighting.\n",
       "4  11     NaN      NaN             typhoon soudelor kills 28 china taiwan"
      ]
     },
     "execution_count": 14,
     "metadata": {},
     "output_type": "execute_result"
    }
   ],
   "source": [
    "test.head()"
   ]
  },
  {
   "cell_type": "code",
   "execution_count": 15,
   "id": "8c2747c6",
   "metadata": {
    "execution": {
     "iopub.execute_input": "2023-02-02T18:39:40.719523Z",
     "iopub.status.busy": "2023-02-02T18:39:40.718646Z",
     "iopub.status.idle": "2023-02-02T18:39:40.723257Z",
     "shell.execute_reply": "2023-02-02T18:39:40.722376Z"
    },
    "papermill": {
     "duration": 0.029159,
     "end_time": "2023-02-02T18:39:40.725368",
     "exception": false,
     "start_time": "2023-02-02T18:39:40.696209",
     "status": "completed"
    },
    "tags": []
   },
   "outputs": [],
   "source": [
    "y = train['target']\n",
    "x = train['text']"
   ]
  },
  {
   "cell_type": "code",
   "execution_count": 16,
   "id": "08390547",
   "metadata": {
    "execution": {
     "iopub.execute_input": "2023-02-02T18:39:40.769565Z",
     "iopub.status.busy": "2023-02-02T18:39:40.769275Z",
     "iopub.status.idle": "2023-02-02T18:39:40.775010Z",
     "shell.execute_reply": "2023-02-02T18:39:40.774029Z"
    },
    "papermill": {
     "duration": 0.030865,
     "end_time": "2023-02-02T18:39:40.777820",
     "exception": false,
     "start_time": "2023-02-02T18:39:40.746955",
     "status": "completed"
    },
    "tags": []
   },
   "outputs": [
    {
     "data": {
      "text/plain": [
       "(7613,)"
      ]
     },
     "execution_count": 16,
     "metadata": {},
     "output_type": "execute_result"
    }
   ],
   "source": [
    "x.shape"
   ]
  },
  {
   "cell_type": "markdown",
   "id": "8aeaed2b",
   "metadata": {
    "papermill": {
     "duration": 0.021477,
     "end_time": "2023-02-02T18:39:40.821021",
     "exception": false,
     "start_time": "2023-02-02T18:39:40.799544",
     "status": "completed"
    },
    "tags": []
   },
   "source": [
    "# Vectorization"
   ]
  },
  {
   "cell_type": "markdown",
   "id": "090d6d8d",
   "metadata": {
    "papermill": {
     "duration": 0.021374,
     "end_time": "2023-02-02T18:39:40.864142",
     "exception": false,
     "start_time": "2023-02-02T18:39:40.842768",
     "status": "completed"
    },
    "tags": []
   },
   "source": [
    "## TF-IDF"
   ]
  },
  {
   "cell_type": "code",
   "execution_count": 17,
   "id": "6684ec9c",
   "metadata": {
    "execution": {
     "iopub.execute_input": "2023-02-02T18:39:40.909110Z",
     "iopub.status.busy": "2023-02-02T18:39:40.908473Z",
     "iopub.status.idle": "2023-02-02T18:39:40.962015Z",
     "shell.execute_reply": "2023-02-02T18:39:40.961028Z"
    },
    "papermill": {
     "duration": 0.078506,
     "end_time": "2023-02-02T18:39:40.964203",
     "exception": false,
     "start_time": "2023-02-02T18:39:40.885697",
     "status": "completed"
    },
    "tags": []
   },
   "outputs": [],
   "source": [
    "# Creating a word corpus for vectorization\n",
    "corpus = []\n",
    "for i in range(x.shape[0]):\n",
    "    corpus.append(x.iloc[i])"
   ]
  },
  {
   "cell_type": "code",
   "execution_count": 18,
   "id": "674d0b8a",
   "metadata": {
    "execution": {
     "iopub.execute_input": "2023-02-02T18:39:41.009803Z",
     "iopub.status.busy": "2023-02-02T18:39:41.008373Z",
     "iopub.status.idle": "2023-02-02T18:39:43.019130Z",
     "shell.execute_reply": "2023-02-02T18:39:43.018141Z"
    },
    "papermill": {
     "duration": 2.035903,
     "end_time": "2023-02-02T18:39:43.021790",
     "exception": false,
     "start_time": "2023-02-02T18:39:40.985887",
     "status": "completed"
    },
    "tags": []
   },
   "outputs": [
    {
     "name": "stderr",
     "output_type": "stream",
     "text": [
      "/opt/conda/lib/python3.7/site-packages/sklearn/utils/deprecation.py:87: FutureWarning: Function get_feature_names is deprecated; get_feature_names is deprecated in 1.0 and will be removed in 1.2. Please use get_feature_names_out instead.\n",
      "  warnings.warn(msg, category=FutureWarning)\n"
     ]
    }
   ],
   "source": [
    "vectorizer1 = TfidfVectorizer(max_features=1000)\n",
    "X1 = vectorizer1.fit_transform(x)\n",
    "feature_names1 = vectorizer1.get_feature_names()\n",
    "denselist1 = X1.todense().tolist()\n",
    "train = pd.DataFrame(denselist1, columns=feature_names1)"
   ]
  },
  {
   "cell_type": "code",
   "execution_count": 19,
   "id": "7778c005",
   "metadata": {
    "execution": {
     "iopub.execute_input": "2023-02-02T18:39:43.069888Z",
     "iopub.status.busy": "2023-02-02T18:39:43.069581Z",
     "iopub.status.idle": "2023-02-02T18:39:43.111863Z",
     "shell.execute_reply": "2023-02-02T18:39:43.110966Z"
    },
    "papermill": {
     "duration": 0.069214,
     "end_time": "2023-02-02T18:39:43.113999",
     "exception": false,
     "start_time": "2023-02-02T18:39:43.044785",
     "status": "completed"
    },
    "tags": []
   },
   "outputs": [],
   "source": [
    "# splitting the training and testing part from the data\n",
    "X_temp, X_test, y_temp, y_test = train_test_split(train, y, test_size=0.2, random_state=0)"
   ]
  },
  {
   "cell_type": "markdown",
   "id": "b7bce2ea",
   "metadata": {
    "papermill": {
     "duration": 0.021623,
     "end_time": "2023-02-02T18:39:43.157657",
     "exception": false,
     "start_time": "2023-02-02T18:39:43.136034",
     "status": "completed"
    },
    "tags": []
   },
   "source": [
    "## Testing with Models"
   ]
  },
  {
   "cell_type": "code",
   "execution_count": 20,
   "id": "55396b41",
   "metadata": {
    "execution": {
     "iopub.execute_input": "2023-02-02T18:39:43.202544Z",
     "iopub.status.busy": "2023-02-02T18:39:43.202204Z",
     "iopub.status.idle": "2023-02-02T18:39:43.492676Z",
     "shell.execute_reply": "2023-02-02T18:39:43.491742Z"
    },
    "papermill": {
     "duration": 0.315447,
     "end_time": "2023-02-02T18:39:43.495027",
     "exception": false,
     "start_time": "2023-02-02T18:39:43.179580",
     "status": "completed"
    },
    "tags": []
   },
   "outputs": [],
   "source": [
    "from sklearn.linear_model import LogisticRegression\n",
    "from sklearn.naive_bayes import GaussianNB\n",
    "from sklearn.ensemble import RandomForestClassifier\n",
    "from sklearn.tree import DecisionTreeClassifier\n",
    "from sklearn.neighbors import KNeighborsClassifier\n",
    "from sklearn.ensemble import GradientBoostingClassifier\n",
    "\n",
    "from sklearn import metrics\n",
    "import matplotlib.pyplot as plt\n",
    "%matplotlib inline\n",
    "from sklearn.metrics import plot_confusion_matrix\n",
    "from sklearn.metrics import precision_score, recall_score, f1_score\n",
    "import seaborn as sns"
   ]
  },
  {
   "cell_type": "code",
   "execution_count": 21,
   "id": "cd3af93c",
   "metadata": {
    "execution": {
     "iopub.execute_input": "2023-02-02T18:39:43.541619Z",
     "iopub.status.busy": "2023-02-02T18:39:43.540629Z",
     "iopub.status.idle": "2023-02-02T18:39:43.545189Z",
     "shell.execute_reply": "2023-02-02T18:39:43.544360Z"
    },
    "papermill": {
     "duration": 0.029242,
     "end_time": "2023-02-02T18:39:43.547146",
     "exception": false,
     "start_time": "2023-02-02T18:39:43.517904",
     "status": "completed"
    },
    "tags": []
   },
   "outputs": [],
   "source": [
    "accuracy = {'TF-IDF':[]}"
   ]
  },
  {
   "cell_type": "markdown",
   "id": "914a69b0",
   "metadata": {
    "papermill": {
     "duration": 0.021607,
     "end_time": "2023-02-02T18:39:43.590605",
     "exception": false,
     "start_time": "2023-02-02T18:39:43.568998",
     "status": "completed"
    },
    "tags": []
   },
   "source": [
    "### Logistic Regression"
   ]
  },
  {
   "cell_type": "code",
   "execution_count": 22,
   "id": "2cbafc89",
   "metadata": {
    "execution": {
     "iopub.execute_input": "2023-02-02T18:39:43.635575Z",
     "iopub.status.busy": "2023-02-02T18:39:43.634753Z",
     "iopub.status.idle": "2023-02-02T18:39:44.619667Z",
     "shell.execute_reply": "2023-02-02T18:39:44.618612Z"
    },
    "papermill": {
     "duration": 1.011377,
     "end_time": "2023-02-02T18:39:44.623536",
     "exception": false,
     "start_time": "2023-02-02T18:39:43.612159",
     "status": "completed"
    },
    "tags": []
   },
   "outputs": [
    {
     "name": "stdout",
     "output_type": "stream",
     "text": [
      "[[774 112]\n",
      " [221 416]]\n",
      "              precision    recall  f1-score   support\n",
      "\n",
      "           0       0.78      0.87      0.82       886\n",
      "           1       0.79      0.65      0.71       637\n",
      "\n",
      "    accuracy                           0.78      1523\n",
      "   macro avg       0.78      0.76      0.77      1523\n",
      "weighted avg       0.78      0.78      0.78      1523\n",
      "\n",
      "0.7813525935653316\n"
     ]
    }
   ],
   "source": [
    "#TF-IDF\n",
    "regressor_LR_tf = LogisticRegression(C=1.0,penalty='l2',solver='newton-cg')\n",
    "regressor_LR_tf.fit(X_temp, y_temp)\n",
    "y_predict_LR_tf = regressor_LR_tf.predict(X_test)\n",
    "a=(regressor_LR_tf.score(X_test, y_test))\n",
    "accuracy['TF-IDF'].append(a)\n",
    "\n",
    "print(metrics.confusion_matrix(y_test, y_predict_LR_tf))\n",
    "print(metrics.classification_report(y_test, y_predict_LR_tf))\n",
    "print(metrics.accuracy_score(y_test, y_predict_LR_tf))"
   ]
  },
  {
   "cell_type": "markdown",
   "id": "b31aaf32",
   "metadata": {
    "papermill": {
     "duration": 0.055867,
     "end_time": "2023-02-02T18:39:44.738142",
     "exception": false,
     "start_time": "2023-02-02T18:39:44.682275",
     "status": "completed"
    },
    "tags": []
   },
   "source": [
    "### Decision Tree"
   ]
  },
  {
   "cell_type": "code",
   "execution_count": 23,
   "id": "041f083f",
   "metadata": {
    "execution": {
     "iopub.execute_input": "2023-02-02T18:39:44.783021Z",
     "iopub.status.busy": "2023-02-02T18:39:44.782694Z",
     "iopub.status.idle": "2023-02-02T18:39:44.874480Z",
     "shell.execute_reply": "2023-02-02T18:39:44.873354Z"
    },
    "papermill": {
     "duration": 0.117565,
     "end_time": "2023-02-02T18:39:44.877447",
     "exception": false,
     "start_time": "2023-02-02T18:39:44.759882",
     "status": "completed"
    },
    "tags": []
   },
   "outputs": [
    {
     "name": "stdout",
     "output_type": "stream",
     "text": [
      "[[825  61]\n",
      " [483 154]]\n",
      "              precision    recall  f1-score   support\n",
      "\n",
      "           0       0.63      0.93      0.75       886\n",
      "           1       0.72      0.24      0.36       637\n",
      "\n",
      "    accuracy                           0.64      1523\n",
      "   macro avg       0.67      0.59      0.56      1523\n",
      "weighted avg       0.67      0.64      0.59      1523\n",
      "\n",
      "0.6428102429415627\n"
     ]
    }
   ],
   "source": [
    "#TF-IDF\n",
    "model_DT_tf = DecisionTreeClassifier(criterion = 'gini', max_depth=2) \n",
    "model_DT_tf.fit(X_temp, y_temp)\n",
    "y_predict_DT_tf = model_DT_tf.predict(X_test)\n",
    "a=(model_DT_tf.score(X_test,y_test))\n",
    "accuracy['TF-IDF'].append(a)\n",
    "\n",
    "print(metrics.confusion_matrix(y_test, y_predict_DT_tf))\n",
    "print(metrics.classification_report(y_test, y_predict_DT_tf))\n",
    "print(metrics.accuracy_score(y_test, y_predict_DT_tf))"
   ]
  },
  {
   "cell_type": "markdown",
   "id": "90c4f4e1",
   "metadata": {
    "papermill": {
     "duration": 0.021728,
     "end_time": "2023-02-02T18:39:44.922597",
     "exception": false,
     "start_time": "2023-02-02T18:39:44.900869",
     "status": "completed"
    },
    "tags": []
   },
   "source": [
    "### Gradient Boosting"
   ]
  },
  {
   "cell_type": "code",
   "execution_count": 24,
   "id": "12e6e5e8",
   "metadata": {
    "execution": {
     "iopub.execute_input": "2023-02-02T18:39:44.968063Z",
     "iopub.status.busy": "2023-02-02T18:39:44.967187Z",
     "iopub.status.idle": "2023-02-02T18:39:50.943829Z",
     "shell.execute_reply": "2023-02-02T18:39:50.941651Z"
    },
    "papermill": {
     "duration": 6.002392,
     "end_time": "2023-02-02T18:39:50.946815",
     "exception": false,
     "start_time": "2023-02-02T18:39:44.944423",
     "status": "completed"
    },
    "tags": []
   },
   "outputs": [
    {
     "name": "stdout",
     "output_type": "stream",
     "text": [
      "[[772 114]\n",
      " [299 338]]\n",
      "              precision    recall  f1-score   support\n",
      "\n",
      "           0       0.72      0.87      0.79       886\n",
      "           1       0.75      0.53      0.62       637\n",
      "\n",
      "    accuracy                           0.73      1523\n",
      "   macro avg       0.73      0.70      0.70      1523\n",
      "weighted avg       0.73      0.73      0.72      1523\n",
      "\n",
      "0.7288246881155613\n"
     ]
    }
   ],
   "source": [
    "#TF-IDF\n",
    "model_GB_tf = GradientBoostingClassifier(learning_rate= 0.1, max_depth=3, n_estimators= 100,subsample=1.0) \n",
    "model_GB_tf.fit(X_temp, y_temp)\n",
    "y_predict_GB_tf = model_GB_tf.predict(X_test)\n",
    "a=(model_GB_tf.score(X_test,y_test))\n",
    "accuracy['TF-IDF'].append(a)\n",
    "print(metrics.confusion_matrix(y_test, y_predict_GB_tf))\n",
    "print(metrics.classification_report(y_test, y_predict_GB_tf))\n",
    "print(metrics.accuracy_score(y_test, y_predict_GB_tf))"
   ]
  },
  {
   "cell_type": "markdown",
   "id": "7e9627f1",
   "metadata": {
    "papermill": {
     "duration": 0.022385,
     "end_time": "2023-02-02T18:39:50.992252",
     "exception": false,
     "start_time": "2023-02-02T18:39:50.969867",
     "status": "completed"
    },
    "tags": []
   },
   "source": [
    "### Random Forest"
   ]
  },
  {
   "cell_type": "code",
   "execution_count": 25,
   "id": "c6de1d8b",
   "metadata": {
    "execution": {
     "iopub.execute_input": "2023-02-02T18:39:51.038094Z",
     "iopub.status.busy": "2023-02-02T18:39:51.037740Z",
     "iopub.status.idle": "2023-02-02T18:39:54.711184Z",
     "shell.execute_reply": "2023-02-02T18:39:54.710188Z"
    },
    "papermill": {
     "duration": 3.700199,
     "end_time": "2023-02-02T18:39:54.714389",
     "exception": false,
     "start_time": "2023-02-02T18:39:51.014190",
     "status": "completed"
    },
    "tags": []
   },
   "outputs": [
    {
     "name": "stdout",
     "output_type": "stream",
     "text": [
      "[[774 112]\n",
      " [234 403]]\n",
      "              precision    recall  f1-score   support\n",
      "\n",
      "           0       0.77      0.87      0.82       886\n",
      "           1       0.78      0.63      0.70       637\n",
      "\n",
      "    accuracy                           0.77      1523\n",
      "   macro avg       0.78      0.75      0.76      1523\n",
      "weighted avg       0.77      0.77      0.77      1523\n",
      "\n",
      "0.7728168089297439\n"
     ]
    }
   ],
   "source": [
    "#TF-IDF\n",
    "model_RF_tf = RandomForestClassifier(n_estimators= 100, max_features = 'log2')\n",
    "model_RF_tf.fit(X_temp, y_temp)\n",
    "y_predict_RF_tf = model_RF_tf.predict(X_test)\n",
    "a=(model_RF_tf.score(X_test,y_test))\n",
    "accuracy['TF-IDF'].append(a)\n",
    "\n",
    "print(metrics.confusion_matrix(y_test, y_predict_RF_tf))\n",
    "print(metrics.classification_report(y_test, y_predict_RF_tf))\n",
    "print(metrics.accuracy_score(y_test, y_predict_RF_tf))"
   ]
  },
  {
   "cell_type": "markdown",
   "id": "36b3c785",
   "metadata": {
    "papermill": {
     "duration": 0.022217,
     "end_time": "2023-02-02T18:39:54.760411",
     "exception": false,
     "start_time": "2023-02-02T18:39:54.738194",
     "status": "completed"
    },
    "tags": []
   },
   "source": [
    "### K Nearest Neighbours"
   ]
  },
  {
   "cell_type": "code",
   "execution_count": 26,
   "id": "4899cf6e",
   "metadata": {
    "execution": {
     "iopub.execute_input": "2023-02-02T18:39:54.807078Z",
     "iopub.status.busy": "2023-02-02T18:39:54.806707Z",
     "iopub.status.idle": "2023-02-02T18:41:21.695944Z",
     "shell.execute_reply": "2023-02-02T18:41:21.694886Z"
    },
    "papermill": {
     "duration": 86.938688,
     "end_time": "2023-02-02T18:41:21.721922",
     "exception": false,
     "start_time": "2023-02-02T18:39:54.783234",
     "status": "completed"
    },
    "tags": []
   },
   "outputs": [
    {
     "name": "stdout",
     "output_type": "stream",
     "text": [
      "[[803  83]\n",
      " [352 285]]\n",
      "              precision    recall  f1-score   support\n",
      "\n",
      "           0       0.70      0.91      0.79       886\n",
      "           1       0.77      0.45      0.57       637\n",
      "\n",
      "    accuracy                           0.71      1523\n",
      "   macro avg       0.73      0.68      0.68      1523\n",
      "weighted avg       0.73      0.71      0.69      1523\n",
      "\n",
      "0.7143795141168746\n"
     ]
    }
   ],
   "source": [
    "#TF-IDF\n",
    "model_KN_tf = KNeighborsClassifier(metric= 'manhattan', n_neighbors= 5, weights= 'distance') \n",
    "model_KN_tf.fit(X_temp, y_temp)\n",
    "y_predict_KN_tf = model_KN_tf.predict(X_test)\n",
    "a=(model_KN_tf.score(X_test,y_test))\n",
    "accuracy['TF-IDF'].append(a)\n",
    "print(metrics.confusion_matrix(y_test, y_predict_KN_tf))\n",
    "print(metrics.classification_report(y_test, y_predict_KN_tf))\n",
    "print(metrics.accuracy_score(y_test, y_predict_KN_tf))"
   ]
  },
  {
   "cell_type": "markdown",
   "id": "f3ad0a71",
   "metadata": {
    "papermill": {
     "duration": 0.022166,
     "end_time": "2023-02-02T18:41:21.766445",
     "exception": false,
     "start_time": "2023-02-02T18:41:21.744279",
     "status": "completed"
    },
    "tags": []
   },
   "source": [
    "## Evaluation"
   ]
  },
  {
   "cell_type": "code",
   "execution_count": 27,
   "id": "4400fffe",
   "metadata": {
    "execution": {
     "iopub.execute_input": "2023-02-02T18:41:21.812421Z",
     "iopub.status.busy": "2023-02-02T18:41:21.812046Z",
     "iopub.status.idle": "2023-02-02T18:41:21.823289Z",
     "shell.execute_reply": "2023-02-02T18:41:21.822364Z"
    },
    "papermill": {
     "duration": 0.03687,
     "end_time": "2023-02-02T18:41:21.825394",
     "exception": false,
     "start_time": "2023-02-02T18:41:21.788524",
     "status": "completed"
    },
    "tags": []
   },
   "outputs": [
    {
     "data": {
      "text/html": [
       "<div>\n",
       "<style scoped>\n",
       "    .dataframe tbody tr th:only-of-type {\n",
       "        vertical-align: middle;\n",
       "    }\n",
       "\n",
       "    .dataframe tbody tr th {\n",
       "        vertical-align: top;\n",
       "    }\n",
       "\n",
       "    .dataframe thead th {\n",
       "        text-align: right;\n",
       "    }\n",
       "</style>\n",
       "<table border=\"1\" class=\"dataframe\">\n",
       "  <thead>\n",
       "    <tr style=\"text-align: right;\">\n",
       "      <th></th>\n",
       "      <th>model</th>\n",
       "      <th>accuracy</th>\n",
       "    </tr>\n",
       "  </thead>\n",
       "  <tbody>\n",
       "    <tr>\n",
       "      <th>0</th>\n",
       "      <td>LR</td>\n",
       "      <td>0.781353</td>\n",
       "    </tr>\n",
       "    <tr>\n",
       "      <th>1</th>\n",
       "      <td>DT</td>\n",
       "      <td>0.642810</td>\n",
       "    </tr>\n",
       "    <tr>\n",
       "      <th>2</th>\n",
       "      <td>GB</td>\n",
       "      <td>0.728825</td>\n",
       "    </tr>\n",
       "    <tr>\n",
       "      <th>3</th>\n",
       "      <td>RF</td>\n",
       "      <td>0.772817</td>\n",
       "    </tr>\n",
       "    <tr>\n",
       "      <th>4</th>\n",
       "      <td>KN</td>\n",
       "      <td>0.714380</td>\n",
       "    </tr>\n",
       "  </tbody>\n",
       "</table>\n",
       "</div>"
      ],
      "text/plain": [
       "  model  accuracy\n",
       "0    LR  0.781353\n",
       "1    DT  0.642810\n",
       "2    GB  0.728825\n",
       "3    RF  0.772817\n",
       "4    KN  0.714380"
      ]
     },
     "execution_count": 27,
     "metadata": {},
     "output_type": "execute_result"
    }
   ],
   "source": [
    "model = ['LR','DT','GB','RF','KN']\n",
    "data = {'model':model,'accuracy':accuracy['TF-IDF']}\n",
    "compare_models = pd.DataFrame(data)\n",
    "compare_models"
   ]
  },
  {
   "cell_type": "code",
   "execution_count": 28,
   "id": "e932c1b7",
   "metadata": {
    "execution": {
     "iopub.execute_input": "2023-02-02T18:41:21.871648Z",
     "iopub.status.busy": "2023-02-02T18:41:21.871290Z",
     "iopub.status.idle": "2023-02-02T18:41:22.375231Z",
     "shell.execute_reply": "2023-02-02T18:41:22.374091Z"
    },
    "papermill": {
     "duration": 0.529922,
     "end_time": "2023-02-02T18:41:22.377877",
     "exception": false,
     "start_time": "2023-02-02T18:41:21.847955",
     "status": "completed"
    },
    "tags": []
   },
   "outputs": [
    {
     "data": {
      "image/png": "[encoded data removed]",
      "text/plain": [
       "<Figure size 576x360 with 1 Axes>"
      ]
     },
     "metadata": {
      "needs_background": "light"
     },
     "output_type": "display_data"
    }
   ],
   "source": [
    "x, y = compare_models['model'],compare_models['accuracy']\n",
    "ind = np.arange(len(y))\n",
    "fig, ax = plt.subplots(figsize=(8,5))\n",
    "ax.bar(ind, y)\n",
    "ax.set_xticks(ind)\n",
    "ax.set_xticklabels(x)\n",
    "ax.bar_label(ax.containers[0], horizontalalignment='left')\n",
    "ax.tick_params(axis='both', which='major', labelsize=16)\n",
    "ax.tick_params(axis='both', which='minor', labelsize=12)\n",
    "plt.show()\n",
    "fig.savefig('Comparision of Models, TFIDF.pdf', format='pdf', bbox_inches = \"tight\")"
   ]
  },
  {
   "cell_type": "markdown",
   "id": "3595df13",
   "metadata": {
    "papermill": {
     "duration": 0.022747,
     "end_time": "2023-02-02T18:41:22.423796",
     "exception": false,
     "start_time": "2023-02-02T18:41:22.401049",
     "status": "completed"
    },
    "tags": []
   },
   "source": [
    "## BoW"
   ]
  },
  {
   "cell_type": "markdown",
   "id": "0e4f9c61",
   "metadata": {
    "papermill": {
     "duration": 0.022286,
     "end_time": "2023-02-02T18:41:22.468747",
     "exception": false,
     "start_time": "2023-02-02T18:41:22.446461",
     "status": "completed"
    },
    "tags": []
   },
   "source": [
    "### Vectorizing"
   ]
  },
  {
   "cell_type": "code",
   "execution_count": 29,
   "id": "65262370",
   "metadata": {
    "execution": {
     "iopub.execute_input": "2023-02-02T18:41:22.516197Z",
     "iopub.status.busy": "2023-02-02T18:41:22.515548Z",
     "iopub.status.idle": "2023-02-02T18:41:22.543425Z",
     "shell.execute_reply": "2023-02-02T18:41:22.542532Z"
    },
    "papermill": {
     "duration": 0.054153,
     "end_time": "2023-02-02T18:41:22.545420",
     "exception": false,
     "start_time": "2023-02-02T18:41:22.491267",
     "status": "completed"
    },
    "tags": []
   },
   "outputs": [],
   "source": [
    "train = pd.read_csv(\"/kaggle/input/nlp-getting-started/train.csv\")\n",
    "test = pd.read_csv(\"/kaggle/input/nlp-getting-started/test.csv\")"
   ]
  },
  {
   "cell_type": "code",
   "execution_count": 30,
   "id": "ba216cff",
   "metadata": {
    "execution": {
     "iopub.execute_input": "2023-02-02T18:41:22.594513Z",
     "iopub.status.busy": "2023-02-02T18:41:22.593459Z",
     "iopub.status.idle": "2023-02-02T18:41:22.601767Z",
     "shell.execute_reply": "2023-02-02T18:41:22.600815Z"
    },
    "papermill": {
     "duration": 0.034806,
     "end_time": "2023-02-02T18:41:22.603867",
     "exception": false,
     "start_time": "2023-02-02T18:41:22.569061",
     "status": "completed"
    },
    "tags": []
   },
   "outputs": [],
   "source": [
    "train=train.drop(['id','keyword','location'], axis = 1)"
   ]
  },
  {
   "cell_type": "code",
   "execution_count": 31,
   "id": "bd129a31",
   "metadata": {
    "execution": {
     "iopub.execute_input": "2023-02-02T18:41:22.651784Z",
     "iopub.status.busy": "2023-02-02T18:41:22.651409Z",
     "iopub.status.idle": "2023-02-02T18:41:22.657473Z",
     "shell.execute_reply": "2023-02-02T18:41:22.656483Z"
    },
    "papermill": {
     "duration": 0.032862,
     "end_time": "2023-02-02T18:41:22.659636",
     "exception": false,
     "start_time": "2023-02-02T18:41:22.626774",
     "status": "completed"
    },
    "tags": []
   },
   "outputs": [],
   "source": [
    "dff = train.drop(['target'], axis = 1)"
   ]
  },
  {
   "cell_type": "code",
   "execution_count": 32,
   "id": "f967168b",
   "metadata": {
    "execution": {
     "iopub.execute_input": "2023-02-02T18:41:22.708620Z",
     "iopub.status.busy": "2023-02-02T18:41:22.706771Z",
     "iopub.status.idle": "2023-02-02T18:41:22.716615Z",
     "shell.execute_reply": "2023-02-02T18:41:22.715748Z"
    },
    "papermill": {
     "duration": 0.035982,
     "end_time": "2023-02-02T18:41:22.718706",
     "exception": false,
     "start_time": "2023-02-02T18:41:22.682724",
     "status": "completed"
    },
    "tags": []
   },
   "outputs": [],
   "source": [
    "X_temp, X_test, y_temp, y_test = train_test_split(dff, list(train.target), test_size=0.2)"
   ]
  },
  {
   "cell_type": "code",
   "execution_count": 33,
   "id": "40cf9f6f",
   "metadata": {
    "execution": {
     "iopub.execute_input": "2023-02-02T18:41:22.765723Z",
     "iopub.status.busy": "2023-02-02T18:41:22.764828Z",
     "iopub.status.idle": "2023-02-02T18:41:22.771640Z",
     "shell.execute_reply": "2023-02-02T18:41:22.770636Z"
    },
    "papermill": {
     "duration": 0.032256,
     "end_time": "2023-02-02T18:41:22.773589",
     "exception": false,
     "start_time": "2023-02-02T18:41:22.741333",
     "status": "completed"
    },
    "tags": []
   },
   "outputs": [
    {
     "data": {
      "text/plain": [
       "((1523, 1), (6090, 1), 1523, 6090)"
      ]
     },
     "execution_count": 33,
     "metadata": {},
     "output_type": "execute_result"
    }
   ],
   "source": [
    "X_test.shape, X_temp.shape, len(y_test), len(y_temp)"
   ]
  },
  {
   "cell_type": "code",
   "execution_count": 34,
   "id": "4877143b",
   "metadata": {
    "execution": {
     "iopub.execute_input": "2023-02-02T18:41:22.822637Z",
     "iopub.status.busy": "2023-02-02T18:41:22.821779Z",
     "iopub.status.idle": "2023-02-02T18:41:22.828432Z",
     "shell.execute_reply": "2023-02-02T18:41:22.827387Z"
    },
    "papermill": {
     "duration": 0.033065,
     "end_time": "2023-02-02T18:41:22.830518",
     "exception": false,
     "start_time": "2023-02-02T18:41:22.797453",
     "status": "completed"
    },
    "tags": []
   },
   "outputs": [],
   "source": [
    "X_temp['label'] = y_temp"
   ]
  },
  {
   "cell_type": "code",
   "execution_count": 35,
   "id": "786f7ae5",
   "metadata": {
    "execution": {
     "iopub.execute_input": "2023-02-02T18:41:22.878125Z",
     "iopub.status.busy": "2023-02-02T18:41:22.877765Z",
     "iopub.status.idle": "2023-02-02T18:41:22.886952Z",
     "shell.execute_reply": "2023-02-02T18:41:22.886008Z"
    },
    "papermill": {
     "duration": 0.03573,
     "end_time": "2023-02-02T18:41:22.889201",
     "exception": false,
     "start_time": "2023-02-02T18:41:22.853471",
     "status": "completed"
    },
    "tags": []
   },
   "outputs": [
    {
     "data": {
      "text/html": [
       "<div>\n",
       "<style scoped>\n",
       "    .dataframe tbody tr th:only-of-type {\n",
       "        vertical-align: middle;\n",
       "    }\n",
       "\n",
       "    .dataframe tbody tr th {\n",
       "        vertical-align: top;\n",
       "    }\n",
       "\n",
       "    .dataframe thead th {\n",
       "        text-align: right;\n",
       "    }\n",
       "</style>\n",
       "<table border=\"1\" class=\"dataframe\">\n",
       "  <thead>\n",
       "    <tr style=\"text-align: right;\">\n",
       "      <th></th>\n",
       "      <th>text</th>\n",
       "      <th>label</th>\n",
       "    </tr>\n",
       "  </thead>\n",
       "  <tbody>\n",
       "    <tr>\n",
       "      <th>6837</th>\n",
       "      <td>Hollywood Movie About Trapped Miners Released ...</td>\n",
       "      <td>1</td>\n",
       "    </tr>\n",
       "    <tr>\n",
       "      <th>5912</th>\n",
       "      <td>I slammed my phone to the ground and then scre...</td>\n",
       "      <td>0</td>\n",
       "    </tr>\n",
       "    <tr>\n",
       "      <th>5298</th>\n",
       "      <td>@SenateMajLdr let's try to do our best to prev...</td>\n",
       "      <td>1</td>\n",
       "    </tr>\n",
       "    <tr>\n",
       "      <th>7201</th>\n",
       "      <td>only weapon im scared off is karma</td>\n",
       "      <td>0</td>\n",
       "    </tr>\n",
       "    <tr>\n",
       "      <th>686</th>\n",
       "      <td>Bit pacquiao vs marquez 3 unfilled blazing swa...</td>\n",
       "      <td>0</td>\n",
       "    </tr>\n",
       "  </tbody>\n",
       "</table>\n",
       "</div>"
      ],
      "text/plain": [
       "                                                   text  label\n",
       "6837  Hollywood Movie About Trapped Miners Released ...      1\n",
       "5912  I slammed my phone to the ground and then scre...      0\n",
       "5298  @SenateMajLdr let's try to do our best to prev...      1\n",
       "7201                 only weapon im scared off is karma      0\n",
       "686   Bit pacquiao vs marquez 3 unfilled blazing swa...      0"
      ]
     },
     "execution_count": 35,
     "metadata": {},
     "output_type": "execute_result"
    }
   ],
   "source": [
    "X_temp.head()"
   ]
  },
  {
   "cell_type": "code",
   "execution_count": 36,
   "id": "0957bee3",
   "metadata": {
    "execution": {
     "iopub.execute_input": "2023-02-02T18:41:22.937172Z",
     "iopub.status.busy": "2023-02-02T18:41:22.936336Z",
     "iopub.status.idle": "2023-02-02T18:41:22.944097Z",
     "shell.execute_reply": "2023-02-02T18:41:22.943099Z"
    },
    "papermill": {
     "duration": 0.033566,
     "end_time": "2023-02-02T18:41:22.946072",
     "exception": false,
     "start_time": "2023-02-02T18:41:22.912506",
     "status": "completed"
    },
    "tags": []
   },
   "outputs": [
    {
     "data": {
      "text/plain": [
       "3462"
      ]
     },
     "execution_count": 36,
     "metadata": {},
     "output_type": "execute_result"
    }
   ],
   "source": [
    "zero = X_temp[X_temp['label'] == 0]\n",
    "zero.shape[0]"
   ]
  },
  {
   "cell_type": "code",
   "execution_count": 37,
   "id": "20a18c1b",
   "metadata": {
    "execution": {
     "iopub.execute_input": "2023-02-02T18:41:22.994154Z",
     "iopub.status.busy": "2023-02-02T18:41:22.993219Z",
     "iopub.status.idle": "2023-02-02T18:41:23.001178Z",
     "shell.execute_reply": "2023-02-02T18:41:23.000177Z"
    },
    "papermill": {
     "duration": 0.034198,
     "end_time": "2023-02-02T18:41:23.003169",
     "exception": false,
     "start_time": "2023-02-02T18:41:22.968971",
     "status": "completed"
    },
    "tags": []
   },
   "outputs": [
    {
     "data": {
      "text/plain": [
       "2628"
      ]
     },
     "execution_count": 37,
     "metadata": {},
     "output_type": "execute_result"
    }
   ],
   "source": [
    "one = X_temp[X_temp['label'] == 1]\n",
    "one.shape[0]"
   ]
  },
  {
   "cell_type": "code",
   "execution_count": 38,
   "id": "b8cd1037",
   "metadata": {
    "execution": {
     "iopub.execute_input": "2023-02-02T18:41:23.051572Z",
     "iopub.status.busy": "2023-02-02T18:41:23.050729Z",
     "iopub.status.idle": "2023-02-02T18:41:23.056943Z",
     "shell.execute_reply": "2023-02-02T18:41:23.056100Z"
    },
    "papermill": {
     "duration": 0.032275,
     "end_time": "2023-02-02T18:41:23.058907",
     "exception": false,
     "start_time": "2023-02-02T18:41:23.026632",
     "status": "completed"
    },
    "tags": []
   },
   "outputs": [],
   "source": [
    "ds = pd.concat([zero,one], axis = 0)"
   ]
  },
  {
   "cell_type": "code",
   "execution_count": 39,
   "id": "640d2d6c",
   "metadata": {
    "execution": {
     "iopub.execute_input": "2023-02-02T18:41:23.106465Z",
     "iopub.status.busy": "2023-02-02T18:41:23.105661Z",
     "iopub.status.idle": "2023-02-02T18:41:23.116773Z",
     "shell.execute_reply": "2023-02-02T18:41:23.115780Z"
    },
    "papermill": {
     "duration": 0.037099,
     "end_time": "2023-02-02T18:41:23.119074",
     "exception": false,
     "start_time": "2023-02-02T18:41:23.081975",
     "status": "completed"
    },
    "tags": []
   },
   "outputs": [
    {
     "data": {
      "text/html": [
       "<div>\n",
       "<style scoped>\n",
       "    .dataframe tbody tr th:only-of-type {\n",
       "        vertical-align: middle;\n",
       "    }\n",
       "\n",
       "    .dataframe tbody tr th {\n",
       "        vertical-align: top;\n",
       "    }\n",
       "\n",
       "    .dataframe thead th {\n",
       "        text-align: right;\n",
       "    }\n",
       "</style>\n",
       "<table border=\"1\" class=\"dataframe\">\n",
       "  <thead>\n",
       "    <tr style=\"text-align: right;\">\n",
       "      <th></th>\n",
       "      <th>text</th>\n",
       "      <th>label</th>\n",
       "    </tr>\n",
       "  </thead>\n",
       "  <tbody>\n",
       "    <tr>\n",
       "      <th>5912</th>\n",
       "      <td>I slammed my phone to the ground and then scre...</td>\n",
       "      <td>0</td>\n",
       "    </tr>\n",
       "    <tr>\n",
       "      <th>7201</th>\n",
       "      <td>only weapon im scared off is karma</td>\n",
       "      <td>0</td>\n",
       "    </tr>\n",
       "    <tr>\n",
       "      <th>686</th>\n",
       "      <td>Bit pacquiao vs marquez 3 unfilled blazing swa...</td>\n",
       "      <td>0</td>\n",
       "    </tr>\n",
       "    <tr>\n",
       "      <th>3394</th>\n",
       "      <td>Evacuation drill at work. The fire doors would...</td>\n",
       "      <td>0</td>\n",
       "    </tr>\n",
       "    <tr>\n",
       "      <th>1789</th>\n",
       "      <td>The Next Financial Crash. 'The Writing is on t...</td>\n",
       "      <td>0</td>\n",
       "    </tr>\n",
       "    <tr>\n",
       "      <th>...</th>\n",
       "      <td>...</td>\n",
       "      <td>...</td>\n",
       "    </tr>\n",
       "    <tr>\n",
       "      <th>1847</th>\n",
       "      <td>'@jorrynja: 6. @ your bf/gf/crush ??' @Ter_ell ??</td>\n",
       "      <td>1</td>\n",
       "    </tr>\n",
       "    <tr>\n",
       "      <th>5084</th>\n",
       "      <td>If i tweet daily #Fukushima #Japan global nucl...</td>\n",
       "      <td>1</td>\n",
       "    </tr>\n",
       "    <tr>\n",
       "      <th>6072</th>\n",
       "      <td>Water main break disrupts trolley service http...</td>\n",
       "      <td>1</td>\n",
       "    </tr>\n",
       "    <tr>\n",
       "      <th>2817</th>\n",
       "      <td>Crews were out all day boarding up windows at ...</td>\n",
       "      <td>1</td>\n",
       "    </tr>\n",
       "    <tr>\n",
       "      <th>6391</th>\n",
       "      <td>#GRupdates Pic of 16yr old PKK suicide bomber ...</td>\n",
       "      <td>1</td>\n",
       "    </tr>\n",
       "  </tbody>\n",
       "</table>\n",
       "<p>6090 rows × 2 columns</p>\n",
       "</div>"
      ],
      "text/plain": [
       "                                                   text  label\n",
       "5912  I slammed my phone to the ground and then scre...      0\n",
       "7201                 only weapon im scared off is karma      0\n",
       "686   Bit pacquiao vs marquez 3 unfilled blazing swa...      0\n",
       "3394  Evacuation drill at work. The fire doors would...      0\n",
       "1789  The Next Financial Crash. 'The Writing is on t...      0\n",
       "...                                                 ...    ...\n",
       "1847  '@jorrynja: 6. @ your bf/gf/crush ??' @Ter_ell ??      1\n",
       "5084  If i tweet daily #Fukushima #Japan global nucl...      1\n",
       "6072  Water main break disrupts trolley service http...      1\n",
       "2817  Crews were out all day boarding up windows at ...      1\n",
       "6391  #GRupdates Pic of 16yr old PKK suicide bomber ...      1\n",
       "\n",
       "[6090 rows x 2 columns]"
      ]
     },
     "execution_count": 39,
     "metadata": {},
     "output_type": "execute_result"
    }
   ],
   "source": [
    "ds"
   ]
  },
  {
   "cell_type": "code",
   "execution_count": 40,
   "id": "0baf706e",
   "metadata": {
    "execution": {
     "iopub.execute_input": "2023-02-02T18:41:23.166235Z",
     "iopub.status.busy": "2023-02-02T18:41:23.165964Z",
     "iopub.status.idle": "2023-02-02T18:41:23.172565Z",
     "shell.execute_reply": "2023-02-02T18:41:23.171666Z"
    },
    "papermill": {
     "duration": 0.032347,
     "end_time": "2023-02-02T18:41:23.174456",
     "exception": false,
     "start_time": "2023-02-02T18:41:23.142109",
     "status": "completed"
    },
    "tags": []
   },
   "outputs": [
    {
     "data": {
      "text/plain": [
       "(1523, 2)"
      ]
     },
     "execution_count": 40,
     "metadata": {},
     "output_type": "execute_result"
    }
   ],
   "source": [
    "testdf = X_test\n",
    "testdf['label'] = y_test\n",
    "testdf.shape"
   ]
  },
  {
   "cell_type": "code",
   "execution_count": 41,
   "id": "66cd6bf0",
   "metadata": {
    "execution": {
     "iopub.execute_input": "2023-02-02T18:41:23.222343Z",
     "iopub.status.busy": "2023-02-02T18:41:23.222066Z",
     "iopub.status.idle": "2023-02-02T18:41:23.229696Z",
     "shell.execute_reply": "2023-02-02T18:41:23.228731Z"
    },
    "papermill": {
     "duration": 0.033609,
     "end_time": "2023-02-02T18:41:23.231611",
     "exception": false,
     "start_time": "2023-02-02T18:41:23.198002",
     "status": "completed"
    },
    "tags": []
   },
   "outputs": [
    {
     "data": {
      "text/plain": [
       "(880, 643)"
      ]
     },
     "execution_count": 41,
     "metadata": {},
     "output_type": "execute_result"
    }
   ],
   "source": [
    "len(testdf[testdf['label']==0]),len(testdf[testdf['label']==1])"
   ]
  },
  {
   "cell_type": "code",
   "execution_count": 42,
   "id": "e6b97935",
   "metadata": {
    "execution": {
     "iopub.execute_input": "2023-02-02T18:41:23.279254Z",
     "iopub.status.busy": "2023-02-02T18:41:23.278663Z",
     "iopub.status.idle": "2023-02-02T18:41:23.283736Z",
     "shell.execute_reply": "2023-02-02T18:41:23.282876Z"
    },
    "papermill": {
     "duration": 0.030941,
     "end_time": "2023-02-02T18:41:23.285656",
     "exception": false,
     "start_time": "2023-02-02T18:41:23.254715",
     "status": "completed"
    },
    "tags": []
   },
   "outputs": [],
   "source": [
    "ds = pd.concat([ds, testdf], axis = 0)"
   ]
  },
  {
   "cell_type": "code",
   "execution_count": 43,
   "id": "dbcfaaf0",
   "metadata": {
    "execution": {
     "iopub.execute_input": "2023-02-02T18:41:23.333415Z",
     "iopub.status.busy": "2023-02-02T18:41:23.332646Z",
     "iopub.status.idle": "2023-02-02T18:41:23.340413Z",
     "shell.execute_reply": "2023-02-02T18:41:23.339462Z"
    },
    "papermill": {
     "duration": 0.033622,
     "end_time": "2023-02-02T18:41:23.342344",
     "exception": false,
     "start_time": "2023-02-02T18:41:23.308722",
     "status": "completed"
    },
    "tags": []
   },
   "outputs": [
    {
     "data": {
      "text/plain": [
       "((4342, 2), (3271, 2))"
      ]
     },
     "execution_count": 43,
     "metadata": {},
     "output_type": "execute_result"
    }
   ],
   "source": [
    "ds[ds['label']==0].shape, ds[ds['label']==1].shape"
   ]
  },
  {
   "cell_type": "code",
   "execution_count": 44,
   "id": "017fa66d",
   "metadata": {
    "execution": {
     "iopub.execute_input": "2023-02-02T18:41:23.390860Z",
     "iopub.status.busy": "2023-02-02T18:41:23.390083Z",
     "iopub.status.idle": "2023-02-02T18:41:24.115948Z",
     "shell.execute_reply": "2023-02-02T18:41:24.114980Z"
    },
    "papermill": {
     "duration": 0.752988,
     "end_time": "2023-02-02T18:41:24.118810",
     "exception": false,
     "start_time": "2023-02-02T18:41:23.365822",
     "status": "completed"
    },
    "tags": []
   },
   "outputs": [],
   "source": [
    "corpus = []\n",
    "for i in range(ds.shape[0]):\n",
    "    corpus.append(ds.iloc[i][0])"
   ]
  },
  {
   "cell_type": "code",
   "execution_count": 45,
   "id": "4be1a2b0",
   "metadata": {
    "execution": {
     "iopub.execute_input": "2023-02-02T18:41:24.168149Z",
     "iopub.status.busy": "2023-02-02T18:41:24.167199Z",
     "iopub.status.idle": "2023-02-02T18:41:24.339693Z",
     "shell.execute_reply": "2023-02-02T18:41:24.338613Z"
    },
    "papermill": {
     "duration": 0.199329,
     "end_time": "2023-02-02T18:41:24.342132",
     "exception": false,
     "start_time": "2023-02-02T18:41:24.142803",
     "status": "completed"
    },
    "tags": []
   },
   "outputs": [
    {
     "name": "stderr",
     "output_type": "stream",
     "text": [
      "/opt/conda/lib/python3.7/site-packages/sklearn/utils/deprecation.py:87: FutureWarning: Function get_feature_names is deprecated; get_feature_names is deprecated in 1.0 and will be removed in 1.2. Please use get_feature_names_out instead.\n",
      "  warnings.warn(msg, category=FutureWarning)\n"
     ]
    }
   ],
   "source": [
    "vectorizer_train = CountVectorizer(max_features=1000)\n",
    "vocabulary_train = vectorizer_train.fit_transform(corpus)\n",
    "bow = pd.DataFrame(vocabulary_train.toarray(), columns = vectorizer_train.get_feature_names())"
   ]
  },
  {
   "cell_type": "code",
   "execution_count": 46,
   "id": "f5863eca",
   "metadata": {
    "execution": {
     "iopub.execute_input": "2023-02-02T18:41:24.391845Z",
     "iopub.status.busy": "2023-02-02T18:41:24.390969Z",
     "iopub.status.idle": "2023-02-02T18:41:24.398962Z",
     "shell.execute_reply": "2023-02-02T18:41:24.398184Z"
    },
    "papermill": {
     "duration": 0.03482,
     "end_time": "2023-02-02T18:41:24.401046",
     "exception": false,
     "start_time": "2023-02-02T18:41:24.366226",
     "status": "completed"
    },
    "tags": []
   },
   "outputs": [],
   "source": [
    "bow['labelxyz'] = list(ds.label)"
   ]
  },
  {
   "cell_type": "code",
   "execution_count": 47,
   "id": "6c9796b0",
   "metadata": {
    "execution": {
     "iopub.execute_input": "2023-02-02T18:41:24.449671Z",
     "iopub.status.busy": "2023-02-02T18:41:24.449096Z",
     "iopub.status.idle": "2023-02-02T18:41:24.631433Z",
     "shell.execute_reply": "2023-02-02T18:41:24.630436Z"
    },
    "papermill": {
     "duration": 0.209091,
     "end_time": "2023-02-02T18:41:24.633868",
     "exception": false,
     "start_time": "2023-02-02T18:41:24.424777",
     "status": "completed"
    },
    "tags": []
   },
   "outputs": [],
   "source": [
    "bow_zero = bow[bow.labelxyz == 0]\n",
    "bow_one = bow[bow.labelxyz == 1]\n",
    "\n",
    "X_train_zero = bow_zero.sample(frac=0.8, random_state=0)\n",
    "X_test_zero = bow_zero.drop(X_train_zero.index)\n",
    "X_train_one = bow_one.sample(frac=0.8, random_state=0)\n",
    "X_test_one = bow_one.drop(X_train_one.index)\n",
    "\n",
    "X_train_df = pd.concat([X_train_zero, X_train_one], axis = 0)\n",
    "bow_train = X_train_df.drop(['labelxyz'], axis = 1)\n",
    "y_train = list(X_train_df.labelxyz)\n",
    "X_test_df = pd.concat([X_test_zero, X_test_one], axis = 0)\n",
    "bow_test = X_test_df.drop(['labelxyz'], axis = 1)\n",
    "y_test = list(X_test_df.labelxyz)"
   ]
  },
  {
   "cell_type": "markdown",
   "id": "bf45c817",
   "metadata": {
    "papermill": {
     "duration": 0.023325,
     "end_time": "2023-02-02T18:41:24.681085",
     "exception": false,
     "start_time": "2023-02-02T18:41:24.657760",
     "status": "completed"
    },
    "tags": []
   },
   "source": [
    "## Building ML Model"
   ]
  },
  {
   "cell_type": "code",
   "execution_count": 48,
   "id": "db30097a",
   "metadata": {
    "execution": {
     "iopub.execute_input": "2023-02-02T18:41:24.730179Z",
     "iopub.status.busy": "2023-02-02T18:41:24.729232Z",
     "iopub.status.idle": "2023-02-02T18:41:24.736948Z",
     "shell.execute_reply": "2023-02-02T18:41:24.736362Z"
    },
    "papermill": {
     "duration": 0.034186,
     "end_time": "2023-02-02T18:41:24.738724",
     "exception": false,
     "start_time": "2023-02-02T18:41:24.704538",
     "status": "completed"
    },
    "tags": []
   },
   "outputs": [],
   "source": [
    "from sklearn.linear_model import LogisticRegression\n",
    "from sklearn.naive_bayes import GaussianNB\n",
    "from sklearn.ensemble import RandomForestClassifier\n",
    "from sklearn.tree import DecisionTreeClassifier\n",
    "from sklearn.neighbors import KNeighborsClassifier\n",
    "from sklearn.ensemble import GradientBoostingClassifier\n",
    "\n",
    "from sklearn import metrics\n",
    "import matplotlib.pyplot as plt\n",
    "%matplotlib inline\n",
    "from sklearn.metrics import plot_confusion_matrix\n",
    "from sklearn.metrics import precision_score, recall_score, f1_score\n",
    "import seaborn as sns"
   ]
  },
  {
   "cell_type": "code",
   "execution_count": 49,
   "id": "f5d9ad36",
   "metadata": {
    "execution": {
     "iopub.execute_input": "2023-02-02T18:41:24.787819Z",
     "iopub.status.busy": "2023-02-02T18:41:24.786884Z",
     "iopub.status.idle": "2023-02-02T18:41:24.791862Z",
     "shell.execute_reply": "2023-02-02T18:41:24.791044Z"
    },
    "papermill": {
     "duration": 0.031529,
     "end_time": "2023-02-02T18:41:24.793773",
     "exception": false,
     "start_time": "2023-02-02T18:41:24.762244",
     "status": "completed"
    },
    "tags": []
   },
   "outputs": [],
   "source": [
    "model = ['LR','RF','DT','KN','GB']\n",
    "accuracy = {'BOW':[]}"
   ]
  },
  {
   "cell_type": "markdown",
   "id": "c167fd21",
   "metadata": {
    "papermill": {
     "duration": 0.024074,
     "end_time": "2023-02-02T18:41:24.842661",
     "exception": false,
     "start_time": "2023-02-02T18:41:24.818587",
     "status": "completed"
    },
    "tags": []
   },
   "source": [
    "### Logistic Regression"
   ]
  },
  {
   "cell_type": "code",
   "execution_count": 50,
   "id": "9c7bc49c",
   "metadata": {
    "execution": {
     "iopub.execute_input": "2023-02-02T18:41:24.891660Z",
     "iopub.status.busy": "2023-02-02T18:41:24.891275Z",
     "iopub.status.idle": "2023-02-02T18:41:25.082364Z",
     "shell.execute_reply": "2023-02-02T18:41:25.080842Z"
    },
    "papermill": {
     "duration": 0.219262,
     "end_time": "2023-02-02T18:41:25.085645",
     "exception": false,
     "start_time": "2023-02-02T18:41:24.866383",
     "status": "completed"
    },
    "tags": []
   },
   "outputs": [
    {
     "name": "stdout",
     "output_type": "stream",
     "text": [
      "[[751 117]\n",
      " [187 467]]\n",
      "              precision    recall  f1-score   support\n",
      "\n",
      "           0       0.80      0.87      0.83       868\n",
      "           1       0.80      0.71      0.75       654\n",
      "\n",
      "    accuracy                           0.80      1522\n",
      "   macro avg       0.80      0.79      0.79      1522\n",
      "weighted avg       0.80      0.80      0.80      1522\n",
      "\n",
      "0.8002628120893561\n"
     ]
    }
   ],
   "source": [
    "#BOW\n",
    "regressor_LR_bow = LogisticRegression(C= 1.0, penalty='l2', solver= 'liblinear')\n",
    "regressor_LR_bow.fit(bow_train,y_train)\n",
    "y_predict_LR_bow = regressor_LR_bow.predict(bow_test)\n",
    "a=(regressor_LR_bow.score(bow_test,y_test))\n",
    "accuracy['BOW'].append(a)\n",
    "print(metrics.confusion_matrix(y_test, y_predict_LR_bow))\n",
    "print(metrics.classification_report(y_test, y_predict_LR_bow))\n",
    "print(metrics.accuracy_score(y_test, y_predict_LR_bow))"
   ]
  },
  {
   "cell_type": "markdown",
   "id": "131ba043",
   "metadata": {
    "papermill": {
     "duration": 0.048468,
     "end_time": "2023-02-02T18:41:25.205274",
     "exception": false,
     "start_time": "2023-02-02T18:41:25.156806",
     "status": "completed"
    },
    "tags": []
   },
   "source": [
    "### Random Forest"
   ]
  },
  {
   "cell_type": "code",
   "execution_count": 51,
   "id": "031218b1",
   "metadata": {
    "execution": {
     "iopub.execute_input": "2023-02-02T18:41:25.254660Z",
     "iopub.status.busy": "2023-02-02T18:41:25.254247Z",
     "iopub.status.idle": "2023-02-02T18:42:06.333958Z",
     "shell.execute_reply": "2023-02-02T18:42:06.329709Z"
    },
    "papermill": {
     "duration": 41.128684,
     "end_time": "2023-02-02T18:42:06.358080",
     "exception": false,
     "start_time": "2023-02-02T18:41:25.229396",
     "status": "completed"
    },
    "tags": []
   },
   "outputs": [
    {
     "name": "stdout",
     "output_type": "stream",
     "text": [
      "[[756 112]\n",
      " [219 435]]\n",
      "              precision    recall  f1-score   support\n",
      "\n",
      "           0       0.78      0.87      0.82       868\n",
      "           1       0.80      0.67      0.72       654\n",
      "\n",
      "    accuracy                           0.78      1522\n",
      "   macro avg       0.79      0.77      0.77      1522\n",
      "weighted avg       0.78      0.78      0.78      1522\n",
      "\n",
      "0.7825229960578186\n"
     ]
    }
   ],
   "source": [
    "#BOW\n",
    "model_RF_bow = RandomForestClassifier(max_features='sqrt', n_estimators= 1000)\n",
    "model_RF_bow.fit(bow_train,y_train)\n",
    "y_predict_RF_bow = model_RF_bow.predict(bow_test)\n",
    "a=(model_RF_bow.score(bow_test,y_test))\n",
    "accuracy['BOW'].append(a)\n",
    "print(metrics.confusion_matrix(y_test, y_predict_RF_bow))\n",
    "print(metrics.classification_report(y_test, y_predict_RF_bow))\n",
    "print(metrics.accuracy_score(y_test, y_predict_RF_bow))"
   ]
  },
  {
   "cell_type": "markdown",
   "id": "618cc1db",
   "metadata": {
    "papermill": {
     "duration": 0.023962,
     "end_time": "2023-02-02T18:42:06.406444",
     "exception": false,
     "start_time": "2023-02-02T18:42:06.382482",
     "status": "completed"
    },
    "tags": []
   },
   "source": [
    "### Decision Tree"
   ]
  },
  {
   "cell_type": "code",
   "execution_count": 52,
   "id": "0380471b",
   "metadata": {
    "execution": {
     "iopub.execute_input": "2023-02-02T18:42:06.456150Z",
     "iopub.status.busy": "2023-02-02T18:42:06.455797Z",
     "iopub.status.idle": "2023-02-02T18:42:06.550519Z",
     "shell.execute_reply": "2023-02-02T18:42:06.549360Z"
    },
    "papermill": {
     "duration": 0.123277,
     "end_time": "2023-02-02T18:42:06.553650",
     "exception": false,
     "start_time": "2023-02-02T18:42:06.430373",
     "status": "completed"
    },
    "tags": []
   },
   "outputs": [
    {
     "name": "stdout",
     "output_type": "stream",
     "text": [
      "[[546 322]\n",
      " [224 430]]\n",
      "              precision    recall  f1-score   support\n",
      "\n",
      "           0       0.71      0.63      0.67       868\n",
      "           1       0.57      0.66      0.61       654\n",
      "\n",
      "    accuracy                           0.64      1522\n",
      "   macro avg       0.64      0.64      0.64      1522\n",
      "weighted avg       0.65      0.64      0.64      1522\n",
      "\n",
      "0.6412614980289093\n"
     ]
    }
   ],
   "source": [
    "model_DT_bow = DecisionTreeClassifier(criterion= 'gini', max_depth= 2) \n",
    "model_DT_bow.fit(bow_train,y_train)\n",
    "y_predict_DT_bow = model_DT_bow.predict(bow_test)\n",
    "a=(model_DT_bow.score(bow_test,y_test))\n",
    "accuracy['BOW'].append(a)\n",
    "print(metrics.confusion_matrix(y_test, y_predict_DT_bow))\n",
    "print(metrics.classification_report(y_test, y_predict_DT_bow))\n",
    "print(metrics.accuracy_score(y_test, y_predict_DT_bow))"
   ]
  },
  {
   "cell_type": "markdown",
   "id": "5f1c6b11",
   "metadata": {
    "papermill": {
     "duration": 0.023526,
     "end_time": "2023-02-02T18:42:06.601855",
     "exception": false,
     "start_time": "2023-02-02T18:42:06.578329",
     "status": "completed"
    },
    "tags": []
   },
   "source": [
    "### K neighbors"
   ]
  },
  {
   "cell_type": "code",
   "execution_count": 53,
   "id": "34c62029",
   "metadata": {
    "execution": {
     "iopub.execute_input": "2023-02-02T18:42:06.652032Z",
     "iopub.status.busy": "2023-02-02T18:42:06.651281Z",
     "iopub.status.idle": "2023-02-02T18:42:07.763785Z",
     "shell.execute_reply": "2023-02-02T18:42:07.762052Z"
    },
    "papermill": {
     "duration": 1.140033,
     "end_time": "2023-02-02T18:42:07.766067",
     "exception": false,
     "start_time": "2023-02-02T18:42:06.626034",
     "status": "completed"
    },
    "tags": []
   },
   "outputs": [
    {
     "name": "stdout",
     "output_type": "stream",
     "text": [
      "[[835  33]\n",
      " [464 190]]\n",
      "              precision    recall  f1-score   support\n",
      "\n",
      "           0       0.64      0.96      0.77       868\n",
      "           1       0.85      0.29      0.43       654\n",
      "\n",
      "    accuracy                           0.67      1522\n",
      "   macro avg       0.75      0.63      0.60      1522\n",
      "weighted avg       0.73      0.67      0.63      1522\n",
      "\n",
      "0.6734559789750328\n"
     ]
    }
   ],
   "source": [
    "#BOW\n",
    "model_KN_bow = KNeighborsClassifier(metric= 'euclidean', n_neighbors= 19, weights= 'distance') \n",
    "model_KN_bow.fit(bow_train,y_train)\n",
    "y_predict_KN_bow = model_KN_bow.predict(bow_test)\n",
    "a=(model_KN_bow.score(bow_test,y_test))\n",
    "accuracy['BOW'].append(a)\n",
    "print(metrics.confusion_matrix(y_test, y_predict_KN_bow))\n",
    "print(metrics.classification_report(y_test, y_predict_KN_bow))\n",
    "print(metrics.accuracy_score(y_test, y_predict_KN_bow))"
   ]
  },
  {
   "cell_type": "markdown",
   "id": "6c4bb134",
   "metadata": {
    "papermill": {
     "duration": 0.024578,
     "end_time": "2023-02-02T18:42:07.815278",
     "exception": false,
     "start_time": "2023-02-02T18:42:07.790700",
     "status": "completed"
    },
    "tags": []
   },
   "source": [
    "### Gradient Boosting"
   ]
  },
  {
   "cell_type": "code",
   "execution_count": 54,
   "id": "13f3cfe2",
   "metadata": {
    "execution": {
     "iopub.execute_input": "2023-02-02T18:42:07.864517Z",
     "iopub.status.busy": "2023-02-02T18:42:07.864151Z",
     "iopub.status.idle": "2023-02-02T18:42:12.901972Z",
     "shell.execute_reply": "2023-02-02T18:42:12.900982Z"
    },
    "papermill": {
     "duration": 5.068179,
     "end_time": "2023-02-02T18:42:12.907334",
     "exception": false,
     "start_time": "2023-02-02T18:42:07.839155",
     "status": "completed"
    },
    "tags": []
   },
   "outputs": [
    {
     "name": "stdout",
     "output_type": "stream",
     "text": [
      "[[779  89]\n",
      " [276 378]]\n",
      "              precision    recall  f1-score   support\n",
      "\n",
      "           0       0.74      0.90      0.81       868\n",
      "           1       0.81      0.58      0.67       654\n",
      "\n",
      "    accuracy                           0.76      1522\n",
      "   macro avg       0.77      0.74      0.74      1522\n",
      "weighted avg       0.77      0.76      0.75      1522\n",
      "\n",
      "0.7601839684625493\n"
     ]
    }
   ],
   "source": [
    "#BOW\n",
    "model_GB_bow = GradientBoostingClassifier(learning_rate= 0.1, max_depth= 3, n_estimators= 100, subsample= 1.0)\n",
    "model_GB_bow.fit(bow_train,y_train)\n",
    "y_predict_GB_bow = model_GB_bow.predict(bow_test)\n",
    "a=(model_GB_bow.score(bow_test,y_test))\n",
    "accuracy['BOW'].append(a)\n",
    "print(metrics.confusion_matrix(y_test, y_predict_GB_bow))\n",
    "print(metrics.classification_report(y_test, y_predict_GB_bow))\n",
    "print(metrics.accuracy_score(y_test, y_predict_GB_bow))"
   ]
  },
  {
   "cell_type": "markdown",
   "id": "29697d92",
   "metadata": {
    "papermill": {
     "duration": 0.050621,
     "end_time": "2023-02-02T18:42:13.006900",
     "exception": false,
     "start_time": "2023-02-02T18:42:12.956279",
     "status": "completed"
    },
    "tags": []
   },
   "source": [
    "## Evaluation"
   ]
  },
  {
   "cell_type": "code",
   "execution_count": 55,
   "id": "34c64c5e",
   "metadata": {
    "execution": {
     "iopub.execute_input": "2023-02-02T18:42:13.102976Z",
     "iopub.status.busy": "2023-02-02T18:42:13.102568Z",
     "iopub.status.idle": "2023-02-02T18:42:13.120421Z",
     "shell.execute_reply": "2023-02-02T18:42:13.119496Z"
    },
    "papermill": {
     "duration": 0.068102,
     "end_time": "2023-02-02T18:42:13.123652",
     "exception": false,
     "start_time": "2023-02-02T18:42:13.055550",
     "status": "completed"
    },
    "tags": []
   },
   "outputs": [
    {
     "data": {
      "text/html": [
       "<div>\n",
       "<style scoped>\n",
       "    .dataframe tbody tr th:only-of-type {\n",
       "        vertical-align: middle;\n",
       "    }\n",
       "\n",
       "    .dataframe tbody tr th {\n",
       "        vertical-align: top;\n",
       "    }\n",
       "\n",
       "    .dataframe thead th {\n",
       "        text-align: right;\n",
       "    }\n",
       "</style>\n",
       "<table border=\"1\" class=\"dataframe\">\n",
       "  <thead>\n",
       "    <tr style=\"text-align: right;\">\n",
       "      <th></th>\n",
       "      <th>model</th>\n",
       "      <th>accuracy</th>\n",
       "    </tr>\n",
       "  </thead>\n",
       "  <tbody>\n",
       "    <tr>\n",
       "      <th>0</th>\n",
       "      <td>LR</td>\n",
       "      <td>0.800263</td>\n",
       "    </tr>\n",
       "    <tr>\n",
       "      <th>1</th>\n",
       "      <td>RF</td>\n",
       "      <td>0.782523</td>\n",
       "    </tr>\n",
       "    <tr>\n",
       "      <th>2</th>\n",
       "      <td>DT</td>\n",
       "      <td>0.641261</td>\n",
       "    </tr>\n",
       "    <tr>\n",
       "      <th>3</th>\n",
       "      <td>KN</td>\n",
       "      <td>0.673456</td>\n",
       "    </tr>\n",
       "    <tr>\n",
       "      <th>4</th>\n",
       "      <td>GB</td>\n",
       "      <td>0.760184</td>\n",
       "    </tr>\n",
       "  </tbody>\n",
       "</table>\n",
       "</div>"
      ],
      "text/plain": [
       "  model  accuracy\n",
       "0    LR  0.800263\n",
       "1    RF  0.782523\n",
       "2    DT  0.641261\n",
       "3    KN  0.673456\n",
       "4    GB  0.760184"
      ]
     },
     "execution_count": 55,
     "metadata": {},
     "output_type": "execute_result"
    }
   ],
   "source": [
    "data_bow = {'model':model,'accuracy':accuracy['BOW']}\n",
    "compare_models_bow = pd.DataFrame(data_bow)\n",
    "compare_models_bow"
   ]
  },
  {
   "cell_type": "code",
   "execution_count": 56,
   "id": "d4118ed8",
   "metadata": {
    "execution": {
     "iopub.execute_input": "2023-02-02T18:42:13.199877Z",
     "iopub.status.busy": "2023-02-02T18:42:13.199546Z",
     "iopub.status.idle": "2023-02-02T18:42:13.524763Z",
     "shell.execute_reply": "2023-02-02T18:42:13.523798Z"
    },
    "papermill": {
     "duration": 0.368435,
     "end_time": "2023-02-02T18:42:13.532172",
     "exception": false,
     "start_time": "2023-02-02T18:42:13.163737",
     "status": "completed"
    },
    "tags": []
   },
   "outputs": [
    {
     "data": {
      "image/png": "[encoded data removed]",
      "text/plain": [
       "<Figure size 576x360 with 1 Axes>"
      ]
     },
     "metadata": {
      "needs_background": "light"
     },
     "output_type": "display_data"
    }
   ],
   "source": [
    "x, y = compare_models_bow['model'],compare_models_bow['accuracy']\n",
    "ind = np.arange(len(y))\n",
    "fig, ax = plt.subplots(figsize=(8,5))\n",
    "ax.bar(ind, y)\n",
    "ax.set_xticks(ind)\n",
    "ax.set_xticklabels(x)\n",
    "ax.bar_label(ax.containers[0], horizontalalignment='left')\n",
    "ax.tick_params(axis='both', which='major', labelsize=16)\n",
    "ax.tick_params(axis='both', which='minor', labelsize=12)\n",
    "plt.show()\n",
    "fig.savefig('Comparision of Models, BoW.pdf', format='pdf')"
   ]
  },
  {
   "cell_type": "markdown",
   "id": "1085c98f",
   "metadata": {
    "papermill": {
     "duration": 0.089738,
     "end_time": "2023-02-02T18:42:13.676227",
     "exception": false,
     "start_time": "2023-02-02T18:42:13.586489",
     "status": "completed"
    },
    "tags": []
   },
   "source": [
    "# BERT"
   ]
  },
  {
   "cell_type": "code",
   "execution_count": 57,
   "id": "07097f5d",
   "metadata": {
    "execution": {
     "iopub.execute_input": "2023-02-02T18:42:13.820536Z",
     "iopub.status.busy": "2023-02-02T18:42:13.820062Z",
     "iopub.status.idle": "2023-02-02T18:42:13.834381Z",
     "shell.execute_reply": "2023-02-02T18:42:13.833387Z"
    },
    "papermill": {
     "duration": 0.081558,
     "end_time": "2023-02-02T18:42:13.837308",
     "exception": false,
     "start_time": "2023-02-02T18:42:13.755750",
     "status": "completed"
    },
    "tags": []
   },
   "outputs": [],
   "source": [
    "import pandas as pd\n",
    "import csv\n",
    "import re \n",
    "import string\n",
    "from sklearn.model_selection import train_test_split\n",
    "from sklearn.feature_extraction.text import CountVectorizer\n",
    "from sklearn.feature_extraction.text import TfidfVectorizer"
   ]
  },
  {
   "cell_type": "code",
   "execution_count": 58,
   "id": "cee7cc16",
   "metadata": {
    "execution": {
     "iopub.execute_input": "2023-02-02T18:42:13.923587Z",
     "iopub.status.busy": "2023-02-02T18:42:13.922837Z",
     "iopub.status.idle": "2023-02-02T18:42:15.456082Z",
     "shell.execute_reply": "2023-02-02T18:42:15.454777Z"
    },
    "papermill": {
     "duration": 1.578856,
     "end_time": "2023-02-02T18:42:15.458943",
     "exception": false,
     "start_time": "2023-02-02T18:42:13.880087",
     "status": "completed"
    },
    "tags": []
   },
   "outputs": [],
   "source": [
    "!wget --quiet https://raw.githubusercontent.com/tensorflow/models/master/official/nlp/bert/tokenization.py"
   ]
  },
  {
   "cell_type": "code",
   "execution_count": 59,
   "id": "9e40d509",
   "metadata": {
    "execution": {
     "iopub.execute_input": "2023-02-02T18:42:15.509547Z",
     "iopub.status.busy": "2023-02-02T18:42:15.509156Z",
     "iopub.status.idle": "2023-02-02T18:42:26.636712Z",
     "shell.execute_reply": "2023-02-02T18:42:26.635481Z"
    },
    "papermill": {
     "duration": 11.155581,
     "end_time": "2023-02-02T18:42:26.639209",
     "exception": false,
     "start_time": "2023-02-02T18:42:15.483628",
     "status": "completed"
    },
    "tags": []
   },
   "outputs": [
    {
     "name": "stdout",
     "output_type": "stream",
     "text": [
      "Collecting tokenization\r\n",
      "  Downloading tokenization-1.0.7-py3-none-any.whl (10 kB)\r\n",
      "Requirement already satisfied: regex in /opt/conda/lib/python3.7/site-packages (from tokenization) (2021.11.10)\r\n",
      "Installing collected packages: tokenization\r\n",
      "Successfully installed tokenization-1.0.7\r\n",
      "\u001b[33mWARNING: Running pip as the 'root' user can result in broken permissions and conflicting behaviour with the system package manager. It is recommended to use a virtual environment instead: https://pip.pypa.io/warnings/venv\u001b[0m\u001b[33m\r\n",
      "\u001b[0m"
     ]
    }
   ],
   "source": [
    "!pip install tokenization"
   ]
  },
  {
   "cell_type": "code",
   "execution_count": 60,
   "id": "61c40b47",
   "metadata": {
    "execution": {
     "iopub.execute_input": "2023-02-02T18:42:26.691100Z",
     "iopub.status.busy": "2023-02-02T18:42:26.690703Z",
     "iopub.status.idle": "2023-02-02T18:42:32.048702Z",
     "shell.execute_reply": "2023-02-02T18:42:32.047721Z"
    },
    "papermill": {
     "duration": 5.387038,
     "end_time": "2023-02-02T18:42:32.051231",
     "exception": false,
     "start_time": "2023-02-02T18:42:26.664193",
     "status": "completed"
    },
    "tags": []
   },
   "outputs": [],
   "source": [
    "import tokenization\n",
    "import tensorflow as tf\n",
    "import tensorflow_hub as hub\n",
    "from tensorflow.keras.utils import to_categorical\n",
    "from sklearn import preprocessing\n",
    "from sklearn.model_selection import train_test_split"
   ]
  },
  {
   "cell_type": "code",
   "execution_count": 61,
   "id": "09d98ed3",
   "metadata": {
    "execution": {
     "iopub.execute_input": "2023-02-02T18:42:32.103176Z",
     "iopub.status.busy": "2023-02-02T18:42:32.102545Z",
     "iopub.status.idle": "2023-02-02T18:42:32.134921Z",
     "shell.execute_reply": "2023-02-02T18:42:32.133999Z"
    },
    "papermill": {
     "duration": 0.060915,
     "end_time": "2023-02-02T18:42:32.137164",
     "exception": false,
     "start_time": "2023-02-02T18:42:32.076249",
     "status": "completed"
    },
    "tags": []
   },
   "outputs": [],
   "source": [
    "train = pd.read_csv(\"/kaggle/input/nlp-getting-started/train.csv\")\n",
    "test = pd.read_csv(\"/kaggle/input/nlp-getting-started/test.csv\")"
   ]
  },
  {
   "cell_type": "code",
   "execution_count": 62,
   "id": "343a1fec",
   "metadata": {
    "execution": {
     "iopub.execute_input": "2023-02-02T18:42:32.189942Z",
     "iopub.status.busy": "2023-02-02T18:42:32.189033Z",
     "iopub.status.idle": "2023-02-02T18:42:32.203717Z",
     "shell.execute_reply": "2023-02-02T18:42:32.202707Z"
    },
    "papermill": {
     "duration": 0.04315,
     "end_time": "2023-02-02T18:42:32.205723",
     "exception": false,
     "start_time": "2023-02-02T18:42:32.162573",
     "status": "completed"
    },
    "tags": []
   },
   "outputs": [
    {
     "data": {
      "text/html": [
       "<div>\n",
       "<style scoped>\n",
       "    .dataframe tbody tr th:only-of-type {\n",
       "        vertical-align: middle;\n",
       "    }\n",
       "\n",
       "    .dataframe tbody tr th {\n",
       "        vertical-align: top;\n",
       "    }\n",
       "\n",
       "    .dataframe thead th {\n",
       "        text-align: right;\n",
       "    }\n",
       "</style>\n",
       "<table border=\"1\" class=\"dataframe\">\n",
       "  <thead>\n",
       "    <tr style=\"text-align: right;\">\n",
       "      <th></th>\n",
       "      <th>id</th>\n",
       "      <th>keyword</th>\n",
       "      <th>location</th>\n",
       "      <th>text</th>\n",
       "      <th>target</th>\n",
       "    </tr>\n",
       "  </thead>\n",
       "  <tbody>\n",
       "    <tr>\n",
       "      <th>0</th>\n",
       "      <td>1</td>\n",
       "      <td>NaN</td>\n",
       "      <td>NaN</td>\n",
       "      <td>Our Deeds are the Reason of this #earthquake M...</td>\n",
       "      <td>1</td>\n",
       "    </tr>\n",
       "    <tr>\n",
       "      <th>1</th>\n",
       "      <td>4</td>\n",
       "      <td>NaN</td>\n",
       "      <td>NaN</td>\n",
       "      <td>Forest fire near La Ronge Sask. Canada</td>\n",
       "      <td>1</td>\n",
       "    </tr>\n",
       "    <tr>\n",
       "      <th>2</th>\n",
       "      <td>5</td>\n",
       "      <td>NaN</td>\n",
       "      <td>NaN</td>\n",
       "      <td>All residents asked to 'shelter in place' are ...</td>\n",
       "      <td>1</td>\n",
       "    </tr>\n",
       "    <tr>\n",
       "      <th>3</th>\n",
       "      <td>6</td>\n",
       "      <td>NaN</td>\n",
       "      <td>NaN</td>\n",
       "      <td>13,000 people receive #wildfires evacuation or...</td>\n",
       "      <td>1</td>\n",
       "    </tr>\n",
       "    <tr>\n",
       "      <th>4</th>\n",
       "      <td>7</td>\n",
       "      <td>NaN</td>\n",
       "      <td>NaN</td>\n",
       "      <td>Just got sent this photo from Ruby #Alaska as ...</td>\n",
       "      <td>1</td>\n",
       "    </tr>\n",
       "    <tr>\n",
       "      <th>...</th>\n",
       "      <td>...</td>\n",
       "      <td>...</td>\n",
       "      <td>...</td>\n",
       "      <td>...</td>\n",
       "      <td>...</td>\n",
       "    </tr>\n",
       "    <tr>\n",
       "      <th>7608</th>\n",
       "      <td>10869</td>\n",
       "      <td>NaN</td>\n",
       "      <td>NaN</td>\n",
       "      <td>Two giant cranes holding a bridge collapse int...</td>\n",
       "      <td>1</td>\n",
       "    </tr>\n",
       "    <tr>\n",
       "      <th>7609</th>\n",
       "      <td>10870</td>\n",
       "      <td>NaN</td>\n",
       "      <td>NaN</td>\n",
       "      <td>@aria_ahrary @TheTawniest The out of control w...</td>\n",
       "      <td>1</td>\n",
       "    </tr>\n",
       "    <tr>\n",
       "      <th>7610</th>\n",
       "      <td>10871</td>\n",
       "      <td>NaN</td>\n",
       "      <td>NaN</td>\n",
       "      <td>M1.94 [01:04 UTC]?5km S of Volcano Hawaii. htt...</td>\n",
       "      <td>1</td>\n",
       "    </tr>\n",
       "    <tr>\n",
       "      <th>7611</th>\n",
       "      <td>10872</td>\n",
       "      <td>NaN</td>\n",
       "      <td>NaN</td>\n",
       "      <td>Police investigating after an e-bike collided ...</td>\n",
       "      <td>1</td>\n",
       "    </tr>\n",
       "    <tr>\n",
       "      <th>7612</th>\n",
       "      <td>10873</td>\n",
       "      <td>NaN</td>\n",
       "      <td>NaN</td>\n",
       "      <td>The Latest: More Homes Razed by Northern Calif...</td>\n",
       "      <td>1</td>\n",
       "    </tr>\n",
       "  </tbody>\n",
       "</table>\n",
       "<p>7613 rows × 5 columns</p>\n",
       "</div>"
      ],
      "text/plain": [
       "         id keyword location  \\\n",
       "0         1     NaN      NaN   \n",
       "1         4     NaN      NaN   \n",
       "2         5     NaN      NaN   \n",
       "3         6     NaN      NaN   \n",
       "4         7     NaN      NaN   \n",
       "...     ...     ...      ...   \n",
       "7608  10869     NaN      NaN   \n",
       "7609  10870     NaN      NaN   \n",
       "7610  10871     NaN      NaN   \n",
       "7611  10872     NaN      NaN   \n",
       "7612  10873     NaN      NaN   \n",
       "\n",
       "                                                   text  target  \n",
       "0     Our Deeds are the Reason of this #earthquake M...       1  \n",
       "1                Forest fire near La Ronge Sask. Canada       1  \n",
       "2     All residents asked to 'shelter in place' are ...       1  \n",
       "3     13,000 people receive #wildfires evacuation or...       1  \n",
       "4     Just got sent this photo from Ruby #Alaska as ...       1  \n",
       "...                                                 ...     ...  \n",
       "7608  Two giant cranes holding a bridge collapse int...       1  \n",
       "7609  @aria_ahrary @TheTawniest The out of control w...       1  \n",
       "7610  M1.94 [01:04 UTC]?5km S of Volcano Hawaii. htt...       1  \n",
       "7611  Police investigating after an e-bike collided ...       1  \n",
       "7612  The Latest: More Homes Razed by Northern Calif...       1  \n",
       "\n",
       "[7613 rows x 5 columns]"
      ]
     },
     "execution_count": 62,
     "metadata": {},
     "output_type": "execute_result"
    }
   ],
   "source": [
    "train"
   ]
  },
  {
   "cell_type": "code",
   "execution_count": 63,
   "id": "4a2e87eb",
   "metadata": {
    "execution": {
     "iopub.execute_input": "2023-02-02T18:42:32.256723Z",
     "iopub.status.busy": "2023-02-02T18:42:32.255872Z",
     "iopub.status.idle": "2023-02-02T18:42:32.261925Z",
     "shell.execute_reply": "2023-02-02T18:42:32.261079Z"
    },
    "papermill": {
     "duration": 0.033259,
     "end_time": "2023-02-02T18:42:32.263880",
     "exception": false,
     "start_time": "2023-02-02T18:42:32.230621",
     "status": "completed"
    },
    "tags": []
   },
   "outputs": [],
   "source": [
    "train = train.drop(['id', 'keyword', 'location'], axis = 1)"
   ]
  },
  {
   "cell_type": "code",
   "execution_count": 64,
   "id": "b0d4d374",
   "metadata": {
    "execution": {
     "iopub.execute_input": "2023-02-02T18:42:32.330960Z",
     "iopub.status.busy": "2023-02-02T18:42:32.330430Z",
     "iopub.status.idle": "2023-02-02T18:42:32.336653Z",
     "shell.execute_reply": "2023-02-02T18:42:32.335765Z"
    },
    "papermill": {
     "duration": 0.05037,
     "end_time": "2023-02-02T18:42:32.338660",
     "exception": false,
     "start_time": "2023-02-02T18:42:32.288290",
     "status": "completed"
    },
    "tags": []
   },
   "outputs": [],
   "source": [
    "test = test.drop(['id', 'keyword', 'location'], axis = 1)"
   ]
  },
  {
   "cell_type": "code",
   "execution_count": 65,
   "id": "82d6fd1a",
   "metadata": {
    "execution": {
     "iopub.execute_input": "2023-02-02T18:42:32.391120Z",
     "iopub.status.busy": "2023-02-02T18:42:32.390144Z",
     "iopub.status.idle": "2023-02-02T18:42:32.402190Z",
     "shell.execute_reply": "2023-02-02T18:42:32.401229Z"
    },
    "papermill": {
     "duration": 0.040222,
     "end_time": "2023-02-02T18:42:32.404208",
     "exception": false,
     "start_time": "2023-02-02T18:42:32.363986",
     "status": "completed"
    },
    "tags": []
   },
   "outputs": [
    {
     "data": {
      "text/html": [
       "<div>\n",
       "<style scoped>\n",
       "    .dataframe tbody tr th:only-of-type {\n",
       "        vertical-align: middle;\n",
       "    }\n",
       "\n",
       "    .dataframe tbody tr th {\n",
       "        vertical-align: top;\n",
       "    }\n",
       "\n",
       "    .dataframe thead th {\n",
       "        text-align: right;\n",
       "    }\n",
       "</style>\n",
       "<table border=\"1\" class=\"dataframe\">\n",
       "  <thead>\n",
       "    <tr style=\"text-align: right;\">\n",
       "      <th></th>\n",
       "      <th>text</th>\n",
       "      <th>target</th>\n",
       "    </tr>\n",
       "  </thead>\n",
       "  <tbody>\n",
       "    <tr>\n",
       "      <th>0</th>\n",
       "      <td>Our Deeds are the Reason of this #earthquake M...</td>\n",
       "      <td>1</td>\n",
       "    </tr>\n",
       "    <tr>\n",
       "      <th>1</th>\n",
       "      <td>Forest fire near La Ronge Sask. Canada</td>\n",
       "      <td>1</td>\n",
       "    </tr>\n",
       "    <tr>\n",
       "      <th>2</th>\n",
       "      <td>All residents asked to 'shelter in place' are ...</td>\n",
       "      <td>1</td>\n",
       "    </tr>\n",
       "    <tr>\n",
       "      <th>3</th>\n",
       "      <td>13,000 people receive #wildfires evacuation or...</td>\n",
       "      <td>1</td>\n",
       "    </tr>\n",
       "    <tr>\n",
       "      <th>4</th>\n",
       "      <td>Just got sent this photo from Ruby #Alaska as ...</td>\n",
       "      <td>1</td>\n",
       "    </tr>\n",
       "    <tr>\n",
       "      <th>...</th>\n",
       "      <td>...</td>\n",
       "      <td>...</td>\n",
       "    </tr>\n",
       "    <tr>\n",
       "      <th>7608</th>\n",
       "      <td>Two giant cranes holding a bridge collapse int...</td>\n",
       "      <td>1</td>\n",
       "    </tr>\n",
       "    <tr>\n",
       "      <th>7609</th>\n",
       "      <td>@aria_ahrary @TheTawniest The out of control w...</td>\n",
       "      <td>1</td>\n",
       "    </tr>\n",
       "    <tr>\n",
       "      <th>7610</th>\n",
       "      <td>M1.94 [01:04 UTC]?5km S of Volcano Hawaii. htt...</td>\n",
       "      <td>1</td>\n",
       "    </tr>\n",
       "    <tr>\n",
       "      <th>7611</th>\n",
       "      <td>Police investigating after an e-bike collided ...</td>\n",
       "      <td>1</td>\n",
       "    </tr>\n",
       "    <tr>\n",
       "      <th>7612</th>\n",
       "      <td>The Latest: More Homes Razed by Northern Calif...</td>\n",
       "      <td>1</td>\n",
       "    </tr>\n",
       "  </tbody>\n",
       "</table>\n",
       "<p>7613 rows × 2 columns</p>\n",
       "</div>"
      ],
      "text/plain": [
       "                                                   text  target\n",
       "0     Our Deeds are the Reason of this #earthquake M...       1\n",
       "1                Forest fire near La Ronge Sask. Canada       1\n",
       "2     All residents asked to 'shelter in place' are ...       1\n",
       "3     13,000 people receive #wildfires evacuation or...       1\n",
       "4     Just got sent this photo from Ruby #Alaska as ...       1\n",
       "...                                                 ...     ...\n",
       "7608  Two giant cranes holding a bridge collapse int...       1\n",
       "7609  @aria_ahrary @TheTawniest The out of control w...       1\n",
       "7610  M1.94 [01:04 UTC]?5km S of Volcano Hawaii. htt...       1\n",
       "7611  Police investigating after an e-bike collided ...       1\n",
       "7612  The Latest: More Homes Razed by Northern Calif...       1\n",
       "\n",
       "[7613 rows x 2 columns]"
      ]
     },
     "execution_count": 65,
     "metadata": {},
     "output_type": "execute_result"
    }
   ],
   "source": [
    "train"
   ]
  },
  {
   "cell_type": "code",
   "execution_count": 66,
   "id": "2704065f",
   "metadata": {
    "execution": {
     "iopub.execute_input": "2023-02-02T18:42:32.456809Z",
     "iopub.status.busy": "2023-02-02T18:42:32.455841Z",
     "iopub.status.idle": "2023-02-02T18:42:32.460889Z",
     "shell.execute_reply": "2023-02-02T18:42:32.460030Z"
    },
    "papermill": {
     "duration": 0.033612,
     "end_time": "2023-02-02T18:42:32.462896",
     "exception": false,
     "start_time": "2023-02-02T18:42:32.429284",
     "status": "completed"
    },
    "tags": []
   },
   "outputs": [],
   "source": [
    "train_data = train"
   ]
  },
  {
   "cell_type": "code",
   "execution_count": 67,
   "id": "3e7406a6",
   "metadata": {
    "execution": {
     "iopub.execute_input": "2023-02-02T18:42:32.515108Z",
     "iopub.status.busy": "2023-02-02T18:42:32.514743Z",
     "iopub.status.idle": "2023-02-02T18:42:32.523022Z",
     "shell.execute_reply": "2023-02-02T18:42:32.522152Z"
    },
    "papermill": {
     "duration": 0.036973,
     "end_time": "2023-02-02T18:42:32.525026",
     "exception": false,
     "start_time": "2023-02-02T18:42:32.488053",
     "status": "completed"
    },
    "tags": []
   },
   "outputs": [],
   "source": [
    "from sklearn.model_selection import train_test_split\n",
    "\n",
    "# splitting the training and testing part from the data\n",
    "X_temp, X_test, y_temp, y_test = train_test_split(train_data['text'], train_data['target'], test_size=0.2, random_state=0)"
   ]
  },
  {
   "cell_type": "code",
   "execution_count": 68,
   "id": "873a46a4",
   "metadata": {
    "execution": {
     "iopub.execute_input": "2023-02-02T18:42:32.577174Z",
     "iopub.status.busy": "2023-02-02T18:42:32.576253Z",
     "iopub.status.idle": "2023-02-02T18:42:32.583365Z",
     "shell.execute_reply": "2023-02-02T18:42:32.582386Z"
    },
    "papermill": {
     "duration": 0.035275,
     "end_time": "2023-02-02T18:42:32.585340",
     "exception": false,
     "start_time": "2023-02-02T18:42:32.550065",
     "status": "completed"
    },
    "tags": []
   },
   "outputs": [
    {
     "data": {
      "text/plain": [
       "((6090,), (6090,), (1523,), (1523,))"
      ]
     },
     "execution_count": 68,
     "metadata": {},
     "output_type": "execute_result"
    }
   ],
   "source": [
    "train_X = X_temp\n",
    "train_y = y_temp\n",
    "test_x = X_test\n",
    "test_y = y_test\n",
    "\n",
    "train_X.shape, train_y.shape, test_x.shape , test_y.shape"
   ]
  },
  {
   "cell_type": "code",
   "execution_count": 69,
   "id": "6fd10058",
   "metadata": {
    "execution": {
     "iopub.execute_input": "2023-02-02T18:42:32.638702Z",
     "iopub.status.busy": "2023-02-02T18:42:32.637939Z",
     "iopub.status.idle": "2023-02-02T18:42:41.853429Z",
     "shell.execute_reply": "2023-02-02T18:42:41.852185Z"
    },
    "papermill": {
     "duration": 9.245248,
     "end_time": "2023-02-02T18:42:41.856003",
     "exception": false,
     "start_time": "2023-02-02T18:42:32.610755",
     "status": "completed"
    },
    "tags": []
   },
   "outputs": [
    {
     "name": "stdout",
     "output_type": "stream",
     "text": [
      "Requirement already satisfied: tokenization in /opt/conda/lib/python3.7/site-packages (1.0.7)\r\n",
      "Requirement already satisfied: regex in /opt/conda/lib/python3.7/site-packages (from tokenization) (2021.11.10)\r\n",
      "\u001b[33mWARNING: Running pip as the 'root' user can result in broken permissions and conflicting behaviour with the system package manager. It is recommended to use a virtual environment instead: https://pip.pypa.io/warnings/venv\u001b[0m\u001b[33m\r\n",
      "\u001b[0m"
     ]
    }
   ],
   "source": [
    "!pip install tokenization"
   ]
  },
  {
   "cell_type": "code",
   "execution_count": 70,
   "id": "b38db1b3",
   "metadata": {
    "execution": {
     "iopub.execute_input": "2023-02-02T18:42:41.970486Z",
     "iopub.status.busy": "2023-02-02T18:42:41.970053Z",
     "iopub.status.idle": "2023-02-02T18:42:41.995571Z",
     "shell.execute_reply": "2023-02-02T18:42:41.994620Z"
    },
    "papermill": {
     "duration": 0.054604,
     "end_time": "2023-02-02T18:42:41.997601",
     "exception": false,
     "start_time": "2023-02-02T18:42:41.942997",
     "status": "completed"
    },
    "tags": []
   },
   "outputs": [
    {
     "name": "stdout",
     "output_type": "stream",
     "text": [
      "1386    0\n",
      "4048    1\n",
      "3086    0\n",
      "272     0\n",
      "7462    0\n",
      "Name: target, dtype: int64\n"
     ]
    }
   ],
   "source": [
    "label = preprocessing.LabelEncoder()\n",
    "y = label.fit_transform(train_X)\n",
    "y = to_categorical(train_y)\n",
    "print(train_y[:5])"
   ]
  },
  {
   "cell_type": "markdown",
   "id": "cafa37f3",
   "metadata": {
    "papermill": {
     "duration": 0.025376,
     "end_time": "2023-02-02T18:42:42.048592",
     "exception": false,
     "start_time": "2023-02-02T18:42:42.023216",
     "status": "completed"
    },
    "tags": []
   },
   "source": [
    "### Build a BERT layer"
   ]
  },
  {
   "cell_type": "code",
   "execution_count": 71,
   "id": "b750b29c",
   "metadata": {
    "execution": {
     "iopub.execute_input": "2023-02-02T18:42:42.100539Z",
     "iopub.status.busy": "2023-02-02T18:42:42.100157Z",
     "iopub.status.idle": "2023-02-02T18:42:54.424743Z",
     "shell.execute_reply": "2023-02-02T18:42:54.423730Z"
    },
    "papermill": {
     "duration": 12.353153,
     "end_time": "2023-02-02T18:42:54.427221",
     "exception": false,
     "start_time": "2023-02-02T18:42:42.074068",
     "status": "completed"
    },
    "tags": []
   },
   "outputs": [
    {
     "name": "stderr",
     "output_type": "stream",
     "text": [
      "2023-02-02 18:42:47.243354: I tensorflow/stream_executor/cuda/cuda_gpu_executor.cc:937] successful NUMA node read from SysFS had negative value (-1), but there must be at least one NUMA node, so returning NUMA node zero\n",
      "2023-02-02 18:42:47.388442: I tensorflow/stream_executor/cuda/cuda_gpu_executor.cc:937] successful NUMA node read from SysFS had negative value (-1), but there must be at least one NUMA node, so returning NUMA node zero\n",
      "2023-02-02 18:42:47.389297: I tensorflow/stream_executor/cuda/cuda_gpu_executor.cc:937] successful NUMA node read from SysFS had negative value (-1), but there must be at least one NUMA node, so returning NUMA node zero\n",
      "2023-02-02 18:42:47.391522: I tensorflow/core/platform/cpu_feature_guard.cc:142] This TensorFlow binary is optimized with oneAPI Deep Neural Network Library (oneDNN) to use the following CPU instructions in performance-critical operations:  AVX2 AVX512F FMA\n",
      "To enable them in other operations, rebuild TensorFlow with the appropriate compiler flags.\n",
      "2023-02-02 18:42:47.391888: I tensorflow/stream_executor/cuda/cuda_gpu_executor.cc:937] successful NUMA node read from SysFS had negative value (-1), but there must be at least one NUMA node, so returning NUMA node zero\n",
      "2023-02-02 18:42:47.392850: I tensorflow/stream_executor/cuda/cuda_gpu_executor.cc:937] successful NUMA node read from SysFS had negative value (-1), but there must be at least one NUMA node, so returning NUMA node zero\n",
      "2023-02-02 18:42:47.393758: I tensorflow/stream_executor/cuda/cuda_gpu_executor.cc:937] successful NUMA node read from SysFS had negative value (-1), but there must be at least one NUMA node, so returning NUMA node zero\n",
      "2023-02-02 18:42:49.633885: I tensorflow/stream_executor/cuda/cuda_gpu_executor.cc:937] successful NUMA node read from SysFS had negative value (-1), but there must be at least one NUMA node, so returning NUMA node zero\n",
      "2023-02-02 18:42:49.634786: I tensorflow/stream_executor/cuda/cuda_gpu_executor.cc:937] successful NUMA node read from SysFS had negative value (-1), but there must be at least one NUMA node, so returning NUMA node zero\n",
      "2023-02-02 18:42:49.635481: I tensorflow/stream_executor/cuda/cuda_gpu_executor.cc:937] successful NUMA node read from SysFS had negative value (-1), but there must be at least one NUMA node, so returning NUMA node zero\n",
      "2023-02-02 18:42:49.636062: I tensorflow/core/common_runtime/gpu/gpu_device.cc:1510] Created device /job:localhost/replica:0/task:0/device:GPU:0 with 15401 MB memory:  -> device: 0, name: Tesla P100-PCIE-16GB, pci bus id: 0000:00:04.0, compute capability: 6.0\n"
     ]
    }
   ],
   "source": [
    "m_url = 'https://tfhub.dev/tensorflow/bert_en_uncased_L-12_H-768_A-12/2'\n",
    "bert_layer = hub.KerasLayer(m_url, trainable=True)"
   ]
  },
  {
   "cell_type": "markdown",
   "id": "1771cfab",
   "metadata": {
    "papermill": {
     "duration": 0.025298,
     "end_time": "2023-02-02T18:42:54.478250",
     "exception": false,
     "start_time": "2023-02-02T18:42:54.452952",
     "status": "completed"
    },
    "tags": []
   },
   "source": [
    "### Encoding the text¶"
   ]
  },
  {
   "cell_type": "code",
   "execution_count": 72,
   "id": "57226c2b",
   "metadata": {
    "execution": {
     "iopub.execute_input": "2023-02-02T18:42:54.530901Z",
     "iopub.status.busy": "2023-02-02T18:42:54.529755Z",
     "iopub.status.idle": "2023-02-02T18:43:35.525417Z",
     "shell.execute_reply": "2023-02-02T18:43:35.523908Z"
    },
    "papermill": {
     "duration": 41.02507,
     "end_time": "2023-02-02T18:43:35.528266",
     "exception": false,
     "start_time": "2023-02-02T18:42:54.503196",
     "status": "completed"
    },
    "tags": []
   },
   "outputs": [
    {
     "name": "stdout",
     "output_type": "stream",
     "text": [
      "Collecting tensorflow==2.0\r\n",
      "  Downloading tensorflow-2.0.0-cp37-cp37m-manylinux2010_x86_64.whl (86.3 MB)\r\n",
      "\u001b[2K     \u001b[90m━━━━━━━━━━━━━━━━━━━━━━━━━━━━━━━━━━━━━━━━\u001b[0m \u001b[32m86.3/86.3 MB\u001b[0m \u001b[31m12.0 MB/s\u001b[0m eta \u001b[36m0:00:00\u001b[0m\r\n",
      "\u001b[?25hRequirement already satisfied: termcolor>=1.1.0 in /opt/conda/lib/python3.7/site-packages (from tensorflow==2.0) (1.1.0)\r\n",
      "Requirement already satisfied: wheel>=0.26 in /opt/conda/lib/python3.7/site-packages (from tensorflow==2.0) (0.37.1)\r\n",
      "Collecting tensorboard<2.1.0,>=2.0.0\r\n",
      "  Downloading tensorboard-2.0.2-py3-none-any.whl (3.8 MB)\r\n",
      "\u001b[2K     \u001b[90m━━━━━━━━━━━━━━━━━━━━━━━━━━━━━━━━━━━━━━━━\u001b[0m \u001b[32m3.8/3.8 MB\u001b[0m \u001b[31m44.1 MB/s\u001b[0m eta \u001b[36m0:00:00\u001b[0m\r\n",
      "\u001b[?25hRequirement already satisfied: wrapt>=1.11.1 in /opt/conda/lib/python3.7/site-packages (from tensorflow==2.0) (1.12.1)\r\n",
      "Requirement already satisfied: numpy<2.0,>=1.16.0 in /opt/conda/lib/python3.7/site-packages (from tensorflow==2.0) (1.21.6)\r\n",
      "Requirement already satisfied: opt-einsum>=2.3.2 in /opt/conda/lib/python3.7/site-packages (from tensorflow==2.0) (3.3.0)\r\n",
      "Requirement already satisfied: absl-py>=0.7.0 in /opt/conda/lib/python3.7/site-packages (from tensorflow==2.0) (0.15.0)\r\n",
      "Collecting tensorflow-estimator<2.1.0,>=2.0.0\r\n",
      "  Downloading tensorflow_estimator-2.0.1-py2.py3-none-any.whl (449 kB)\r\n",
      "\u001b[2K     \u001b[90m━━━━━━━━━━━━━━━━━━━━━━━━━━━━━━━━━━━━━━\u001b[0m \u001b[32m449.9/449.9 kB\u001b[0m \u001b[31m33.0 MB/s\u001b[0m eta \u001b[36m0:00:00\u001b[0m\r\n",
      "\u001b[?25hRequirement already satisfied: protobuf>=3.6.1 in /opt/conda/lib/python3.7/site-packages (from tensorflow==2.0) (3.19.4)\r\n",
      "Collecting astor>=0.6.0\r\n",
      "  Downloading astor-0.8.1-py2.py3-none-any.whl (27 kB)\r\n",
      "Requirement already satisfied: keras-preprocessing>=1.0.5 in /opt/conda/lib/python3.7/site-packages (from tensorflow==2.0) (1.1.2)\r\n",
      "Requirement already satisfied: six>=1.10.0 in /opt/conda/lib/python3.7/site-packages (from tensorflow==2.0) (1.15.0)\r\n",
      "Collecting keras-applications>=1.0.8\r\n",
      "  Downloading Keras_Applications-1.0.8-py3-none-any.whl (50 kB)\r\n",
      "\u001b[2K     \u001b[90m━━━━━━━━━━━━━━━━━━━━━━━━━━━━━━━━━━━━━━━━\u001b[0m \u001b[32m50.7/50.7 kB\u001b[0m \u001b[31m4.2 MB/s\u001b[0m eta \u001b[36m0:00:00\u001b[0m\r\n",
      "\u001b[?25hRequirement already satisfied: grpcio>=1.8.6 in /opt/conda/lib/python3.7/site-packages (from tensorflow==2.0) (1.43.0)\r\n",
      "Collecting gast==0.2.2\r\n",
      "  Downloading gast-0.2.2.tar.gz (10 kB)\r\n",
      "  Preparing metadata (setup.py) ... \u001b[?25l-\b \bdone\r\n",
      "\u001b[?25hRequirement already satisfied: google-pasta>=0.1.6 in /opt/conda/lib/python3.7/site-packages (from tensorflow==2.0) (0.2.0)\r\n",
      "Requirement already satisfied: h5py in /opt/conda/lib/python3.7/site-packages (from keras-applications>=1.0.8->tensorflow==2.0) (3.7.0)\r\n",
      "Requirement already satisfied: markdown>=2.6.8 in /opt/conda/lib/python3.7/site-packages (from tensorboard<2.1.0,>=2.0.0->tensorflow==2.0) (3.3.7)\r\n",
      "Requirement already satisfied: google-auth-oauthlib<0.5,>=0.4.1 in /opt/conda/lib/python3.7/site-packages (from tensorboard<2.1.0,>=2.0.0->tensorflow==2.0) (0.4.6)\r\n",
      "Requirement already satisfied: google-auth<2,>=1.6.3 in /opt/conda/lib/python3.7/site-packages (from tensorboard<2.1.0,>=2.0.0->tensorflow==2.0) (1.35.0)\r\n",
      "Requirement already satisfied: setuptools>=41.0.0 in /opt/conda/lib/python3.7/site-packages (from tensorboard<2.1.0,>=2.0.0->tensorflow==2.0) (59.8.0)\r\n",
      "Requirement already satisfied: werkzeug>=0.11.15 in /opt/conda/lib/python3.7/site-packages (from tensorboard<2.1.0,>=2.0.0->tensorflow==2.0) (2.2.2)\r\n",
      "Requirement already satisfied: requests<3,>=2.21.0 in /opt/conda/lib/python3.7/site-packages (from tensorboard<2.1.0,>=2.0.0->tensorflow==2.0) (2.28.1)\r\n",
      "Requirement already satisfied: rsa<5,>=3.1.4 in /opt/conda/lib/python3.7/site-packages (from google-auth<2,>=1.6.3->tensorboard<2.1.0,>=2.0.0->tensorflow==2.0) (4.8)\r\n",
      "Requirement already satisfied: cachetools<5.0,>=2.0.0 in /opt/conda/lib/python3.7/site-packages (from google-auth<2,>=1.6.3->tensorboard<2.1.0,>=2.0.0->tensorflow==2.0) (4.2.4)\r\n",
      "Requirement already satisfied: pyasn1-modules>=0.2.1 in /opt/conda/lib/python3.7/site-packages (from google-auth<2,>=1.6.3->tensorboard<2.1.0,>=2.0.0->tensorflow==2.0) (0.2.7)\r\n",
      "Requirement already satisfied: requests-oauthlib>=0.7.0 in /opt/conda/lib/python3.7/site-packages (from google-auth-oauthlib<0.5,>=0.4.1->tensorboard<2.1.0,>=2.0.0->tensorflow==2.0) (1.3.1)\r\n",
      "Requirement already satisfied: importlib-metadata>=4.4 in /opt/conda/lib/python3.7/site-packages (from markdown>=2.6.8->tensorboard<2.1.0,>=2.0.0->tensorflow==2.0) (4.13.0)\r\n",
      "Requirement already satisfied: charset-normalizer<3,>=2 in /opt/conda/lib/python3.7/site-packages (from requests<3,>=2.21.0->tensorboard<2.1.0,>=2.0.0->tensorflow==2.0) (2.1.0)\r\n",
      "Requirement already satisfied: idna<4,>=2.5 in /opt/conda/lib/python3.7/site-packages (from requests<3,>=2.21.0->tensorboard<2.1.0,>=2.0.0->tensorflow==2.0) (3.3)\r\n",
      "Requirement already satisfied: certifi>=2017.4.17 in /opt/conda/lib/python3.7/site-packages (from requests<3,>=2.21.0->tensorboard<2.1.0,>=2.0.0->tensorflow==2.0) (2022.9.24)\r\n",
      "Requirement already satisfied: urllib3<1.27,>=1.21.1 in /opt/conda/lib/python3.7/site-packages (from requests<3,>=2.21.0->tensorboard<2.1.0,>=2.0.0->tensorflow==2.0) (1.26.12)\r\n",
      "Requirement already satisfied: MarkupSafe>=2.1.1 in /opt/conda/lib/python3.7/site-packages (from werkzeug>=0.11.15->tensorboard<2.1.0,>=2.0.0->tensorflow==2.0) (2.1.1)\r\n",
      "Requirement already satisfied: typing-extensions>=3.6.4 in /opt/conda/lib/python3.7/site-packages (from importlib-metadata>=4.4->markdown>=2.6.8->tensorboard<2.1.0,>=2.0.0->tensorflow==2.0) (4.1.1)\r\n",
      "Requirement already satisfied: zipp>=0.5 in /opt/conda/lib/python3.7/site-packages (from importlib-metadata>=4.4->markdown>=2.6.8->tensorboard<2.1.0,>=2.0.0->tensorflow==2.0) (3.8.0)\r\n",
      "Requirement already satisfied: pyasn1<0.5.0,>=0.4.6 in /opt/conda/lib/python3.7/site-packages (from pyasn1-modules>=0.2.1->google-auth<2,>=1.6.3->tensorboard<2.1.0,>=2.0.0->tensorflow==2.0) (0.4.8)\r\n",
      "Requirement already satisfied: oauthlib>=3.0.0 in /opt/conda/lib/python3.7/site-packages (from requests-oauthlib>=0.7.0->google-auth-oauthlib<0.5,>=0.4.1->tensorboard<2.1.0,>=2.0.0->tensorflow==2.0) (3.2.0)\r\n",
      "Building wheels for collected packages: gast\r\n",
      "  Building wheel for gast (setup.py) ... \u001b[?25l-\b \b\\\b \bdone\r\n",
      "\u001b[?25h  Created wheel for gast: filename=gast-0.2.2-py3-none-any.whl size=7554 sha256=106394148031d68b63140694d1822fc028630e6cce16789368bc97d77a8c633e\r\n",
      "  Stored in directory: /root/.cache/pip/wheels/21/7f/02/420f32a803f7d0967b48dd823da3f558c5166991bfd204eef3\r\n",
      "Successfully built gast\r\n",
      "Installing collected packages: tensorflow-estimator, gast, astor, keras-applications, tensorboard, tensorflow\r\n",
      "  Attempting uninstall: tensorflow-estimator\r\n",
      "    Found existing installation: tensorflow-estimator 2.6.0\r\n",
      "    Uninstalling tensorflow-estimator-2.6.0:\r\n",
      "      Successfully uninstalled tensorflow-estimator-2.6.0\r\n",
      "  Attempting uninstall: gast\r\n",
      "    Found existing installation: gast 0.4.0\r\n",
      "    Uninstalling gast-0.4.0:\r\n",
      "      Successfully uninstalled gast-0.4.0\r\n",
      "  Attempting uninstall: tensorboard\r\n",
      "    Found existing installation: tensorboard 2.10.1\r\n",
      "    Uninstalling tensorboard-2.10.1:\r\n",
      "      Successfully uninstalled tensorboard-2.10.1\r\n",
      "  Attempting uninstall: tensorflow\r\n",
      "    Found existing installation: tensorflow 2.6.4\r\n",
      "    Uninstalling tensorflow-2.6.4:\r\n",
      "      Successfully uninstalled tensorflow-2.6.4\r\n",
      "\u001b[31mERROR: pip's dependency resolver does not currently take into account all the packages that are installed. This behaviour is the source of the following dependency conflicts.\r\n",
      "tensorflow-io 0.21.0 requires tensorflow-io-gcs-filesystem==0.21.0, which is not installed.\r\n",
      "tfx-bsl 1.9.0 requires tensorflow!=2.0.*,!=2.1.*,!=2.2.*,!=2.3.*,!=2.4.*,!=2.5.*,!=2.6.*,!=2.7.*,!=2.8.*,<3,>=1.15.5, but you have tensorflow 2.0.0 which is incompatible.\r\n",
      "tensorflow-transform 1.9.0 requires tensorflow!=2.0.*,!=2.1.*,!=2.2.*,!=2.3.*,!=2.4.*,!=2.5.*,!=2.6.*,!=2.7.*,!=2.8.*,<2.10,>=1.15.5, but you have tensorflow 2.0.0 which is incompatible.\r\n",
      "tensorflow-serving-api 2.9.0 requires tensorflow<3,>=2.9.0, but you have tensorflow 2.0.0 which is incompatible.\r\n",
      "tensorflow-probability 0.14.1 requires gast>=0.3.2, but you have gast 0.2.2 which is incompatible.\r\n",
      "tensorflow-io 0.21.0 requires tensorflow<2.7.0,>=2.6.0, but you have tensorflow 2.0.0 which is incompatible.\r\n",
      "tensorflow-decision-forests 0.2.0 requires tensorflow~=2.6, but you have tensorflow 2.0.0 which is incompatible.\r\n",
      "tensorflow-cloud 0.1.14 requires tensorboard>=2.3.0, but you have tensorboard 2.0.2 which is incompatible.\r\n",
      "pytorch-lightning 1.7.7 requires tensorboard>=2.9.1, but you have tensorboard 2.0.2 which is incompatible.\u001b[0m\u001b[31m\r\n",
      "\u001b[0mSuccessfully installed astor-0.8.1 gast-0.2.2 keras-applications-1.0.8 tensorboard-2.0.2 tensorflow-2.0.0 tensorflow-estimator-2.0.1\r\n",
      "\u001b[33mWARNING: Running pip as the 'root' user can result in broken permissions and conflicting behaviour with the system package manager. It is recommended to use a virtual environment instead: https://pip.pypa.io/warnings/venv\u001b[0m\u001b[33m\r\n",
      "\u001b[0m2.6.4\n"
     ]
    }
   ],
   "source": [
    "!pip install tensorflow==2.0\n",
    "import tensorflow as tf\n",
    "print(tf.__version__)"
   ]
  },
  {
   "cell_type": "code",
   "execution_count": 73,
   "id": "d0e30e62",
   "metadata": {
    "execution": {
     "iopub.execute_input": "2023-02-02T18:43:35.591789Z",
     "iopub.status.busy": "2023-02-02T18:43:35.591395Z",
     "iopub.status.idle": "2023-02-02T18:43:37.045252Z",
     "shell.execute_reply": "2023-02-02T18:43:37.044134Z"
    },
    "papermill": {
     "duration": 1.488267,
     "end_time": "2023-02-02T18:43:37.047777",
     "exception": false,
     "start_time": "2023-02-02T18:43:35.559510",
     "status": "completed"
    },
    "tags": []
   },
   "outputs": [
    {
     "name": "stderr",
     "output_type": "stream",
     "text": [
      "[nltk_data] Downloading collection 'popular'\n",
      "[nltk_data]    | \n",
      "[nltk_data]    | Downloading package cmudict to\n",
      "[nltk_data]    |     /usr/share/nltk_data...\n",
      "[nltk_data]    |   Package cmudict is already up-to-date!\n",
      "[nltk_data]    | Downloading package gazetteers to\n",
      "[nltk_data]    |     /usr/share/nltk_data...\n",
      "[nltk_data]    |   Package gazetteers is already up-to-date!\n",
      "[nltk_data]    | Downloading package genesis to\n",
      "[nltk_data]    |     /usr/share/nltk_data...\n",
      "[nltk_data]    |   Package genesis is already up-to-date!\n",
      "[nltk_data]    | Downloading package gutenberg to\n",
      "[nltk_data]    |     /usr/share/nltk_data...\n",
      "[nltk_data]    |   Package gutenberg is already up-to-date!\n",
      "[nltk_data]    | Downloading package inaugural to\n",
      "[nltk_data]    |     /usr/share/nltk_data...\n",
      "[nltk_data]    |   Package inaugural is already up-to-date!\n",
      "[nltk_data]    | Downloading package movie_reviews to\n",
      "[nltk_data]    |     /usr/share/nltk_data...\n",
      "[nltk_data]    |   Package movie_reviews is already up-to-date!\n",
      "[nltk_data]    | Downloading package names to /usr/share/nltk_data...\n",
      "[nltk_data]    |   Package names is already up-to-date!\n",
      "[nltk_data]    | Downloading package shakespeare to\n",
      "[nltk_data]    |     /usr/share/nltk_data...\n",
      "[nltk_data]    |   Package shakespeare is already up-to-date!\n",
      "[nltk_data]    | Downloading package stopwords to\n",
      "[nltk_data]    |     /usr/share/nltk_data...\n",
      "[nltk_data]    |   Package stopwords is already up-to-date!\n",
      "[nltk_data]    | Downloading package treebank to\n",
      "[nltk_data]    |     /usr/share/nltk_data...\n",
      "[nltk_data]    |   Package treebank is already up-to-date!\n",
      "[nltk_data]    | Downloading package twitter_samples to\n",
      "[nltk_data]    |     /usr/share/nltk_data...\n",
      "[nltk_data]    |   Package twitter_samples is already up-to-date!\n",
      "[nltk_data]    | Downloading package omw to /usr/share/nltk_data...\n",
      "[nltk_data]    |   Package omw is already up-to-date!\n",
      "[nltk_data]    | Downloading package omw-1.4 to\n",
      "[nltk_data]    |     /usr/share/nltk_data...\n",
      "[nltk_data]    | Downloading package wordnet to\n",
      "[nltk_data]    |     /usr/share/nltk_data...\n",
      "[nltk_data]    |   Package wordnet is already up-to-date!\n",
      "[nltk_data]    | Downloading package wordnet2021 to\n",
      "[nltk_data]    |     /usr/share/nltk_data...\n",
      "[nltk_data]    | Downloading package wordnet31 to\n",
      "[nltk_data]    |     /usr/share/nltk_data...\n",
      "[nltk_data]    | Downloading package wordnet_ic to\n",
      "[nltk_data]    |     /usr/share/nltk_data...\n",
      "[nltk_data]    |   Package wordnet_ic is already up-to-date!\n",
      "[nltk_data]    | Downloading package words to /usr/share/nltk_data...\n",
      "[nltk_data]    |   Package words is already up-to-date!\n",
      "[nltk_data]    | Downloading package maxent_ne_chunker to\n",
      "[nltk_data]    |     /usr/share/nltk_data...\n",
      "[nltk_data]    |   Package maxent_ne_chunker is already up-to-date!\n",
      "[nltk_data]    | Downloading package punkt to /usr/share/nltk_data...\n",
      "[nltk_data]    |   Package punkt is already up-to-date!\n",
      "[nltk_data]    | Downloading package snowball_data to\n",
      "[nltk_data]    |     /usr/share/nltk_data...\n",
      "[nltk_data]    |   Package snowball_data is already up-to-date!\n",
      "[nltk_data]    | Downloading package averaged_perceptron_tagger to\n",
      "[nltk_data]    |     /usr/share/nltk_data...\n",
      "[nltk_data]    |   Package averaged_perceptron_tagger is already up-\n",
      "[nltk_data]    |       to-date!\n",
      "[nltk_data]    | \n",
      "[nltk_data]  Done downloading collection popular\n"
     ]
    }
   ],
   "source": [
    "import nltk\n",
    "nltk.download(\"popular\")\n",
    "from nltk.tokenize import word_tokenize"
   ]
  },
  {
   "cell_type": "code",
   "execution_count": 74,
   "id": "378118bf",
   "metadata": {
    "execution": {
     "iopub.execute_input": "2023-02-02T18:43:37.109985Z",
     "iopub.status.busy": "2023-02-02T18:43:37.109043Z",
     "iopub.status.idle": "2023-02-02T18:43:52.598793Z",
     "shell.execute_reply": "2023-02-02T18:43:52.597600Z"
    },
    "papermill": {
     "duration": 15.523398,
     "end_time": "2023-02-02T18:43:52.601699",
     "exception": false,
     "start_time": "2023-02-02T18:43:37.078301",
     "status": "completed"
    },
    "tags": []
   },
   "outputs": [
    {
     "name": "stdout",
     "output_type": "stream",
     "text": [
      "Collecting bert-for-tf2\r\n",
      "  Downloading bert-for-tf2-0.14.9.tar.gz (41 kB)\r\n",
      "\u001b[2K     \u001b[90m━━━━━━━━━━━━━━━━━━━━━━━━━━━━━━━━━━━━━━━\u001b[0m \u001b[32m41.2/41.2 kB\u001b[0m \u001b[31m253.0 kB/s\u001b[0m eta \u001b[36m0:00:00\u001b[0m\r\n",
      "\u001b[?25h  Preparing metadata (setup.py) ... \u001b[?25l-\b \bdone\r\n",
      "\u001b[?25hCollecting py-params>=0.9.6\r\n",
      "  Downloading py-params-0.10.2.tar.gz (7.4 kB)\r\n",
      "  Preparing metadata (setup.py) ... \u001b[?25l-\b \bdone\r\n",
      "\u001b[?25hCollecting params-flow>=0.8.0\r\n",
      "  Downloading params-flow-0.8.2.tar.gz (22 kB)\r\n",
      "  Preparing metadata (setup.py) ... \u001b[?25l-\b \bdone\r\n",
      "\u001b[?25hRequirement already satisfied: numpy in /opt/conda/lib/python3.7/site-packages (from params-flow>=0.8.0->bert-for-tf2) (1.21.6)\r\n",
      "Requirement already satisfied: tqdm in /opt/conda/lib/python3.7/site-packages (from params-flow>=0.8.0->bert-for-tf2) (4.64.0)\r\n",
      "Building wheels for collected packages: bert-for-tf2, params-flow, py-params\r\n",
      "  Building wheel for bert-for-tf2 (setup.py) ... \u001b[?25l-\b \bdone\r\n",
      "\u001b[?25h  Created wheel for bert-for-tf2: filename=bert_for_tf2-0.14.9-py3-none-any.whl size=30535 sha256=0d2fdcfad48d46c8902209a1d50145fca2a9386a460622bb0473ce181789099a\r\n",
      "  Stored in directory: /root/.cache/pip/wheels/47/b6/e5/8c76ec779f54bc5c2f1b57d2200bb9c77616da83873e8acb53\r\n",
      "  Building wheel for params-flow (setup.py) ... \u001b[?25l-\b \b\\\b \bdone\r\n",
      "\u001b[?25h  Created wheel for params-flow: filename=params_flow-0.8.2-py3-none-any.whl size=19472 sha256=c44abf3de2649a9dbe4f98751f08cba3b76fef1a9b7ac23c3c9ac316cf9a0406\r\n",
      "  Stored in directory: /root/.cache/pip/wheels/0e/fc/d2/a44fff33af0f233d7def6e7de413006d57c10e10ad736fe8f5\r\n",
      "  Building wheel for py-params (setup.py) ... \u001b[?25l-\b \bdone\r\n",
      "\u001b[?25h  Created wheel for py-params: filename=py_params-0.10.2-py3-none-any.whl size=7911 sha256=dc80caffc750cc5cad984ecb1e355c14c10d539d6e7718ac63b9a564bc723bd5\r\n",
      "  Stored in directory: /root/.cache/pip/wheels/e1/11/67/33cc51bbee127cb8fb2ba549cd29109b2f22da43ddf9969716\r\n",
      "Successfully built bert-for-tf2 params-flow py-params\r\n",
      "Installing collected packages: py-params, params-flow, bert-for-tf2\r\n",
      "Successfully installed bert-for-tf2-0.14.9 params-flow-0.8.2 py-params-0.10.2\r\n",
      "\u001b[33mWARNING: Running pip as the 'root' user can result in broken permissions and conflicting behaviour with the system package manager. It is recommended to use a virtual environment instead: https://pip.pypa.io/warnings/venv\u001b[0m\u001b[33m\r\n",
      "\u001b[0m"
     ]
    }
   ],
   "source": [
    "!pip install bert-for-tf2"
   ]
  },
  {
   "cell_type": "code",
   "execution_count": 75,
   "id": "bc9ff231",
   "metadata": {
    "execution": {
     "iopub.execute_input": "2023-02-02T18:43:52.667108Z",
     "iopub.status.busy": "2023-02-02T18:43:52.666075Z",
     "iopub.status.idle": "2023-02-02T18:43:52.686094Z",
     "shell.execute_reply": "2023-02-02T18:43:52.685082Z"
    },
    "papermill": {
     "duration": 0.054817,
     "end_time": "2023-02-02T18:43:52.688659",
     "exception": false,
     "start_time": "2023-02-02T18:43:52.633842",
     "status": "completed"
    },
    "tags": []
   },
   "outputs": [],
   "source": [
    "from bert import tokenization\n",
    "from bert.tokenization.bert_tokenization import FullTokenizer"
   ]
  },
  {
   "cell_type": "code",
   "execution_count": 76,
   "id": "31726c3a",
   "metadata": {
    "execution": {
     "iopub.execute_input": "2023-02-02T18:43:52.752138Z",
     "iopub.status.busy": "2023-02-02T18:43:52.751842Z",
     "iopub.status.idle": "2023-02-02T18:43:52.852784Z",
     "shell.execute_reply": "2023-02-02T18:43:52.851816Z"
    },
    "papermill": {
     "duration": 0.135387,
     "end_time": "2023-02-02T18:43:52.854971",
     "exception": false,
     "start_time": "2023-02-02T18:43:52.719584",
     "status": "completed"
    },
    "tags": []
   },
   "outputs": [],
   "source": [
    "vocab_file = bert_layer.resolved_object.vocab_file.asset_path.numpy()\n",
    "do_lower_case = bert_layer.resolved_object.do_lower_case.numpy()\n",
    "tokenizer = FullTokenizer(vocab_file, do_lower_case)\n",
    "\n",
    "def bert_encode(texts, tokenizer, max_len=512):\n",
    "    all_tokens = []\n",
    "    all_masks = []\n",
    "    all_segments = []\n",
    "    \n",
    "    for text in texts:\n",
    "        text = tokenizer.tokenize(text)\n",
    "        \n",
    "        text = text[:max_len-2]\n",
    "        input_sequence = [\"[CLS]\"] + text + [\"[SEP]\"]\n",
    "        pad_len = max_len-len(input_sequence)\n",
    "        \n",
    "        tokens = tokenizer.convert_tokens_to_ids(input_sequence) + [0] * pad_len\n",
    "        pad_masks = [1] * len(input_sequence) + [0] * pad_len\n",
    "        segment_ids = [0] * max_len\n",
    "        \n",
    "        all_tokens.append(tokens)\n",
    "        all_masks.append(pad_masks)\n",
    "        all_segments.append(segment_ids)\n",
    "        \n",
    "    return np.array(all_tokens), np.array(all_masks), np.array(all_segments)"
   ]
  },
  {
   "cell_type": "markdown",
   "id": "fcd79b68",
   "metadata": {
    "papermill": {
     "duration": 0.031088,
     "end_time": "2023-02-02T18:43:52.917373",
     "exception": false,
     "start_time": "2023-02-02T18:43:52.886285",
     "status": "completed"
    },
    "tags": []
   },
   "source": [
    "### Build the Model"
   ]
  },
  {
   "cell_type": "code",
   "execution_count": 77,
   "id": "cacbe35d",
   "metadata": {
    "execution": {
     "iopub.execute_input": "2023-02-02T18:43:52.981144Z",
     "iopub.status.busy": "2023-02-02T18:43:52.980820Z",
     "iopub.status.idle": "2023-02-02T18:43:52.992177Z",
     "shell.execute_reply": "2023-02-02T18:43:52.991304Z"
    },
    "papermill": {
     "duration": 0.045334,
     "end_time": "2023-02-02T18:43:52.994051",
     "exception": false,
     "start_time": "2023-02-02T18:43:52.948717",
     "status": "completed"
    },
    "tags": []
   },
   "outputs": [],
   "source": [
    "def build_model(bert_layer, max_len=512):\n",
    "    input_word_ids = tf.keras.Input(shape=(max_len,), dtype=tf.int32, name=\"input_word_ids\")\n",
    "    input_mask = tf.keras.Input(shape=(max_len,), dtype=tf.int32, name=\"input_mask\")\n",
    "    segment_ids = tf.keras.Input(shape=(max_len,), dtype=tf.int32, name=\"segment_ids\")\n",
    "    \n",
    "    pooled_output, sequence_output = bert_layer([input_word_ids, input_mask, segment_ids])\n",
    "    \n",
    "    clf_output = sequence_output[:, 0, :]\n",
    "    \n",
    "    lay = tf.keras.layers.Dense(64, activation='relu')(clf_output)\n",
    "    lay = tf.keras.layers.Dropout(0.2)(lay)\n",
    "    lay = tf.keras.layers.Dense(32, activation='relu')(lay)\n",
    "    lay = tf.keras.layers.Dropout(0.2)(lay)\n",
    "    out = tf.keras.layers.Dense(2, activation='softmax')(lay)\n",
    "    \n",
    "    model = tf.keras.models.Model(inputs=[input_word_ids, input_mask, segment_ids], outputs=out)\n",
    "    model.compile(tf.keras.optimizers.Adam(lr=2e-5), loss='categorical_crossentropy', metrics=['accuracy'])\n",
    "    \n",
    "    return model"
   ]
  },
  {
   "cell_type": "code",
   "execution_count": 78,
   "id": "75d66d27",
   "metadata": {
    "execution": {
     "iopub.execute_input": "2023-02-02T18:43:53.057767Z",
     "iopub.status.busy": "2023-02-02T18:43:53.056970Z",
     "iopub.status.idle": "2023-02-02T18:43:56.396480Z",
     "shell.execute_reply": "2023-02-02T18:43:56.395440Z"
    },
    "papermill": {
     "duration": 3.374044,
     "end_time": "2023-02-02T18:43:56.399035",
     "exception": false,
     "start_time": "2023-02-02T18:43:53.024991",
     "status": "completed"
    },
    "tags": []
   },
   "outputs": [],
   "source": [
    "max_len = 250\n",
    "train_input = bert_encode(train_X.values, tokenizer, max_len=max_len)\n",
    "test_input = bert_encode(test_x.values, tokenizer, max_len=max_len)\n",
    "train_labels = train_y"
   ]
  },
  {
   "cell_type": "code",
   "execution_count": 79,
   "id": "36bece47",
   "metadata": {
    "execution": {
     "iopub.execute_input": "2023-02-02T18:43:56.465784Z",
     "iopub.status.busy": "2023-02-02T18:43:56.464797Z",
     "iopub.status.idle": "2023-02-02T18:43:56.470747Z",
     "shell.execute_reply": "2023-02-02T18:43:56.469774Z"
    },
    "papermill": {
     "duration": 0.041873,
     "end_time": "2023-02-02T18:43:56.473387",
     "exception": false,
     "start_time": "2023-02-02T18:43:56.431514",
     "status": "completed"
    },
    "tags": []
   },
   "outputs": [
    {
     "name": "stdout",
     "output_type": "stream",
     "text": [
      "['! Residents Return To Destroyed Homes As Washington Wildfire Burns on http://t.co/UcI8stQUg1'\n",
      " '# handbags Genuine Mulberry Antony Cross Body Messenger Bag Dark Oak Soft Buffalo Leather:  å£279.00End Date: W... http://t.co/FTM4RKl8mN'\n",
      " \"#360WiseNews : China's Stock Market Crash: Are There Gems In The Rubble? http://t.co/9Naw3QOQOL\"\n",
      " ...\n",
      " 'å¤} New Ladies Shoulder Tote #Handbag Faux Leather Hobo Purse Cross Body Bag #Womens http://t.co/UooZXauS26 http://t.co/6MGBizjfgd RT en\\x89Û_'\n",
      " \"å¬'Only the sea knows how many are dead' @MSF_Sea after last disaster in #Mediterranean turned into a massgrave  http://t.co/m0utLDif77\"\n",
      " 'åÈMGN-AFRICAå¨ pin:263789F4 åÈ Correction: Tent Collapse Story: Correction: Tent Collapse story åÈ http://t.co/fDJUYvZMrv @wizkidayo']\n"
     ]
    }
   ],
   "source": [
    "labels = label.classes_\n",
    "print(labels)"
   ]
  },
  {
   "cell_type": "code",
   "execution_count": 80,
   "id": "b0c105e6",
   "metadata": {
    "execution": {
     "iopub.execute_input": "2023-02-02T18:43:56.539400Z",
     "iopub.status.busy": "2023-02-02T18:43:56.538700Z",
     "iopub.status.idle": "2023-02-02T18:43:57.498939Z",
     "shell.execute_reply": "2023-02-02T18:43:57.497263Z"
    },
    "papermill": {
     "duration": 0.995628,
     "end_time": "2023-02-02T18:43:57.501661",
     "exception": false,
     "start_time": "2023-02-02T18:43:56.506033",
     "status": "completed"
    },
    "tags": []
   },
   "outputs": [
    {
     "name": "stdout",
     "output_type": "stream",
     "text": [
      "Model: \"model\"\n",
      "__________________________________________________________________________________________________\n",
      "Layer (type)                    Output Shape         Param #     Connected to                     \n",
      "==================================================================================================\n",
      "input_word_ids (InputLayer)     [(None, 250)]        0                                            \n",
      "__________________________________________________________________________________________________\n",
      "input_mask (InputLayer)         [(None, 250)]        0                                            \n",
      "__________________________________________________________________________________________________\n",
      "segment_ids (InputLayer)        [(None, 250)]        0                                            \n",
      "__________________________________________________________________________________________________\n",
      "keras_layer (KerasLayer)        [(None, 768), (None, 109482241   input_word_ids[0][0]             \n",
      "                                                                 input_mask[0][0]                 \n",
      "                                                                 segment_ids[0][0]                \n",
      "__________________________________________________________________________________________________\n",
      "tf.__operators__.getitem (Slici (None, 768)          0           keras_layer[0][1]                \n",
      "__________________________________________________________________________________________________\n",
      "dense (Dense)                   (None, 64)           49216       tf.__operators__.getitem[0][0]   \n",
      "__________________________________________________________________________________________________\n",
      "dropout (Dropout)               (None, 64)           0           dense[0][0]                      \n",
      "__________________________________________________________________________________________________\n",
      "dense_1 (Dense)                 (None, 32)           2080        dropout[0][0]                    \n",
      "__________________________________________________________________________________________________\n",
      "dropout_1 (Dropout)             (None, 32)           0           dense_1[0][0]                    \n",
      "__________________________________________________________________________________________________\n",
      "dense_2 (Dense)                 (None, 2)            66          dropout_1[0][0]                  \n",
      "==================================================================================================\n",
      "Total params: 109,533,603\n",
      "Trainable params: 109,533,602\n",
      "Non-trainable params: 1\n",
      "__________________________________________________________________________________________________\n"
     ]
    },
    {
     "name": "stderr",
     "output_type": "stream",
     "text": [
      "/opt/conda/lib/python3.7/site-packages/keras/optimizer_v2/optimizer_v2.py:356: UserWarning: The `lr` argument is deprecated, use `learning_rate` instead.\n",
      "  \"The `lr` argument is deprecated, use `learning_rate` instead.\")\n"
     ]
    }
   ],
   "source": [
    "model = build_model(bert_layer, max_len=max_len)\n",
    "model.summary()"
   ]
  },
  {
   "cell_type": "markdown",
   "id": "5222b0a8",
   "metadata": {
    "papermill": {
     "duration": 0.032609,
     "end_time": "2023-02-02T18:43:57.567953",
     "exception": false,
     "start_time": "2023-02-02T18:43:57.535344",
     "status": "completed"
    },
    "tags": []
   },
   "source": [
    "### Run Model"
   ]
  },
  {
   "cell_type": "code",
   "execution_count": 81,
   "id": "0b4fc59a",
   "metadata": {
    "execution": {
     "iopub.execute_input": "2023-02-02T18:43:57.635042Z",
     "iopub.status.busy": "2023-02-02T18:43:57.634613Z",
     "iopub.status.idle": "2023-02-02T18:43:57.643523Z",
     "shell.execute_reply": "2023-02-02T18:43:57.641794Z"
    },
    "papermill": {
     "duration": 0.045531,
     "end_time": "2023-02-02T18:43:57.646089",
     "exception": false,
     "start_time": "2023-02-02T18:43:57.600558",
     "status": "completed"
    },
    "tags": []
   },
   "outputs": [
    {
     "name": "stdout",
     "output_type": "stream",
     "text": [
      "[[1. 0.]\n",
      " [0. 1.]\n",
      " [1. 0.]\n",
      " [1. 0.]\n",
      " [1. 0.]]\n"
     ]
    }
   ],
   "source": [
    "label = preprocessing.LabelEncoder()\n",
    "y = label.fit_transform(train_labels)\n",
    "y = to_categorical(y)\n",
    "print(y[:5])"
   ]
  },
  {
   "cell_type": "code",
   "execution_count": 82,
   "id": "7f78bfb0",
   "metadata": {
    "execution": {
     "iopub.execute_input": "2023-02-02T18:43:57.712569Z",
     "iopub.status.busy": "2023-02-02T18:43:57.711633Z",
     "iopub.status.idle": "2023-02-02T18:52:33.072051Z",
     "shell.execute_reply": "2023-02-02T18:52:33.070958Z"
    },
    "papermill": {
     "duration": 515.396269,
     "end_time": "2023-02-02T18:52:33.075016",
     "exception": false,
     "start_time": "2023-02-02T18:43:57.678747",
     "status": "completed"
    },
    "tags": []
   },
   "outputs": [
    {
     "name": "stdout",
     "output_type": "stream",
     "text": [
      "Epoch 1/3\n"
     ]
    },
    {
     "name": "stderr",
     "output_type": "stream",
     "text": [
      "2023-02-02 18:43:57.801261: I tensorflow/compiler/mlir/mlir_graph_optimization_pass.cc:185] None of the MLIR Optimization Passes are enabled (registered 2)\n"
     ]
    },
    {
     "name": "stdout",
     "output_type": "stream",
     "text": [
      "153/153 [==============================] - 173s 1s/step - loss: 0.5168 - accuracy: 0.7498 - val_loss: 0.3926 - val_accuracy: 0.8309\n",
      "\n",
      "Epoch 00001: val_accuracy improved from -inf to 0.83087, saving model to model.h5\n",
      "Epoch 2/3\n",
      "153/153 [==============================] - 158s 1s/step - loss: 0.3775 - accuracy: 0.8463 - val_loss: 0.4141 - val_accuracy: 0.8300\n",
      "\n",
      "Epoch 00002: val_accuracy did not improve from 0.83087\n",
      "Epoch 3/3\n",
      "153/153 [==============================] - 158s 1s/step - loss: 0.2929 - accuracy: 0.8916 - val_loss: 0.5318 - val_accuracy: 0.8235\n",
      "\n",
      "Epoch 00003: val_accuracy did not improve from 0.83087\n"
     ]
    }
   ],
   "source": [
    "checkpoint = tf.keras.callbacks.ModelCheckpoint('model.h5', monitor='val_accuracy', save_best_only=True, verbose=1)\n",
    "earlystopping = tf.keras.callbacks.EarlyStopping(monitor='val_accuracy', patience=5, verbose=1)\n",
    "\n",
    "train_sh = model.fit(\n",
    "    train_input, y,\n",
    "    validation_split=0.2,\n",
    "    epochs=3,\n",
    "    callbacks=[checkpoint, earlystopping],\n",
    "    batch_size=32,\n",
    "    verbose=1\n",
    ")"
   ]
  },
  {
   "cell_type": "markdown",
   "id": "a2a798f1",
   "metadata": {
    "papermill": {
     "duration": 0.054589,
     "end_time": "2023-02-02T18:52:33.184791",
     "exception": false,
     "start_time": "2023-02-02T18:52:33.130202",
     "status": "completed"
    },
    "tags": []
   },
   "source": [
    "## Evaluating the Bert Model"
   ]
  },
  {
   "cell_type": "code",
   "execution_count": 83,
   "id": "807210fa",
   "metadata": {
    "execution": {
     "iopub.execute_input": "2023-02-02T18:52:33.296791Z",
     "iopub.status.busy": "2023-02-02T18:52:33.296420Z",
     "iopub.status.idle": "2023-02-02T18:52:49.107945Z",
     "shell.execute_reply": "2023-02-02T18:52:49.106957Z"
    },
    "papermill": {
     "duration": 15.870991,
     "end_time": "2023-02-02T18:52:49.110729",
     "exception": false,
     "start_time": "2023-02-02T18:52:33.239738",
     "status": "completed"
    },
    "tags": []
   },
   "outputs": [],
   "source": [
    "prediction = model.predict(test_input)"
   ]
  },
  {
   "cell_type": "code",
   "execution_count": 84,
   "id": "6d6d8e23",
   "metadata": {
    "execution": {
     "iopub.execute_input": "2023-02-02T18:52:49.222020Z",
     "iopub.status.busy": "2023-02-02T18:52:49.221698Z",
     "iopub.status.idle": "2023-02-02T18:52:49.229395Z",
     "shell.execute_reply": "2023-02-02T18:52:49.228392Z"
    },
    "papermill": {
     "duration": 0.065437,
     "end_time": "2023-02-02T18:52:49.231590",
     "exception": false,
     "start_time": "2023-02-02T18:52:49.166153",
     "status": "completed"
    },
    "tags": []
   },
   "outputs": [
    {
     "data": {
      "text/plain": [
       "array([[0.97583413, 0.02416586],\n",
       "       [0.9766833 , 0.02331671],\n",
       "       [0.8576337 , 0.14236629],\n",
       "       ...,\n",
       "       [0.9630651 , 0.03693496],\n",
       "       [0.989646  , 0.01035398],\n",
       "       [0.2295117 , 0.77048826]], dtype=float32)"
      ]
     },
     "execution_count": 84,
     "metadata": {},
     "output_type": "execute_result"
    }
   ],
   "source": [
    "prediction"
   ]
  },
  {
   "cell_type": "code",
   "execution_count": 85,
   "id": "609be019",
   "metadata": {
    "execution": {
     "iopub.execute_input": "2023-02-02T18:52:49.343970Z",
     "iopub.status.busy": "2023-02-02T18:52:49.343167Z",
     "iopub.status.idle": "2023-02-02T18:52:49.349532Z",
     "shell.execute_reply": "2023-02-02T18:52:49.348591Z"
    },
    "papermill": {
     "duration": 0.063806,
     "end_time": "2023-02-02T18:52:49.351427",
     "exception": false,
     "start_time": "2023-02-02T18:52:49.287621",
     "status": "completed"
    },
    "tags": []
   },
   "outputs": [
    {
     "data": {
      "text/plain": [
       "(1523, 2)"
      ]
     },
     "execution_count": 85,
     "metadata": {},
     "output_type": "execute_result"
    }
   ],
   "source": [
    "prediction.shape"
   ]
  },
  {
   "cell_type": "code",
   "execution_count": 86,
   "id": "f4cfdca0",
   "metadata": {
    "execution": {
     "iopub.execute_input": "2023-02-02T18:52:49.461459Z",
     "iopub.status.busy": "2023-02-02T18:52:49.460686Z",
     "iopub.status.idle": "2023-02-02T18:52:49.465375Z",
     "shell.execute_reply": "2023-02-02T18:52:49.464563Z"
    },
    "papermill": {
     "duration": 0.061593,
     "end_time": "2023-02-02T18:52:49.467285",
     "exception": false,
     "start_time": "2023-02-02T18:52:49.405692",
     "status": "completed"
    },
    "tags": []
   },
   "outputs": [],
   "source": [
    "pred = np.argmax(prediction, axis = 1)"
   ]
  },
  {
   "cell_type": "code",
   "execution_count": 87,
   "id": "e1fc7ab8",
   "metadata": {
    "execution": {
     "iopub.execute_input": "2023-02-02T18:52:49.578127Z",
     "iopub.status.busy": "2023-02-02T18:52:49.577293Z",
     "iopub.status.idle": "2023-02-02T18:52:49.583557Z",
     "shell.execute_reply": "2023-02-02T18:52:49.582539Z"
    },
    "papermill": {
     "duration": 0.0634,
     "end_time": "2023-02-02T18:52:49.585571",
     "exception": false,
     "start_time": "2023-02-02T18:52:49.522171",
     "status": "completed"
    },
    "tags": []
   },
   "outputs": [
    {
     "data": {
      "text/plain": [
       "(1523,)"
      ]
     },
     "execution_count": 87,
     "metadata": {},
     "output_type": "execute_result"
    }
   ],
   "source": [
    "pred.shape"
   ]
  },
  {
   "cell_type": "code",
   "execution_count": 88,
   "id": "7a9c85cd",
   "metadata": {
    "execution": {
     "iopub.execute_input": "2023-02-02T18:52:49.695672Z",
     "iopub.status.busy": "2023-02-02T18:52:49.695396Z",
     "iopub.status.idle": "2023-02-02T18:52:49.701569Z",
     "shell.execute_reply": "2023-02-02T18:52:49.700641Z"
    },
    "papermill": {
     "duration": 0.063677,
     "end_time": "2023-02-02T18:52:49.703543",
     "exception": false,
     "start_time": "2023-02-02T18:52:49.639866",
     "status": "completed"
    },
    "tags": []
   },
   "outputs": [
    {
     "data": {
      "text/plain": [
       "array([0, 0, 0, ..., 0, 0, 1])"
      ]
     },
     "execution_count": 88,
     "metadata": {},
     "output_type": "execute_result"
    }
   ],
   "source": [
    "pred"
   ]
  },
  {
   "cell_type": "code",
   "execution_count": 89,
   "id": "51be5b81",
   "metadata": {
    "execution": {
     "iopub.execute_input": "2023-02-02T18:52:49.813774Z",
     "iopub.status.busy": "2023-02-02T18:52:49.813007Z",
     "iopub.status.idle": "2023-02-02T18:52:49.820230Z",
     "shell.execute_reply": "2023-02-02T18:52:49.819289Z"
    },
    "papermill": {
     "duration": 0.064278,
     "end_time": "2023-02-02T18:52:49.822144",
     "exception": false,
     "start_time": "2023-02-02T18:52:49.757866",
     "status": "completed"
    },
    "tags": []
   },
   "outputs": [
    {
     "data": {
      "text/plain": [
       "0.8437294812869337"
      ]
     },
     "execution_count": 89,
     "metadata": {},
     "output_type": "execute_result"
    }
   ],
   "source": [
    "from sklearn.metrics import accuracy_score\n",
    "accuracy_score(test_y, pred)"
   ]
  },
  {
   "cell_type": "code",
   "execution_count": 90,
   "id": "0e52516c",
   "metadata": {
    "execution": {
     "iopub.execute_input": "2023-02-02T18:52:49.939978Z",
     "iopub.status.busy": "2023-02-02T18:52:49.939696Z",
     "iopub.status.idle": "2023-02-02T18:52:49.951288Z",
     "shell.execute_reply": "2023-02-02T18:52:49.950374Z"
    },
    "papermill": {
     "duration": 0.077096,
     "end_time": "2023-02-02T18:52:49.953422",
     "exception": false,
     "start_time": "2023-02-02T18:52:49.876326",
     "status": "completed"
    },
    "tags": []
   },
   "outputs": [
    {
     "data": {
      "text/html": [
       "<div>\n",
       "<style scoped>\n",
       "    .dataframe tbody tr th:only-of-type {\n",
       "        vertical-align: middle;\n",
       "    }\n",
       "\n",
       "    .dataframe tbody tr th {\n",
       "        vertical-align: top;\n",
       "    }\n",
       "\n",
       "    .dataframe thead th {\n",
       "        text-align: right;\n",
       "    }\n",
       "</style>\n",
       "<table border=\"1\" class=\"dataframe\">\n",
       "  <thead>\n",
       "    <tr style=\"text-align: right;\">\n",
       "      <th></th>\n",
       "      <th>text</th>\n",
       "    </tr>\n",
       "  </thead>\n",
       "  <tbody>\n",
       "    <tr>\n",
       "      <th>0</th>\n",
       "      <td>Just happened a terrible car crash</td>\n",
       "    </tr>\n",
       "    <tr>\n",
       "      <th>1</th>\n",
       "      <td>Heard about #earthquake is different cities, s...</td>\n",
       "    </tr>\n",
       "    <tr>\n",
       "      <th>2</th>\n",
       "      <td>there is a forest fire at spot pond, geese are...</td>\n",
       "    </tr>\n",
       "    <tr>\n",
       "      <th>3</th>\n",
       "      <td>Apocalypse lighting. #Spokane #wildfires</td>\n",
       "    </tr>\n",
       "    <tr>\n",
       "      <th>4</th>\n",
       "      <td>Typhoon Soudelor kills 28 in China and Taiwan</td>\n",
       "    </tr>\n",
       "    <tr>\n",
       "      <th>...</th>\n",
       "      <td>...</td>\n",
       "    </tr>\n",
       "    <tr>\n",
       "      <th>3258</th>\n",
       "      <td>EARTHQUAKE SAFETY LOS ANGELES ÛÒ SAFETY FASTE...</td>\n",
       "    </tr>\n",
       "    <tr>\n",
       "      <th>3259</th>\n",
       "      <td>Storm in RI worse than last hurricane. My city...</td>\n",
       "    </tr>\n",
       "    <tr>\n",
       "      <th>3260</th>\n",
       "      <td>Green Line derailment in Chicago http://t.co/U...</td>\n",
       "    </tr>\n",
       "    <tr>\n",
       "      <th>3261</th>\n",
       "      <td>MEG issues Hazardous Weather Outlook (HWO) htt...</td>\n",
       "    </tr>\n",
       "    <tr>\n",
       "      <th>3262</th>\n",
       "      <td>#CityofCalgary has activated its Municipal Eme...</td>\n",
       "    </tr>\n",
       "  </tbody>\n",
       "</table>\n",
       "<p>3263 rows × 1 columns</p>\n",
       "</div>"
      ],
      "text/plain": [
       "                                                   text\n",
       "0                    Just happened a terrible car crash\n",
       "1     Heard about #earthquake is different cities, s...\n",
       "2     there is a forest fire at spot pond, geese are...\n",
       "3              Apocalypse lighting. #Spokane #wildfires\n",
       "4         Typhoon Soudelor kills 28 in China and Taiwan\n",
       "...                                                 ...\n",
       "3258  EARTHQUAKE SAFETY LOS ANGELES ÛÒ SAFETY FASTE...\n",
       "3259  Storm in RI worse than last hurricane. My city...\n",
       "3260  Green Line derailment in Chicago http://t.co/U...\n",
       "3261  MEG issues Hazardous Weather Outlook (HWO) htt...\n",
       "3262  #CityofCalgary has activated its Municipal Eme...\n",
       "\n",
       "[3263 rows x 1 columns]"
      ]
     },
     "execution_count": 90,
     "metadata": {},
     "output_type": "execute_result"
    }
   ],
   "source": [
    "test"
   ]
  },
  {
   "cell_type": "code",
   "execution_count": 91,
   "id": "5b83b68c",
   "metadata": {
    "execution": {
     "iopub.execute_input": "2023-02-02T18:52:50.065780Z",
     "iopub.status.busy": "2023-02-02T18:52:50.065009Z",
     "iopub.status.idle": "2023-02-02T18:52:50.097644Z",
     "shell.execute_reply": "2023-02-02T18:52:50.096814Z"
    },
    "papermill": {
     "duration": 0.090208,
     "end_time": "2023-02-02T18:52:50.099777",
     "exception": false,
     "start_time": "2023-02-02T18:52:50.009569",
     "status": "completed"
    },
    "tags": []
   },
   "outputs": [],
   "source": [
    "#Remove Hashtags\n",
    "test['text'].replace( { r\"#(\\w+)\" : '' }, inplace= True, regex = True)\n",
    "\n",
    "#Remove Mention\n",
    "test['text'].replace( { r\"@(\\w+)\" : '' }, inplace= True, regex = True)\n",
    "\n",
    "#Remove URL\n",
    "test['text'].astype(str).replace( { r\"http\\S+\" : '' }, inplace= True, regex = True)\n",
    "\n",
    "test['text']=train['text'].str.lower()"
   ]
  },
  {
   "cell_type": "markdown",
   "id": "63b5cd3c",
   "metadata": {
    "papermill": {
     "duration": 0.054707,
     "end_time": "2023-02-02T18:52:50.209170",
     "exception": false,
     "start_time": "2023-02-02T18:52:50.154463",
     "status": "completed"
    },
    "tags": []
   },
   "source": [
    "## Predicting final test labels"
   ]
  },
  {
   "cell_type": "code",
   "execution_count": 92,
   "id": "88c0096c",
   "metadata": {
    "execution": {
     "iopub.execute_input": "2023-02-02T18:52:50.323869Z",
     "iopub.status.busy": "2023-02-02T18:52:50.323555Z",
     "iopub.status.idle": "2023-02-02T18:52:50.327962Z",
     "shell.execute_reply": "2023-02-02T18:52:50.327020Z"
    },
    "papermill": {
     "duration": 0.066675,
     "end_time": "2023-02-02T18:52:50.329964",
     "exception": false,
     "start_time": "2023-02-02T18:52:50.263289",
     "status": "completed"
    },
    "tags": []
   },
   "outputs": [],
   "source": [
    "test_x = test['text']"
   ]
  },
  {
   "cell_type": "code",
   "execution_count": 93,
   "id": "3a765695",
   "metadata": {
    "execution": {
     "iopub.execute_input": "2023-02-02T18:52:50.440524Z",
     "iopub.status.busy": "2023-02-02T18:52:50.440227Z",
     "iopub.status.idle": "2023-02-02T18:52:52.054093Z",
     "shell.execute_reply": "2023-02-02T18:52:52.053075Z"
    },
    "papermill": {
     "duration": 1.672032,
     "end_time": "2023-02-02T18:52:52.056834",
     "exception": false,
     "start_time": "2023-02-02T18:52:50.384802",
     "status": "completed"
    },
    "tags": []
   },
   "outputs": [],
   "source": [
    "test_final = bert_encode(test_x.values, tokenizer, max_len=max_len)"
   ]
  },
  {
   "cell_type": "code",
   "execution_count": 94,
   "id": "bc2d3eca",
   "metadata": {
    "execution": {
     "iopub.execute_input": "2023-02-02T18:52:52.169478Z",
     "iopub.status.busy": "2023-02-02T18:52:52.168585Z",
     "iopub.status.idle": "2023-02-02T18:53:33.167131Z",
     "shell.execute_reply": "2023-02-02T18:53:33.166103Z"
    },
    "papermill": {
     "duration": 41.057186,
     "end_time": "2023-02-02T18:53:33.169768",
     "exception": false,
     "start_time": "2023-02-02T18:52:52.112582",
     "status": "completed"
    },
    "tags": []
   },
   "outputs": [],
   "source": [
    "prediction = model.predict(test_final)"
   ]
  },
  {
   "cell_type": "code",
   "execution_count": 95,
   "id": "c2cd998f",
   "metadata": {
    "execution": {
     "iopub.execute_input": "2023-02-02T18:53:33.282579Z",
     "iopub.status.busy": "2023-02-02T18:53:33.281642Z",
     "iopub.status.idle": "2023-02-02T18:53:33.286821Z",
     "shell.execute_reply": "2023-02-02T18:53:33.285943Z"
    },
    "papermill": {
     "duration": 0.063,
     "end_time": "2023-02-02T18:53:33.288781",
     "exception": false,
     "start_time": "2023-02-02T18:53:33.225781",
     "status": "completed"
    },
    "tags": []
   },
   "outputs": [],
   "source": [
    "pred = np.argmax(prediction, axis = 1)"
   ]
  },
  {
   "cell_type": "code",
   "execution_count": 96,
   "id": "f5cb05c1",
   "metadata": {
    "execution": {
     "iopub.execute_input": "2023-02-02T18:53:33.400271Z",
     "iopub.status.busy": "2023-02-02T18:53:33.399589Z",
     "iopub.status.idle": "2023-02-02T18:53:33.405658Z",
     "shell.execute_reply": "2023-02-02T18:53:33.404739Z"
    },
    "papermill": {
     "duration": 0.064113,
     "end_time": "2023-02-02T18:53:33.407692",
     "exception": false,
     "start_time": "2023-02-02T18:53:33.343579",
     "status": "completed"
    },
    "tags": []
   },
   "outputs": [
    {
     "data": {
      "text/plain": [
       "array([1, 1, 1, ..., 1, 0, 0])"
      ]
     },
     "execution_count": 96,
     "metadata": {},
     "output_type": "execute_result"
    }
   ],
   "source": [
    "pred"
   ]
  },
  {
   "cell_type": "code",
   "execution_count": 97,
   "id": "51fbbb76",
   "metadata": {
    "execution": {
     "iopub.execute_input": "2023-02-02T18:53:33.562155Z",
     "iopub.status.busy": "2023-02-02T18:53:33.561799Z",
     "iopub.status.idle": "2023-02-02T18:53:33.567733Z",
     "shell.execute_reply": "2023-02-02T18:53:33.566815Z"
    },
    "papermill": {
     "duration": 0.107335,
     "end_time": "2023-02-02T18:53:33.570054",
     "exception": false,
     "start_time": "2023-02-02T18:53:33.462719",
     "status": "completed"
    },
    "tags": []
   },
   "outputs": [
    {
     "data": {
      "text/plain": [
       "numpy.ndarray"
      ]
     },
     "execution_count": 97,
     "metadata": {},
     "output_type": "execute_result"
    }
   ],
   "source": [
    "type(pred)"
   ]
  },
  {
   "cell_type": "code",
   "execution_count": 98,
   "id": "c0516f16",
   "metadata": {
    "execution": {
     "iopub.execute_input": "2023-02-02T18:53:33.681640Z",
     "iopub.status.busy": "2023-02-02T18:53:33.680938Z",
     "iopub.status.idle": "2023-02-02T18:53:33.697775Z",
     "shell.execute_reply": "2023-02-02T18:53:33.696799Z"
    },
    "papermill": {
     "duration": 0.074671,
     "end_time": "2023-02-02T18:53:33.699784",
     "exception": false,
     "start_time": "2023-02-02T18:53:33.625113",
     "status": "completed"
    },
    "tags": []
   },
   "outputs": [
    {
     "data": {
      "text/plain": [
       "array([[    0,     0],\n",
       "       [    2,     0],\n",
       "       [    3,     0],\n",
       "       ...,\n",
       "       [10868,     0],\n",
       "       [10874,     0],\n",
       "       [10875,     0]])"
      ]
     },
     "execution_count": 98,
     "metadata": {},
     "output_type": "execute_result"
    }
   ],
   "source": [
    "import pandas as pd \n",
    "data = pd.read_csv('/kaggle/input/nlp-getting-started/sample_submission.csv', sep=',') \n",
    "data.values # print all the contents of the CSV file "
   ]
  },
  {
   "cell_type": "code",
   "execution_count": 99,
   "id": "a31cac3f",
   "metadata": {
    "execution": {
     "iopub.execute_input": "2023-02-02T18:53:33.812014Z",
     "iopub.status.busy": "2023-02-02T18:53:33.811681Z",
     "iopub.status.idle": "2023-02-02T18:53:33.823367Z",
     "shell.execute_reply": "2023-02-02T18:53:33.822509Z"
    },
    "papermill": {
     "duration": 0.069691,
     "end_time": "2023-02-02T18:53:33.825243",
     "exception": false,
     "start_time": "2023-02-02T18:53:33.755552",
     "status": "completed"
    },
    "tags": []
   },
   "outputs": [
    {
     "data": {
      "text/html": [
       "<div>\n",
       "<style scoped>\n",
       "    .dataframe tbody tr th:only-of-type {\n",
       "        vertical-align: middle;\n",
       "    }\n",
       "\n",
       "    .dataframe tbody tr th {\n",
       "        vertical-align: top;\n",
       "    }\n",
       "\n",
       "    .dataframe thead th {\n",
       "        text-align: right;\n",
       "    }\n",
       "</style>\n",
       "<table border=\"1\" class=\"dataframe\">\n",
       "  <thead>\n",
       "    <tr style=\"text-align: right;\">\n",
       "      <th></th>\n",
       "      <th>id</th>\n",
       "      <th>target</th>\n",
       "    </tr>\n",
       "  </thead>\n",
       "  <tbody>\n",
       "    <tr>\n",
       "      <th>0</th>\n",
       "      <td>0</td>\n",
       "      <td>0</td>\n",
       "    </tr>\n",
       "    <tr>\n",
       "      <th>1</th>\n",
       "      <td>2</td>\n",
       "      <td>0</td>\n",
       "    </tr>\n",
       "    <tr>\n",
       "      <th>2</th>\n",
       "      <td>3</td>\n",
       "      <td>0</td>\n",
       "    </tr>\n",
       "    <tr>\n",
       "      <th>3</th>\n",
       "      <td>9</td>\n",
       "      <td>0</td>\n",
       "    </tr>\n",
       "    <tr>\n",
       "      <th>4</th>\n",
       "      <td>11</td>\n",
       "      <td>0</td>\n",
       "    </tr>\n",
       "    <tr>\n",
       "      <th>...</th>\n",
       "      <td>...</td>\n",
       "      <td>...</td>\n",
       "    </tr>\n",
       "    <tr>\n",
       "      <th>3258</th>\n",
       "      <td>10861</td>\n",
       "      <td>0</td>\n",
       "    </tr>\n",
       "    <tr>\n",
       "      <th>3259</th>\n",
       "      <td>10865</td>\n",
       "      <td>0</td>\n",
       "    </tr>\n",
       "    <tr>\n",
       "      <th>3260</th>\n",
       "      <td>10868</td>\n",
       "      <td>0</td>\n",
       "    </tr>\n",
       "    <tr>\n",
       "      <th>3261</th>\n",
       "      <td>10874</td>\n",
       "      <td>0</td>\n",
       "    </tr>\n",
       "    <tr>\n",
       "      <th>3262</th>\n",
       "      <td>10875</td>\n",
       "      <td>0</td>\n",
       "    </tr>\n",
       "  </tbody>\n",
       "</table>\n",
       "<p>3263 rows × 2 columns</p>\n",
       "</div>"
      ],
      "text/plain": [
       "         id  target\n",
       "0         0       0\n",
       "1         2       0\n",
       "2         3       0\n",
       "3         9       0\n",
       "4        11       0\n",
       "...     ...     ...\n",
       "3258  10861       0\n",
       "3259  10865       0\n",
       "3260  10868       0\n",
       "3261  10874       0\n",
       "3262  10875       0\n",
       "\n",
       "[3263 rows x 2 columns]"
      ]
     },
     "execution_count": 99,
     "metadata": {},
     "output_type": "execute_result"
    }
   ],
   "source": [
    "data"
   ]
  },
  {
   "cell_type": "code",
   "execution_count": 100,
   "id": "968bd131",
   "metadata": {
    "execution": {
     "iopub.execute_input": "2023-02-02T18:53:33.942970Z",
     "iopub.status.busy": "2023-02-02T18:53:33.942618Z",
     "iopub.status.idle": "2023-02-02T18:53:33.953768Z",
     "shell.execute_reply": "2023-02-02T18:53:33.952769Z"
    },
    "papermill": {
     "duration": 0.074412,
     "end_time": "2023-02-02T18:53:33.955999",
     "exception": false,
     "start_time": "2023-02-02T18:53:33.881587",
     "status": "completed"
    },
    "tags": []
   },
   "outputs": [
    {
     "data": {
      "text/html": [
       "<div>\n",
       "<style scoped>\n",
       "    .dataframe tbody tr th:only-of-type {\n",
       "        vertical-align: middle;\n",
       "    }\n",
       "\n",
       "    .dataframe tbody tr th {\n",
       "        vertical-align: top;\n",
       "    }\n",
       "\n",
       "    .dataframe thead th {\n",
       "        text-align: right;\n",
       "    }\n",
       "</style>\n",
       "<table border=\"1\" class=\"dataframe\">\n",
       "  <thead>\n",
       "    <tr style=\"text-align: right;\">\n",
       "      <th></th>\n",
       "      <th>target</th>\n",
       "    </tr>\n",
       "  </thead>\n",
       "  <tbody>\n",
       "    <tr>\n",
       "      <th>0</th>\n",
       "      <td>1</td>\n",
       "    </tr>\n",
       "    <tr>\n",
       "      <th>1</th>\n",
       "      <td>1</td>\n",
       "    </tr>\n",
       "    <tr>\n",
       "      <th>2</th>\n",
       "      <td>1</td>\n",
       "    </tr>\n",
       "    <tr>\n",
       "      <th>3</th>\n",
       "      <td>1</td>\n",
       "    </tr>\n",
       "    <tr>\n",
       "      <th>4</th>\n",
       "      <td>1</td>\n",
       "    </tr>\n",
       "    <tr>\n",
       "      <th>...</th>\n",
       "      <td>...</td>\n",
       "    </tr>\n",
       "    <tr>\n",
       "      <th>3258</th>\n",
       "      <td>0</td>\n",
       "    </tr>\n",
       "    <tr>\n",
       "      <th>3259</th>\n",
       "      <td>0</td>\n",
       "    </tr>\n",
       "    <tr>\n",
       "      <th>3260</th>\n",
       "      <td>1</td>\n",
       "    </tr>\n",
       "    <tr>\n",
       "      <th>3261</th>\n",
       "      <td>0</td>\n",
       "    </tr>\n",
       "    <tr>\n",
       "      <th>3262</th>\n",
       "      <td>0</td>\n",
       "    </tr>\n",
       "  </tbody>\n",
       "</table>\n",
       "<p>3263 rows × 1 columns</p>\n",
       "</div>"
      ],
      "text/plain": [
       "      target\n",
       "0          1\n",
       "1          1\n",
       "2          1\n",
       "3          1\n",
       "4          1\n",
       "...      ...\n",
       "3258       0\n",
       "3259       0\n",
       "3260       1\n",
       "3261       0\n",
       "3262       0\n",
       "\n",
       "[3263 rows x 1 columns]"
      ]
     },
     "execution_count": 100,
     "metadata": {},
     "output_type": "execute_result"
    }
   ],
   "source": [
    "df = pd.DataFrame(pred, columns = ['target'])\n",
    "df"
   ]
  },
  {
   "cell_type": "code",
   "execution_count": 101,
   "id": "f43c615b",
   "metadata": {
    "execution": {
     "iopub.execute_input": "2023-02-02T18:53:34.071134Z",
     "iopub.status.busy": "2023-02-02T18:53:34.070763Z",
     "iopub.status.idle": "2023-02-02T18:53:34.075822Z",
     "shell.execute_reply": "2023-02-02T18:53:34.074898Z"
    },
    "papermill": {
     "duration": 0.065018,
     "end_time": "2023-02-02T18:53:34.077813",
     "exception": false,
     "start_time": "2023-02-02T18:53:34.012795",
     "status": "completed"
    },
    "tags": []
   },
   "outputs": [],
   "source": [
    "data['target']=df['target']"
   ]
  },
  {
   "cell_type": "code",
   "execution_count": 102,
   "id": "a282cb17",
   "metadata": {
    "execution": {
     "iopub.execute_input": "2023-02-02T18:53:34.192326Z",
     "iopub.status.busy": "2023-02-02T18:53:34.191274Z",
     "iopub.status.idle": "2023-02-02T18:53:34.202134Z",
     "shell.execute_reply": "2023-02-02T18:53:34.201125Z"
    },
    "papermill": {
     "duration": 0.070318,
     "end_time": "2023-02-02T18:53:34.204155",
     "exception": false,
     "start_time": "2023-02-02T18:53:34.133837",
     "status": "completed"
    },
    "tags": []
   },
   "outputs": [
    {
     "data": {
      "text/html": [
       "<div>\n",
       "<style scoped>\n",
       "    .dataframe tbody tr th:only-of-type {\n",
       "        vertical-align: middle;\n",
       "    }\n",
       "\n",
       "    .dataframe tbody tr th {\n",
       "        vertical-align: top;\n",
       "    }\n",
       "\n",
       "    .dataframe thead th {\n",
       "        text-align: right;\n",
       "    }\n",
       "</style>\n",
       "<table border=\"1\" class=\"dataframe\">\n",
       "  <thead>\n",
       "    <tr style=\"text-align: right;\">\n",
       "      <th></th>\n",
       "      <th>id</th>\n",
       "      <th>target</th>\n",
       "    </tr>\n",
       "  </thead>\n",
       "  <tbody>\n",
       "    <tr>\n",
       "      <th>0</th>\n",
       "      <td>0</td>\n",
       "      <td>1</td>\n",
       "    </tr>\n",
       "    <tr>\n",
       "      <th>1</th>\n",
       "      <td>2</td>\n",
       "      <td>1</td>\n",
       "    </tr>\n",
       "    <tr>\n",
       "      <th>2</th>\n",
       "      <td>3</td>\n",
       "      <td>1</td>\n",
       "    </tr>\n",
       "    <tr>\n",
       "      <th>3</th>\n",
       "      <td>9</td>\n",
       "      <td>1</td>\n",
       "    </tr>\n",
       "    <tr>\n",
       "      <th>4</th>\n",
       "      <td>11</td>\n",
       "      <td>1</td>\n",
       "    </tr>\n",
       "    <tr>\n",
       "      <th>...</th>\n",
       "      <td>...</td>\n",
       "      <td>...</td>\n",
       "    </tr>\n",
       "    <tr>\n",
       "      <th>3258</th>\n",
       "      <td>10861</td>\n",
       "      <td>0</td>\n",
       "    </tr>\n",
       "    <tr>\n",
       "      <th>3259</th>\n",
       "      <td>10865</td>\n",
       "      <td>0</td>\n",
       "    </tr>\n",
       "    <tr>\n",
       "      <th>3260</th>\n",
       "      <td>10868</td>\n",
       "      <td>1</td>\n",
       "    </tr>\n",
       "    <tr>\n",
       "      <th>3261</th>\n",
       "      <td>10874</td>\n",
       "      <td>0</td>\n",
       "    </tr>\n",
       "    <tr>\n",
       "      <th>3262</th>\n",
       "      <td>10875</td>\n",
       "      <td>0</td>\n",
       "    </tr>\n",
       "  </tbody>\n",
       "</table>\n",
       "<p>3263 rows × 2 columns</p>\n",
       "</div>"
      ],
      "text/plain": [
       "         id  target\n",
       "0         0       1\n",
       "1         2       1\n",
       "2         3       1\n",
       "3         9       1\n",
       "4        11       1\n",
       "...     ...     ...\n",
       "3258  10861       0\n",
       "3259  10865       0\n",
       "3260  10868       1\n",
       "3261  10874       0\n",
       "3262  10875       0\n",
       "\n",
       "[3263 rows x 2 columns]"
      ]
     },
     "execution_count": 102,
     "metadata": {},
     "output_type": "execute_result"
    }
   ],
   "source": [
    "data"
   ]
  },
  {
   "cell_type": "code",
   "execution_count": 103,
   "id": "725684b5",
   "metadata": {
    "execution": {
     "iopub.execute_input": "2023-02-02T18:53:34.322093Z",
     "iopub.status.busy": "2023-02-02T18:53:34.321140Z",
     "iopub.status.idle": "2023-02-02T18:53:34.333138Z",
     "shell.execute_reply": "2023-02-02T18:53:34.332234Z"
    },
    "papermill": {
     "duration": 0.072956,
     "end_time": "2023-02-02T18:53:34.335221",
     "exception": false,
     "start_time": "2023-02-02T18:53:34.262265",
     "status": "completed"
    },
    "tags": []
   },
   "outputs": [],
   "source": [
    "data.to_csv('final_submission.csv', index=False)"
   ]
  },
  {
   "cell_type": "code",
   "execution_count": null,
   "id": "134a9801",
   "metadata": {
    "papermill": {
     "duration": 0.057035,
     "end_time": "2023-02-02T18:53:34.450743",
     "exception": false,
     "start_time": "2023-02-02T18:53:34.393708",
     "status": "completed"
    },
    "tags": []
   },
   "outputs": [],
   "source": []
  }
 ],
 "metadata": {
  "kernelspec": {
   "display_name": "Python 3",
   "language": "python",
   "name": "python3"
  },
  "language_info": {
   "codemirror_mode": {
    "name": "ipython",
    "version": 3
   },
   "file_extension": ".py",
   "mimetype": "text/x-python",
   "name": "python",
   "nbconvert_exporter": "python",
   "pygments_lexer": "ipython3",
   "version": "3.7.12"
  },
  "papermill": {
   "default_parameters": {},
   "duration": 847.774943,
   "end_time": "2023-02-02T18:53:37.534979",
   "environment_variables": {},
   "exception": null,
   "input_path": "__notebook__.ipynb",
   "output_path": "__notebook__.ipynb",
   "parameters": {},
   "start_time": "2023-02-02T18:39:29.760036",
   "version": "2.3.4"
  }
 },
 "nbformat": 4,
 "nbformat_minor": 5
}
